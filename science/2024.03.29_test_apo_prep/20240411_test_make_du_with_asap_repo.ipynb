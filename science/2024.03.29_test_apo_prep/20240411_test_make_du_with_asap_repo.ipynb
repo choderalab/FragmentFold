{
 "cells": [
  {
   "cell_type": "markdown",
   "source": [
    "# Imports"
   ],
   "metadata": {
    "collapsed": false
   },
   "id": "6250a33ef1f35cdc"
  },
  {
   "cell_type": "code",
   "outputs": [],
   "source": [
    "from asapdiscovery.modeling.protein_prep import LigandTransferProteinPrepper\n",
    "from asapdiscovery.data.schema.complex import Complex\n",
    "from asapdiscovery.data.schema.target import Target\n",
    "from pathlib import Path"
   ],
   "metadata": {
    "collapsed": false
   },
   "id": "caeea986348bc867",
   "execution_count": null
  },
  {
   "cell_type": "code",
   "outputs": [],
   "source": [
    "data_path = Path(\"/Users/alexpayne/Scientific_Projects/fragment-fold/data\") "
   ],
   "metadata": {
    "collapsed": false
   },
   "id": "743b1b86ed70f7a8",
   "execution_count": null
  },
  {
   "cell_type": "code",
   "outputs": [],
   "source": [
    "ref_complex_path = data_path / \"ns2-ns3b-zika-fragment-screen/fragment-screen-inputs/output/\""
   ],
   "metadata": {
    "collapsed": false
   },
   "id": "cbe9baf44e43d8fb",
   "execution_count": null
  },
  {
   "cell_type": "code",
   "outputs": [],
   "source": [
    "# paths = list(ref_complex_path.glob(\"lig_1_protein.pdb\"))"
   ],
   "metadata": {
    "collapsed": false
   },
   "id": "a4dab5ce7c15a3b1",
   "execution_count": null
  },
  {
   "cell_type": "code",
   "outputs": [],
   "source": [
    "# ref_complexes = [Complex.from_pdb(path, target_kwargs=dict(target_name=path.stem)) for path in paths]"
   ],
   "metadata": {
    "collapsed": false
   },
   "id": "1f076dbce24802e6",
   "execution_count": null
  },
  {
   "cell_type": "code",
   "outputs": [],
   "source": [
    "# p = LigandTransferProteinPrepper(inputs=LigandTransferProteinPrepperInputs(reference_complexes=ref_complexes[0:5], ref_chain=\"B\", active_site_chain=\"A\"))"
   ],
   "metadata": {
    "collapsed": false
   },
   "id": "50d538bcad123d2e",
   "execution_count": null
  },
  {
   "cell_type": "code",
   "outputs": [],
   "source": [
    "# target = Target.from_pdb(data_path / \"ns2-ns3b-zika-fragment-screen/alphafold-flavivirus-structures/NP_722463.1.pdb\", target_name=\"NP_722463.1\")"
   ],
   "metadata": {
    "collapsed": false
   },
   "id": "fd9a234cbd0da38d",
   "execution_count": null
  },
  {
   "cell_type": "code",
   "outputs": [],
   "source": [
    "# prepped_complexes = p.prep(inputs=[target])"
   ],
   "metadata": {
    "collapsed": false
   },
   "id": "9571a353b46f3378",
   "execution_count": null
  },
  {
   "cell_type": "code",
   "outputs": [],
   "source": [
    "# du = prepped_complexes[0].target.to_oedu()"
   ],
   "metadata": {
    "collapsed": false
   },
   "id": "5d4242ff893dd307",
   "execution_count": null
  },
  {
   "cell_type": "code",
   "outputs": [],
   "source": [
    "# p.cache(prepped_complexes, \".\")"
   ],
   "metadata": {
    "collapsed": false
   },
   "id": "97623fd7cbb788c3",
   "execution_count": null
  },
  {
   "cell_type": "code",
   "outputs": [],
   "source": [
    "# prepped_complexes"
   ],
   "metadata": {
    "collapsed": false
   },
   "id": "34a0d9de103f677d",
   "execution_count": null
  },
  {
   "cell_type": "code",
   "outputs": [],
   "source": [
    "from asapdiscovery.workflows.docking_workflows.ligand_transfer_docking import ligand_transfer_docking_workflow, LigandTransferDockingWorkflowInputs"
   ],
   "metadata": {
    "collapsed": false
   },
   "id": "8220937fff7feb35",
   "execution_count": null
  },
  {
   "cell_type": "code",
   "outputs": [],
   "source": [
    "inputs = LigandTransferDockingWorkflowInputs(target_pdb_file=data_path / \"ns2-ns3b-zika-fragment-screen/alphafold-flavivirus-structures/NP_722463.1.pdb\",\n",
    "                                             reference_pdb_file=ref_complex_path / \"lig_1_protein.pdb\",\n",
    "                                             cache_dir=\"prepped_complexes\",\n",
    "                                             save_to_cache=True,\n",
    "                                             use_dask=False,\n",
    "                                             ref_chain=\"B\",\n",
    "                                             active_site_chain=\"A\",)"
   ],
   "metadata": {
    "collapsed": false
   },
   "id": "3b6974cf37e4c9c6",
   "execution_count": null
  },
  {
   "cell_type": "code",
   "outputs": [],
   "source": [
    "ligand_transfer_docking_workflow(inputs)"
   ],
   "metadata": {
    "collapsed": false
   },
   "id": "a689e6c5016f22d8",
   "execution_count": null
  },
  {
   "cell_type": "code",
   "outputs": [],
   "source": [],
   "metadata": {
    "collapsed": false
   },
   "id": "8438a9595d41db85",
   "execution_count": null
  }
 ],
 "metadata": {
  "kernelspec": {
   "display_name": "Python 3",
   "language": "python",
   "name": "python3"
  },
  "language_info": {
   "codemirror_mode": {
    "name": "ipython",
    "version": 2
   },
   "file_extension": ".py",
   "mimetype": "text/x-python",
   "name": "python",
   "nbconvert_exporter": "python",
   "pygments_lexer": "ipython2",
   "version": "2.7.6"
  }
 },
 "nbformat": 4,
 "nbformat_minor": 5
}
