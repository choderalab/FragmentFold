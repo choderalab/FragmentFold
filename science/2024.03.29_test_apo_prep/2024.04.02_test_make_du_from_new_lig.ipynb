{
 "cells": [
  {
   "cell_type": "markdown",
   "source": [
    "# Imports"
   ],
   "metadata": {
    "collapsed": false
   },
   "id": "b4844ae1d06db8cb"
  },
  {
   "cell_type": "markdown",
   "source": [
    "based on this: https://github.com/choderalab/asapdiscovery/pull/58/files#diff-281a28c750f5e4149f8b21633b9e873cbdd9cf78f7989d93d7ab88024648d9b3L35"
   ],
   "metadata": {
    "collapsed": false
   },
   "id": "6438b6fdbcb5bff3"
  },
  {
   "cell_type": "code",
   "outputs": [],
   "source": [
    "from pathlib import Path\n",
    "from asapdiscovery.data.backend.openeye import oechem, oespruce, load_openeye_pdb, load_openeye_sdfs\n",
    "from asapdiscovery.modeling.modeling import get_oe_prep_opts, spruce_protein, du_to_complex\n",
    "from asapdiscovery.data.schema.target import PreppedTarget\n",
    "from asapdiscovery.data.schema.complex import PreppedComplex"
   ],
   "metadata": {
    "collapsed": false
   },
   "id": "59fa3f0bc9cff25c",
   "execution_count": null
  },
  {
   "cell_type": "code",
   "outputs": [],
   "source": [],
   "metadata": {
    "collapsed": false
   },
   "id": "2bf416b41478eb42",
   "execution_count": null
  },
  {
   "cell_type": "code",
   "outputs": [],
   "source": [
    "data_path = Path(\"/Users/alexpayne/Scientific_Projects/fragment-fold/data\") "
   ],
   "metadata": {
    "collapsed": false
   },
   "id": "d970950fdb2c1368",
   "execution_count": null
  },
  {
   "cell_type": "markdown",
   "source": [
    "# load structure"
   ],
   "metadata": {
    "collapsed": false
   },
   "id": "1c6a8f8ae2ee4de7"
  },
  {
   "cell_type": "code",
   "outputs": [],
   "source": [
    "ref = load_openeye_pdb(data_path / \"ns2-ns3b-zika-fragment-screen/fragment-screen-inputs/zikv_ns2b_ns3pro_apo.pdb\")"
   ],
   "metadata": {
    "collapsed": false
   },
   "id": "9591fdb83da1efb9",
   "execution_count": null
  },
  {
   "cell_type": "code",
   "outputs": [],
   "source": [
    "success, spruce_error_message, spruced = spruce_protein(ref)"
   ],
   "metadata": {
    "collapsed": true
   },
   "id": "initial_id",
   "execution_count": null
  },
  {
   "cell_type": "markdown",
   "source": [
    "# load ligands"
   ],
   "metadata": {
    "collapsed": false
   },
   "id": "a43866aadbb84e57"
  },
  {
   "cell_type": "code",
   "outputs": [],
   "source": [
    "ligs = load_openeye_sdfs(data_path / \"ns2-ns3b-zika-fragment-screen/fragment-screen-inputs/output/combined_ligs.sdf\")"
   ],
   "metadata": {
    "collapsed": false
   },
   "id": "6b82a53beb2b35c1",
   "execution_count": null
  },
  {
   "cell_type": "code",
   "outputs": [],
   "source": [
    "ligs[0].NumAtoms()"
   ],
   "metadata": {
    "collapsed": false
   },
   "id": "8b7d39f1621965ae",
   "execution_count": null
  },
  {
   "cell_type": "markdown",
   "source": [
    "# make new dus"
   ],
   "metadata": {
    "collapsed": false
   },
   "id": "27d69053f99124d4"
  },
  {
   "cell_type": "code",
   "outputs": [],
   "source": [
    "opts = get_oe_prep_opts()"
   ],
   "metadata": {
    "collapsed": false
   },
   "id": "5de83895fde3f546",
   "execution_count": null
  },
  {
   "cell_type": "code",
   "outputs": [],
   "source": [
    "du = oechem.OEDesignUnit()\n",
    "new_dus = [oespruce.OEMakeDesignUnit(du, spruced, lig, opts) for lig in ligs[:1]]"
   ],
   "metadata": {
    "collapsed": false
   },
   "id": "c86cd97592f6ceff",
   "execution_count": null
  },
  {
   "cell_type": "code",
   "outputs": [],
   "source": [
    "complex = du_to_complex(du)"
   ],
   "metadata": {
    "collapsed": false
   },
   "id": "b769da505cddac03",
   "execution_count": null
  },
  {
   "cell_type": "markdown",
   "source": [
    "# convert to schema"
   ],
   "metadata": {
    "collapsed": false
   },
   "id": "c6014ae4fceadfb4"
  },
  {
   "cell_type": "code",
   "outputs": [],
   "source": [
    "from asapdiscovery.data.schema.target import Target"
   ],
   "metadata": {
    "collapsed": false
   },
   "id": "ca110662a00e3f3",
   "execution_count": null
  },
  {
   "cell_type": "code",
   "outputs": [],
   "source": [
    "original_target = Target.from_oemol(ref, target_name=\"zikv_ns2b_ns3pro\")"
   ],
   "metadata": {
    "collapsed": false
   },
   "id": "941653390e2916e8",
   "execution_count": null
  },
  {
   "cell_type": "code",
   "outputs": [],
   "source": [
    "prepped_complex = PreppedComplex.from_oedu(du, target_kwargs={\"target_name\": \"zikv_ns2b_ns3pro\", \"target_hash\": original_target.hash}, ligand_kwargs={\"ligand_name\": \"lig0\"}, )"
   ],
   "metadata": {
    "collapsed": false
   },
   "id": "81b541ab2a8fcbf5",
   "execution_count": null
  },
  {
   "cell_type": "code",
   "outputs": [],
   "source": [
    "from asapdiscovery.modeling.protein_prep import ProteinPrepper"
   ],
   "metadata": {
    "collapsed": false
   },
   "id": "2053076104ee8d4c",
   "execution_count": null
  },
  {
   "cell_type": "code",
   "outputs": [],
   "source": [
    "protein_prepper = ProteinPrepper()"
   ],
   "metadata": {
    "collapsed": false
   },
   "id": "68c492a7d72eeb48",
   "execution_count": null
  },
  {
   "cell_type": "code",
   "outputs": [],
   "source": [
    "protein_prepper.cache([prepped_complex], cache_dir=data_path / \"ns2-ns3b-zika-fragment-screen/prepped-foldalysis\")"
   ],
   "metadata": {
    "collapsed": false
   },
   "id": "d7b16f7b6f058d82",
   "execution_count": null
  },
  {
   "cell_type": "markdown",
   "source": [
    "# test if this works for a different protein"
   ],
   "metadata": {
    "collapsed": false
   },
   "id": "34c9559983a48ca8"
  },
  {
   "cell_type": "markdown",
   "source": [
    "## load"
   ],
   "metadata": {
    "collapsed": false
   },
   "id": "f5f08b0b6acbbbb6"
  },
  {
   "cell_type": "code",
   "outputs": [],
   "source": [
    "target = Target.from_pdb(data_path / \"ns2-ns3b-zika-fragment-screen/alphafold-flavivirus-structures/NP_722463.1.pdb\", target_name=\"NP_722463.1\")"
   ],
   "metadata": {
    "collapsed": false
   },
   "id": "c285e34c514dbcc9",
   "execution_count": null
  },
  {
   "cell_type": "markdown",
   "source": [
    "## spruce"
   ],
   "metadata": {
    "collapsed": false
   },
   "id": "e641f71c3e000b73"
  },
  {
   "cell_type": "code",
   "outputs": [],
   "source": [
    "success, spruce_error_message, spruced = spruce_protein(target.to_oemol())"
   ],
   "metadata": {
    "collapsed": false
   },
   "id": "b26c7bca3ef53440",
   "execution_count": null
  },
  {
   "cell_type": "markdown",
   "source": [
    "## align"
   ],
   "metadata": {
    "collapsed": false
   },
   "id": "e4c94b702306dd3c"
  },
  {
   "cell_type": "code",
   "outputs": [],
   "source": [
    "from asapdiscovery.modeling.modeling import superpose_molecule"
   ],
   "metadata": {
    "collapsed": false
   },
   "id": "fec1231bd50cce8b",
   "execution_count": null
  },
  {
   "cell_type": "code",
   "outputs": [],
   "source": [
    "aligned, rmsd = superpose_molecule(ref_mol=ref, mobile_mol=spruced, ref_chain=\"B\", mobile_chain=\"A\")"
   ],
   "metadata": {
    "collapsed": false
   },
   "id": "813beba8a301360b",
   "execution_count": null
  },
  {
   "cell_type": "markdown",
   "source": [
    "## make du"
   ],
   "metadata": {
    "collapsed": false
   },
   "id": "5851a98fb695d8a7"
  },
  {
   "cell_type": "code",
   "outputs": [],
   "source": [
    "du = oechem.OEDesignUnit()\n",
    "oespruce.OEMakeDesignUnit(du, aligned, ligs[0], opts)"
   ],
   "metadata": {
    "collapsed": false
   },
   "id": "ab9c188a923deaf",
   "execution_count": null
  },
  {
   "cell_type": "code",
   "outputs": [],
   "source": [
    "prepped_target = Target.from_oemol(aligned, target_name=\"NP_722463.1\")"
   ],
   "metadata": {
    "collapsed": false
   },
   "id": "95ebba4fd7d8a4af",
   "execution_count": null
  },
  {
   "cell_type": "code",
   "outputs": [],
   "source": [
    "prepped_target.to_pdb(\"/Users/alexpayne/Scientific_Projects/fragment-fold/data/ns2-ns3b-zika-fragment-screen/prepped-foldalysis/NP_722463.1_apo_prepped.pdb\")"
   ],
   "metadata": {
    "collapsed": false
   },
   "id": "e06e5da5db0a0e1f",
   "execution_count": null
  },
  {
   "cell_type": "code",
   "outputs": [],
   "source": [],
   "metadata": {
    "collapsed": false
   },
   "id": "4f400a77553ab30",
   "execution_count": null
  },
  {
   "cell_type": "code",
   "outputs": [],
   "source": [
    "prepped_complex = PreppedComplex.from_oedu(du, target_kwargs={\"target_name\": \"NP_722463.1\", \"target_hash\": target.hash}, ligand_kwargs={\"ligand_name\": \"lig0\"}, )"
   ],
   "metadata": {
    "collapsed": false
   },
   "id": "4871a0abd0f3dcbc",
   "execution_count": null
  },
  {
   "cell_type": "code",
   "outputs": [],
   "source": [
    "protein_prepper = ProteinPrepper()"
   ],
   "metadata": {
    "collapsed": false
   },
   "id": "758af759607c35e9",
   "execution_count": null
  },
  {
   "cell_type": "code",
   "outputs": [],
   "source": [
    "protein_prepper.cache([prepped_complex], cache_dir=data_path / \"ns2-ns3b-zika-fragment-screen/prepped-foldalysis\")"
   ],
   "metadata": {
    "collapsed": false
   },
   "id": "beb6450d094bd0c",
   "execution_count": null
  },
  {
   "cell_type": "markdown",
   "source": [
    "# conclusion: this works!"
   ],
   "metadata": {
    "collapsed": false
   },
   "id": "e5284b82a1b022c1"
  },
  {
   "cell_type": "markdown",
   "source": [
    "This makes sense since I think this is what I ended up going with before. Now we just need to add it back to the asapdiscovery repo."
   ],
   "metadata": {
    "collapsed": false
   },
   "id": "d25e924fab721446"
  }
 ],
 "metadata": {
  "kernelspec": {
   "display_name": "Python 3",
   "language": "python",
   "name": "python3"
  },
  "language_info": {
   "codemirror_mode": {
    "name": "ipython",
    "version": 2
   },
   "file_extension": ".py",
   "mimetype": "text/x-python",
   "name": "python",
   "nbconvert_exporter": "python",
   "pygments_lexer": "ipython2",
   "version": "2.7.6"
  }
 },
 "nbformat": 4,
 "nbformat_minor": 5
}
