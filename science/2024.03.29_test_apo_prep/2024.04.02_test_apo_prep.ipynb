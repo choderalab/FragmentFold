{
 "cells": [
  {
   "cell_type": "markdown",
   "source": [
    "# Imports"
   ],
   "metadata": {
    "collapsed": false
   },
   "id": "8ae2f7bfe0b1918e"
  },
  {
   "cell_type": "code",
   "outputs": [],
   "source": [
    "from pathlib import Path\n",
    "from asapdiscovery.data.backend.openeye import oechem, oespruce, load_openeye_pdb, load_openeye_sdfs\n",
    "from asapdiscovery.modeling.modeling import get_oe_prep_opts, spruce_protein, du_to_complex\n",
    "from asapdiscovery.data.schema.target import PreppedTarget\n",
    "from asapdiscovery.data.schema.complex import PreppedComplex"
   ],
   "metadata": {
    "collapsed": false
   },
   "id": "a0a4c48dc4e438c5",
   "execution_count": null
  },
  {
   "cell_type": "code",
   "outputs": [],
   "source": [
    "data_path = Path(\"/Users/alexpayne/Scientific_Projects/fragment-fold/data\")"
   ],
   "metadata": {
    "collapsed": false
   },
   "id": "aa4a6c2f90efb27d",
   "execution_count": null
  },
  {
   "cell_type": "markdown",
   "source": [
    "# load structure"
   ],
   "metadata": {
    "collapsed": false
   },
   "id": "91210211864d48bd"
  },
  {
   "cell_type": "code",
   "outputs": [],
   "source": [
    "ref = load_openeye_pdb(data_path / \"ns2-ns3b-zika-fragment-screen/fragment-screen-inputs/zikv_ns2b_ns3pro_apo.pdb\")\n",
    "success, spruce_error_message, spruced = spruce_protein(ref)"
   ],
   "metadata": {
    "collapsed": false
   },
   "id": "fee4336a9c0082b",
   "execution_count": null
  },
  {
   "cell_type": "code",
   "outputs": [],
   "source": [
    "success"
   ],
   "metadata": {
    "collapsed": false
   },
   "id": "7ca5ba5a44a18eee",
   "execution_count": null
  },
  {
   "cell_type": "code",
   "outputs": [],
   "source": [
    "opts = get_oe_prep_opts()"
   ],
   "metadata": {
    "collapsed": false
   },
   "id": "46e875bfacdee6a9",
   "execution_count": null
  },
  {
   "cell_type": "code",
   "outputs": [],
   "source": [
    "metadata = oespruce.OEStructureMetadata()"
   ],
   "metadata": {
    "collapsed": false
   },
   "id": "d253b3d49d1aaa34",
   "execution_count": null
  },
  {
   "cell_type": "markdown",
   "source": [
    "## get site residue"
   ],
   "metadata": {
    "collapsed": false
   },
   "id": "7254b998c0635aee"
  },
  {
   "cell_type": "code",
   "outputs": [],
   "source": [
    "dus = list(oespruce.OEMakeDesignUnits(spruced, metadata, opts, \"TYR:161: :B:0: \"))"
   ],
   "metadata": {
    "collapsed": false
   },
   "id": "55e922382ac8ca8d",
   "execution_count": null
  },
  {
   "cell_type": "code",
   "outputs": [],
   "source": [
    "len(dus)"
   ],
   "metadata": {
    "collapsed": false
   },
   "id": "33ef192a480cb6c3",
   "execution_count": null
  },
  {
   "cell_type": "code",
   "outputs": [],
   "source": [
    "dus = list(oespruce.OEMakeDesignUnits(spruced, metadata, opts, \"TYR:161: :A:0: \"))"
   ],
   "metadata": {
    "collapsed": false
   },
   "id": "979327b83c4a3c21",
   "execution_count": null
  },
  {
   "cell_type": "code",
   "outputs": [],
   "source": [
    "dus = list(oespruce.OEMakeDesignUnits(spruced, metadata, opts, \"TYR:161: :A\"))"
   ],
   "metadata": {
    "collapsed": false
   },
   "id": "26f9e630a5105a5f",
   "execution_count": null
  },
  {
   "cell_type": "code",
   "outputs": [],
   "source": [
    "'HIS:41: :A:0: '"
   ],
   "metadata": {
    "collapsed": false
   },
   "id": "27332e7ef2ec4da"
  },
  {
   "cell_type": "code",
   "outputs": [],
   "source": [
    "biodu = oespruce.OEMakeBioDesignUnits(spruced)"
   ],
   "metadata": {
    "collapsed": false
   },
   "id": "26bc74060cf218ec",
   "execution_count": null
  },
  {
   "cell_type": "code",
   "outputs": [],
   "source": [
    "dus = [du for du in biodu]"
   ],
   "metadata": {
    "collapsed": false
   },
   "id": "f9e8c86bcd9a4301",
   "execution_count": null
  },
  {
   "cell_type": "code",
   "outputs": [],
   "source": [
    "dus"
   ],
   "metadata": {
    "collapsed": false
   },
   "id": "6fbfabca504be317",
   "execution_count": null
  },
  {
   "cell_type": "code",
   "outputs": [],
   "source": [
    "oespruce.OEEnumerateSites(dus[0])"
   ],
   "metadata": {
    "collapsed": false
   },
   "id": "10ae27a49ea75c12",
   "execution_count": null
  },
  {
   "cell_type": "markdown",
   "source": [
    "## try to get site residue from siyang's function"
   ],
   "metadata": {
    "collapsed": false
   },
   "id": "9bbef31b2a45c93f"
  },
  {
   "cell_type": "code",
   "outputs": [],
   "source": [
    "def find_oe_res_id(protein):\n",
    "    #### Get the residues from the molecule\n",
    "    residues = oechem.OEGetResidues(protein)\n",
    "    # Getting the residue ids in the protein file\n",
    "    oe_id = dict()\n",
    "    count = 1\n",
    "    for residue in residues:\n",
    "        #oe_thing[(residue.GetName(),residue.GetResidueNumber(),residue.GetExtChainID())] = count\n",
    "        # Since did not get the chain ID before, would just go with A now\n",
    "        oe_id[count] = (residue.GetName(),residue.GetResidueNumber(),'A')\n",
    "        count += 1\n",
    "    return oe_id"
   ],
   "metadata": {
    "collapsed": false
   },
   "id": "35ffc3e83d6c899",
   "execution_count": null
  },
  {
   "cell_type": "code",
   "outputs": [],
   "source": [
    "find_oe_res_id(spruced)"
   ],
   "metadata": {
    "collapsed": false
   },
   "id": "7df698e03b5b9ead",
   "execution_count": null
  },
  {
   "cell_type": "markdown",
   "source": [
    "# conclusion"
   ],
   "metadata": {
    "collapsed": false
   },
   "id": "694bdb79f1358ffc"
  },
  {
   "cell_type": "markdown",
   "source": [
    "Yeah I have no idea why this isn't working. I think this is a bit of a dead end."
   ],
   "metadata": {
    "collapsed": false
   },
   "id": "90d48a1b8578c45b"
  }
 ],
 "metadata": {
  "kernelspec": {
   "display_name": "Python 3",
   "language": "python",
   "name": "python3"
  },
  "language_info": {
   "codemirror_mode": {
    "name": "ipython",
    "version": 2
   },
   "file_extension": ".py",
   "mimetype": "text/x-python",
   "name": "python",
   "nbconvert_exporter": "python",
   "pygments_lexer": "ipython2",
   "version": "2.7.6"
  }
 },
 "nbformat": 4,
 "nbformat_minor": 5
}
