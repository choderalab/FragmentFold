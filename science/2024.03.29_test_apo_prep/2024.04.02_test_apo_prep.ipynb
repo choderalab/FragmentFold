{
 "cells": [
  {
   "cell_type": "markdown",
   "source": [
    "# Imports"
   ],
   "metadata": {
    "collapsed": false
   },
   "id": "8ae2f7bfe0b1918e"
  },
  {
   "cell_type": "code",
   "outputs": [],
   "source": [
    "from pathlib import Path\n",
    "from asapdiscovery.data.backend.openeye import oechem, oespruce, load_openeye_pdb, load_openeye_sdfs\n",
    "from asapdiscovery.modeling.modeling import get_oe_prep_opts, spruce_protein, du_to_complex\n",
    "from asapdiscovery.data.schema.target import PreppedTarget\n",
    "from asapdiscovery.data.schema.complex import PreppedComplex"
   ],
   "metadata": {
    "collapsed": false
   },
   "id": "a0a4c48dc4e438c5",
   "execution_count": null
  },
  {
   "cell_type": "code",
   "outputs": [],
   "source": [
    "data_path = Path(\"/Users/alexpayne/Scientific_Projects/fragment-fold/data\")"
   ],
   "metadata": {
    "collapsed": false
   },
   "id": "aa4a6c2f90efb27d",
   "execution_count": null
  },
  {
   "cell_type": "markdown",
   "source": [
    "# load structure"
   ],
   "metadata": {
    "collapsed": false
   },
   "id": "91210211864d48bd"
  },
  {
   "cell_type": "code",
   "outputs": [],
   "source": [
    "ref = load_openeye_pdb(data_path / \"ns2-ns3b-zika-fragment-screen/fragment-screen-inputs/zikv_ns2b_ns3pro_apo.pdb\")\n",
    "success, spruce_error_message, spruced = spruce_protein(ref)"
   ],
   "metadata": {
    "collapsed": false
   },
   "id": "fee4336a9c0082b",
   "execution_count": null
  },
  {
   "cell_type": "code",
   "outputs": [],
   "source": [
    "success"
   ],
   "metadata": {
    "collapsed": false
   },
   "id": "7ca5ba5a44a18eee",
   "execution_count": null
  },
  {
   "cell_type": "code",
   "outputs": [],
   "source": [
    "opts = get_oe_prep_opts()"
   ],
   "metadata": {
    "collapsed": false
   },
   "id": "46e875bfacdee6a9",
   "execution_count": null
  },
  {
   "cell_type": "code",
   "outputs": [],
   "source": [
    "metadata = oespruce.OEStructureMetadata()"
   ],
   "metadata": {
    "collapsed": false
   },
   "id": "d253b3d49d1aaa34",
   "execution_count": null
  },
  {
   "cell_type": "markdown",
   "source": [
    "## get site residue"
   ],
   "metadata": {
    "collapsed": false
   },
   "id": "7254b998c0635aee"
  },
  {
   "cell_type": "markdown",
   "source": [
    "### figured out that the correct syntax should be, i.e.: \n",
    "\"TYR:161: :B:0: \"\n"
   ],
   "metadata": {
    "collapsed": false
   },
   "id": "924564da856ee785"
  },
  {
   "cell_type": "markdown",
   "source": [
    "The error returned by this command is: \n",
    "```\n",
    "Warning: No BioAssembly transforms found, using input molecule as biounit: \n",
    "Warning: Iridium - Structure:  has no REMARK data\n",
    "Processing BU # 1 with title: , chains AB\n",
    "Warning: Failed to find a pocket associated with the input predicate\n",
    "Warning: Failed, no pocket found with site residue predicate\n",
    "Warning: Unable to parse and utilize specified site residue TYR:161: :B:0:  to define site in  - skipping\n",
    "```\n"
   ],
   "metadata": {
    "collapsed": false
   },
   "id": "50e01b21c48d6806"
  },
  {
   "cell_type": "code",
   "outputs": [],
   "source": [
    "dus = list(oespruce.OEMakeDesignUnits(spruced, metadata, opts, \"TYR:161: :B:0: \"))"
   ],
   "metadata": {
    "collapsed": false
   },
   "id": "55e922382ac8ca8d",
   "execution_count": null
  },
  {
   "cell_type": "markdown",
   "source": [
    "Whereas the error returned by this command is: \n",
    "```\n",
    "Warning: No BioAssembly transforms found, using input molecule as biounit: \n",
    "Warning: Iridium - Structure:  has no REMARK data\n",
    "Processing BU # 1 with title: , chains AB\n",
    "Warning: Failed, input predicate does not match any atom in molecule _(AB)\n",
    "Warning: Failed, no pocket found with site residue predicate\n",
    "Warning: Unable to parse and utilize specified site residue TYR:161: :A to define site in  - skipping\n",
    "```"
   ],
   "metadata": {
    "collapsed": false
   },
   "id": "a6645aaa71c05e3c"
  },
  {
   "cell_type": "code",
   "outputs": [],
   "source": [
    "dus = list(oespruce.OEMakeDesignUnits(spruced, metadata, opts, \"TYR:161: :A\"))"
   ],
   "metadata": {
    "collapsed": false
   },
   "id": "4137aaa4c04959c6",
   "execution_count": null
  },
  {
   "cell_type": "code",
   "outputs": [],
   "source": [
    "dus = list(oespruce.OEMakeDesignUnits(spruced, metadata, opts, \"TYR:161: :A:0: \"))"
   ],
   "metadata": {
    "collapsed": false
   },
   "id": "979327b83c4a3c21",
   "execution_count": null
  },
  {
   "cell_type": "markdown",
   "source": [
    "## Try using the BioDesignUnits function"
   ],
   "metadata": {
    "collapsed": false
   },
   "id": "7afa363a5755aecb"
  },
  {
   "cell_type": "code",
   "outputs": [],
   "source": [
    "biodu = oespruce.OEMakeBioDesignUnits(spruced, metadata, opts)"
   ],
   "metadata": {
    "collapsed": false
   },
   "id": "26bc74060cf218ec",
   "execution_count": null
  },
  {
   "cell_type": "code",
   "outputs": [],
   "source": [
    "dus = [du for du in biodu]"
   ],
   "metadata": {
    "collapsed": false
   },
   "id": "f9e8c86bcd9a4301",
   "execution_count": null
  },
  {
   "cell_type": "code",
   "outputs": [],
   "source": [
    "dus[0]"
   ],
   "metadata": {
    "collapsed": false
   },
   "id": "6fbfabca504be317",
   "execution_count": null
  },
  {
   "cell_type": "code",
   "outputs": [],
   "source": [
    "oespruce.OEFindPockets(dus[0])"
   ],
   "metadata": {
    "collapsed": false
   },
   "id": "3faf9daa6cb028c0",
   "execution_count": null
  },
  {
   "cell_type": "code",
   "outputs": [],
   "source": [
    "oespruce.OEEnumerateSites(dus[0], oespruce.OEDesignUnitEnumerateSitesOptions(), \"TYR:161: :B:0: \")"
   ],
   "metadata": {
    "collapsed": false
   },
   "id": "10ae27a49ea75c12",
   "execution_count": null
  },
  {
   "cell_type": "markdown",
   "source": [
    "## try to get site residue from siyang's function"
   ],
   "metadata": {
    "collapsed": false
   },
   "id": "9bbef31b2a45c93f"
  },
  {
   "cell_type": "code",
   "outputs": [],
   "source": [
    "def find_oe_res_id(protein):\n",
    "    #### Get the residues from the molecule\n",
    "    residues = oechem.OEGetResidues(protein)\n",
    "    # Getting the residue ids in the protein file\n",
    "    oe_id = dict()\n",
    "    count = 1\n",
    "    for residue in residues:\n",
    "        #oe_thing[(residue.GetName(),residue.GetResidueNumber(),residue.GetExtChainID())] = count\n",
    "        # Since did not get the chain ID before, would just go with A now\n",
    "        oe_id[count] = (residue.GetName(),residue.GetResidueNumber(),residue.GetChainID())\n",
    "        count += 1\n",
    "    return oe_id"
   ],
   "metadata": {
    "collapsed": false
   },
   "id": "35ffc3e83d6c899",
   "execution_count": null
  },
  {
   "cell_type": "code",
   "outputs": [],
   "source": [
    "find_oe_res_id(spruced)"
   ],
   "metadata": {
    "collapsed": false
   },
   "id": "7df698e03b5b9ead",
   "execution_count": null
  },
  {
   "cell_type": "markdown",
   "source": [
    "# conclusion"
   ],
   "metadata": {
    "collapsed": false
   },
   "id": "694bdb79f1358ffc"
  },
  {
   "cell_type": "markdown",
   "source": [
    "Yeah I have no idea why this isn't working. I think this is a bit of a dead end."
   ],
   "metadata": {
    "collapsed": false
   },
   "id": "90d48a1b8578c45b"
  },
  {
   "cell_type": "markdown",
   "source": [
    "# Double Check to see if apo prepping works for mpro"
   ],
   "metadata": {
    "collapsed": false
   },
   "id": "ddb4a7fd90e5375a"
  },
  {
   "cell_type": "code",
   "outputs": [],
   "source": [
    "from asapdiscovery.data.metadata.resources import master_structures"
   ],
   "metadata": {
    "collapsed": false
   },
   "id": "c03eca231204e96d",
   "execution_count": null
  },
  {
   "cell_type": "code",
   "outputs": [],
   "source": [
    "mpro_path = master_structures[\"SARS-CoV-2-Mpro\"]"
   ],
   "metadata": {
    "collapsed": false
   },
   "id": "264de07c6c7f3e0f",
   "execution_count": null
  },
  {
   "cell_type": "code",
   "outputs": [],
   "source": [
    "mpro = load_openeye_pdb(mpro_path)"
   ],
   "metadata": {
    "collapsed": false
   },
   "id": "72a584937a13fe3a",
   "execution_count": null
  },
  {
   "cell_type": "code",
   "outputs": [],
   "source": [
    "find_oe_res_id(mpro)"
   ],
   "metadata": {
    "collapsed": false
   },
   "id": "c4a3a1cf4514e91f",
   "execution_count": null
  },
  {
   "cell_type": "code",
   "outputs": [],
   "source": [
    "from asapdiscovery.modeling.modeling import split_openeye_mol"
   ],
   "metadata": {
    "collapsed": false
   },
   "id": "b5de910f96c5181a",
   "execution_count": null
  },
  {
   "cell_type": "code",
   "outputs": [],
   "source": [
    "apo = split_openeye_mol(mpro, 'protein')['prot']"
   ],
   "metadata": {
    "collapsed": false
   },
   "id": "6e08d43a662d93c1",
   "execution_count": null
  },
  {
   "cell_type": "code",
   "outputs": [],
   "source": [
    "success, spruce_error_message, spruced = spruce_protein(apo)"
   ],
   "metadata": {
    "collapsed": false
   },
   "id": "77de37591b5af503",
   "execution_count": null
  },
  {
   "cell_type": "code",
   "outputs": [],
   "source": [
    "success"
   ],
   "metadata": {
    "collapsed": false
   },
   "id": "3818eef6a4c8e79",
   "execution_count": null
  },
  {
   "cell_type": "code",
   "outputs": [],
   "source": [
    "find_oe_res_id(spruced)"
   ],
   "metadata": {
    "collapsed": false
   },
   "id": "7d66c2bc9fda59e5",
   "execution_count": null
  },
  {
   "cell_type": "code",
   "outputs": [],
   "source": [
    "dus = list(oespruce.OEMakeDesignUnits(spruced, metadata, opts, \"HIS:163: :A\"))"
   ],
   "metadata": {
    "collapsed": false
   },
   "id": "28eb943341f1079b",
   "execution_count": null
  },
  {
   "cell_type": "code",
   "outputs": [],
   "source": [
    "dus[0].HasLigand()"
   ],
   "metadata": {
    "collapsed": false
   },
   "id": "69b5b49d81024ee6",
   "execution_count": null
  },
  {
   "cell_type": "code",
   "outputs": [],
   "source": [
    "dus[0].HasReceptor()"
   ],
   "metadata": {
    "collapsed": false
   },
   "id": "6973dfe32d0b6ec4",
   "execution_count": null
  },
  {
   "cell_type": "code",
   "outputs": [],
   "source": [
    "dus[0].HasProtein()"
   ],
   "metadata": {
    "collapsed": false
   },
   "id": "f7df7ba4dafaad1d",
   "execution_count": null
  },
  {
   "cell_type": "code",
   "outputs": [],
   "source": [
    "du = dus[0]"
   ],
   "metadata": {
    "collapsed": false
   },
   "id": "6d1d382dfc9d9f0e",
   "execution_count": null
  },
  {
   "cell_type": "code",
   "outputs": [],
   "source": [
    "from asapdiscovery.data.backend.openeye import oedocking\n",
    "oedocking.OEMakeReceptor(du)"
   ],
   "metadata": {
    "collapsed": false
   },
   "id": "8829ba515883fa83",
   "execution_count": null
  },
  {
   "cell_type": "code",
   "outputs": [],
   "source": [
    "du.HasReceptor()"
   ],
   "metadata": {
    "collapsed": false
   },
   "id": "1a77187945ef7449",
   "execution_count": null
  },
  {
   "cell_type": "markdown",
   "source": [
    "# it does work for the apo structure of mpro"
   ],
   "metadata": {
    "collapsed": false
   },
   "id": "fe7d12a91425b770"
  },
  {
   "cell_type": "code",
   "outputs": [],
   "source": [
    "from asapdiscovery.modeling.modeling import du_to_complex"
   ],
   "metadata": {
    "collapsed": false
   },
   "id": "d7522ffdb6972cbf",
   "execution_count": null
  },
  {
   "cell_type": "code",
   "outputs": [],
   "source": [
    "prepped_target = du_to_complex(dus[0])"
   ],
   "metadata": {
    "collapsed": false
   },
   "id": "bc86d9f3b2c5f8df",
   "execution_count": null
  },
  {
   "cell_type": "code",
   "outputs": [],
   "source": [
    "save_openeye_pdb(prepped_target, f\"SARS-CoV-2-Mpro_apo.pdb\")"
   ],
   "metadata": {
    "collapsed": false
   },
   "id": "583b7874420c5baa",
   "execution_count": null
  },
  {
   "cell_type": "markdown",
   "source": [
    "## test using this du to dock"
   ],
   "metadata": {
    "collapsed": false
   },
   "id": "8253f4954f504d5d"
  },
  {
   "cell_type": "code",
   "outputs": [],
   "source": [
    "lig = split_openeye_mol(mpro, 'protein')['lig']"
   ],
   "metadata": {
    "collapsed": false
   },
   "id": "851b6ce501c41b3",
   "execution_count": null
  },
  {
   "cell_type": "code",
   "outputs": [],
   "source": [
    "lig.NumAtoms()"
   ],
   "metadata": {
    "collapsed": false
   },
   "id": "932fb9f2cbbf16f",
   "execution_count": null
  },
  {
   "cell_type": "code",
   "outputs": [],
   "source": [
    "lig = oechem.OEMol(lig)"
   ],
   "metadata": {
    "collapsed": false
   },
   "id": "5599e8bb8cfe25dc",
   "execution_count": null
  },
  {
   "cell_type": "code",
   "outputs": [],
   "source": [
    "from asapdiscovery.data.backend.openeye import oedocking"
   ],
   "metadata": {
    "collapsed": false
   },
   "id": "d34d74298e157e12",
   "execution_count": null
  },
  {
   "cell_type": "code",
   "outputs": [],
   "source": [
    "poser = oedocking.OEPosit()\n",
    "pose_res = oedocking.OEPositResults()\n",
    "retcodes = [poser.AddReceptor(du) for du in dus]\n",
    "retcode = poser.Dock(pose_res, lig, 1)"
   ],
   "metadata": {
    "collapsed": false
   },
   "id": "33908fe242c53dcc",
   "execution_count": null
  },
  {
   "cell_type": "code",
   "outputs": [],
   "source": [
    "poser.AddReceptor(dus[0])"
   ],
   "metadata": {
    "collapsed": false
   },
   "id": "c85e1d29e74aacf2",
   "execution_count": null
  },
  {
   "cell_type": "code",
   "outputs": [],
   "source": [
    "oedocking.OEDockingReturnCodeGetName(retcode)"
   ],
   "metadata": {
    "collapsed": false
   },
   "id": "b06c4b58b4f108cf",
   "execution_count": null
  },
  {
   "cell_type": "markdown",
   "source": [
    "# This works!"
   ],
   "metadata": {
    "collapsed": false
   },
   "id": "163836ab8b540962"
  },
  {
   "cell_type": "markdown",
   "source": [
    "# Conclusion"
   ],
   "metadata": {
    "collapsed": false
   },
   "id": "d0afd249d146556"
  },
  {
   "cell_type": "markdown",
   "source": [
    "So it definitely *can* work. It just doesn't in our case with the zika fragments for some reason. So let's use the method of making the DU directly, and then re-docking into that DU."
   ],
   "metadata": {
    "collapsed": false
   },
   "id": "ac780bd2f39f57f6"
  },
  {
   "cell_type": "code",
   "outputs": [],
   "source": [],
   "metadata": {
    "collapsed": false
   },
   "id": "c51fee91f941204c"
  }
 ],
 "metadata": {
  "kernelspec": {
   "display_name": "Python 3",
   "language": "python",
   "name": "python3"
  },
  "language_info": {
   "codemirror_mode": {
    "name": "ipython",
    "version": 2
   },
   "file_extension": ".py",
   "mimetype": "text/x-python",
   "name": "python",
   "nbconvert_exporter": "python",
   "pygments_lexer": "ipython2",
   "version": "2.7.6"
  }
 },
 "nbformat": 4,
 "nbformat_minor": 5
}
