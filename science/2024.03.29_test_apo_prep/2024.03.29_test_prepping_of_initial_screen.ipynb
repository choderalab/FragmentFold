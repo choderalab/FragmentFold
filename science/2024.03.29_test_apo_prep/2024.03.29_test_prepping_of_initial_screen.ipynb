{
 "cells": [
  {
   "cell_type": "markdown",
   "source": [
    "# Imports"
   ],
   "metadata": {
    "collapsed": false
   },
   "id": "de56bcc517574b16"
  },
  {
   "cell_type": "code",
   "outputs": [],
   "source": [
    "import numpy as np\n",
    "from asapdiscovery.data.metadata.resources import master_structures"
   ],
   "metadata": {
    "collapsed": false
   },
   "id": "95a1dd897386ba1a",
   "execution_count": null
  },
  {
   "cell_type": "code",
   "outputs": [],
   "source": [
    "input_path = master_structures[\"ZIKV-NS2B-NS3pro\"]"
   ],
   "metadata": {
    "collapsed": false
   },
   "id": "571818492e683408",
   "execution_count": null
  },
  {
   "cell_type": "code",
   "outputs": [],
   "source": [],
   "metadata": {
    "collapsed": false
   },
   "id": "76d72daf903c2cfc"
  }
 ],
 "metadata": {
  "kernelspec": {
   "display_name": "Python 3",
   "language": "python",
   "name": "python3"
  },
  "language_info": {
   "codemirror_mode": {
    "name": "ipython",
    "version": 2
   },
   "file_extension": ".py",
   "mimetype": "text/x-python",
   "name": "python",
   "nbconvert_exporter": "python",
   "pygments_lexer": "ipython2",
   "version": "2.7.6"
  }
 },
 "nbformat": 4,
 "nbformat_minor": 5
}
