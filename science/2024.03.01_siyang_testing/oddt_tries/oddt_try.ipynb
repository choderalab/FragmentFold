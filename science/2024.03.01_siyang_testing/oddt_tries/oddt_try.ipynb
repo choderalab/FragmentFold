{
 "cells": [
  {
   "cell_type": "code",
   "execution_count": 1,
   "id": "b6565650-b961-45f0-adf2-211e67ad05e3",
   "metadata": {},
   "outputs": [],
   "source": [
    "import oddt"
   ]
  },
  {
   "cell_type": "markdown",
   "id": "3243f89c-dafe-44df-b606-7fcf45061092",
   "metadata": {},
   "source": [
    "https://oddt.readthedocs.io/en/latest/#oddt-command-line-interface-cli"
   ]
  },
  {
   "cell_type": "raw",
   "id": "fa0dc431-c309-4a63-bb18-4c7f744091a9",
   "metadata": {},
   "source": [
    "(oddt) [pengs@lilac-ln02 oddt_try]$ oddt_cli -h\n",
    "usage: oddt_cli [-h] [--toolkit {ob,rdk}] [-n N_CPU] [--version] [-c CHUNKSIZE] [-i IN_FORMAT] [-o OUT_FORMAT] [-O OUT_FILE] [--filter FILTER]\n",
    "                [--similarity {ifp,sifp,usr,usr_cat,electroshape}] [--cutoff CUTOFF] [--query QUERY] [--dock {autodock_vina}] [--receptor RECEPTOR]\n",
    "                [--auto_ligand AUTO_LIGAND] [--center CENTER] [--size SIZE] [--exhaustiveness EXHAUSTIVENESS] [--seed SEED]\n",
    "                [--score {autodock_vina,rfscore,nnscore,rfscore_v1,rfscore_v2,rfscore_v3,pleclinear,plecnn,plecrf,rfscore_v1_pdbbind2007,rfscore_v2_pdbbind2007,rfscore_v3_pdbbind2007,nnscore_pdbbind2007,rfscore_v1_pdbbind2012,rfscore_v2_pdbbind2012,rfscore_v3_pdbbind2012,nnscore_pdbbind2012,rfscore_v1_pdbbind2013,rfscore_v2_pdbbind2013,rfscore_v3_pdbbind2013,nnscore_pdbbind2013,rfscore_v1_pdbbind2014,rfscore_v2_pdbbind2014,rfscore_v3_pdbbind2014,nnscore_pdbbind2014,rfscore_v1_pdbbind2015,rfscore_v2_pdbbind2015,rfscore_v3_pdbbind2015,nnscore_pdbbind2015,rfscore_v1_pdbbind2016,rfscore_v2_pdbbind2016,rfscore_v3_pdbbind2016,nnscore_pdbbind2016,pleclinear_pdbbind2016,plecnn_pdbbind2016,plecrf_pdbbind2016}]\n",
    "                [--score_file SCORE_FILE] [--field SAVE_FIELDS]\n",
    "                in_file [in_file ...]\n",
    "\n",
    "Open Drug Discovery (ODDT) command line tools\n",
    "\n",
    "positional arguments:\n",
    "  in_file               Input files of formats supported by toolkit.\n",
    "\n",
    "options:\n",
    "  -h, --help            show this help message and exit\n",
    "  --toolkit {ob,rdk}    Choose which toolkit should be used for calculations, either \"ob\" (OpenBabel) or \"rdkit\" (RDKit) (default: ob)\n",
    "  -n N_CPU, --n_cpu N_CPU\n",
    "                        The number of parallel processes. -1 automatically assigns maximum number of CPUs. (default=-1)\n",
    "  --version             show program's version number and exit\n",
    "  -c CHUNKSIZE, --chunksize CHUNKSIZE\n",
    "                        The number of molecules to process in a chunk. (default=100)\n",
    "  -i IN_FORMAT          Input file(s) format\n",
    "  -o OUT_FORMAT         Output file format\n",
    "  -O OUT_FILE, --output OUT_FILE\n",
    "                        Output file\n",
    "  --field SAVE_FIELDS   Field to save (eg. in CSV). Each field should be specified separately.\n",
    "\n",
    "Filtering:\n",
    "  --filter FILTER       Choose built-in filters to be used (eg. \"ro5\", \"ro3\", \"pains\")\n",
    "\n",
    "Similarity searching:\n",
    "  --similarity {ifp,sifp,usr,usr_cat,electroshape}\n",
    "                        Choose similarity method to use (eg. \"ifp\", \"sifp\", \"usr\", \"usr_cat\", \"electroshape\")\n",
    "  --cutoff CUTOFF       Similarity cufoff below which molecules will be ignored.\n",
    "  --query QUERY         Query molecule(s) for similarity searching\n",
    "\n",
    "Protein-Ligand docking:\n",
    "  --dock {autodock_vina}\n",
    "                        Choose docking software to be used\n",
    "  --receptor RECEPTOR   Protein file\n",
    "  --auto_ligand AUTO_LIGAND\n",
    "                        Docking Box is determined on that ligand\n",
    "  --center CENTER       Docking Box center (x,y,z)\n",
    "  --size SIZE           Docking Box dimentions (x,y,z)\n",
    "  --exhaustiveness EXHAUSTIVENESS\n",
    "                        Exhaustiveness of docking\n",
    "  --seed SEED           Random Seed\n",
    "\n",
    "Rescoring:\n",
    "  --score {autodock_vina,rfscore,nnscore,rfscore_v1,rfscore_v2,rfscore_v3,pleclinear,plecnn,plecrf,rfscore_v1_pdbbind2007,rfscore_v2_pdbbind2007,rfscore_v3_pdbbind2007,nnscore_pdbbind2007,rfscore_v1_pdbbind2012,rfscore_v2_pdbbind2012,rfscore_v3_pdbbind2012,nnscore_pdbbind2012,rfscore_v1_pdbbind2013,rfscore_v2_pdbbind2013,rfscore_v3_pdbbind2013,nnscore_pdbbind2013,rfscore_v1_pdbbind2014,rfscore_v2_pdbbind2014,rfscore_v3_pdbbind2014,nnscore_pdbbind2014,rfscore_v1_pdbbind2015,rfscore_v2_pdbbind2015,rfscore_v3_pdbbind2015,nnscore_pdbbind2015,rfscore_v1_pdbbind2016,rfscore_v2_pdbbind2016,rfscore_v3_pdbbind2016,nnscore_pdbbind2016,pleclinear_pdbbind2016,plecnn_pdbbind2016,plecrf_pdbbind2016}\n",
    "                        Choose built-in scoring function to be used\n",
    "  --score_file SCORE_FILE\n",
    "                        Choose ODDT scoring function saved to file (pickle)"
   ]
  },
  {
   "cell_type": "raw",
   "id": "e969aec3-86b6-4091-9031-33e2fe5695eb",
   "metadata": {},
   "source": [
    "TRY:\n",
    "oddt_cli /home/pengs/fold_zika/lig_sdfs/lig_0.sdf --dock autodock_vina --receptor /home/pengs/fold_zika/only_prot/NP_722463.1.pdb --auto_ligand /home/pengs/fold_zika/lig_sdfs/lig_0.sdf --score rfscore_v2 -O output_ligands.sdf\n",
    "\n",
    "OUTPUT:\n",
    "/home/pengs/miniconda3/envs/oddt/lib/python3.10/site-packages/sklearn/ensemble/_base.py:168: UserWarning: Loky-backed parallel loops cannot be called in a multiprocessing, setting n_jobs=1\n",
    "  n_jobs = min(effective_n_jobs(n_jobs), n_estimators)\n",
    "/home/pengs/miniconda3/envs/oddt/lib/python3.10/site-packages/sklearn/ensemble/_base.py:168: UserWarning: Loky-backed parallel loops cannot be called in a multiprocessing, setting n_jobs=1\n",
    "  n_jobs = min(effective_n_jobs(n_jobs), n_estimators)\n",
    "/home/pengs/miniconda3/envs/oddt/lib/python3.10/site-packages/sklearn/ensemble/_base.py:168: UserWarning: Loky-backed parallel loops cannot be called in a multiprocessing, setting n_jobs=1\n",
    "  n_jobs = min(effective_n_jobs(n_jobs), n_estimators)\n",
    "/home/pengs/miniconda3/envs/oddt/lib/python3.10/site-packages/sklearn/ensemble/_base.py:168: UserWarning: Loky-backed parallel loops cannot be called in a multiprocessing, setting n_jobs=1\n",
    "  n_jobs = min(effective_n_jobs(n_jobs), n_estimators)\n",
    "/home/pengs/miniconda3/envs/oddt/lib/python3.10/site-packages/sklearn/ensemble/_base.py:168: UserWarning: Loky-backed parallel loops cannot be called in a multiprocessing, setting n_jobs=1\n",
    "  n_jobs = min(effective_n_jobs(n_jobs), n_estimators)\n",
    "/home/pengs/miniconda3/envs/oddt/lib/python3.10/site-packages/sklearn/ensemble/_base.py:168: UserWarning: Loky-backed parallel loops cannot be called in a multiprocessing, setting n_jobs=1\n",
    "  n_jobs = min(effective_n_jobs(n_jobs), n_estimators)\n",
    "/home/pengs/miniconda3/envs/oddt/lib/python3.10/site-packages/sklearn/ensemble/_base.py:168: UserWarning: Loky-backed parallel loops cannot be called in a multiprocessing, setting n_jobs=1\n",
    "  n_jobs = min(effective_n_jobs(n_jobs), n_estimators)\n",
    "/home/pengs/miniconda3/envs/oddt/lib/python3.10/site-packages/sklearn/ensemble/_base.py:168: UserWarning: Loky-backed parallel loops cannot be called in a multiprocessing, setting n_jobs=1\n",
    "  n_jobs = min(effective_n_jobs(n_jobs), n_estimators)\n",
    "/home/pengs/miniconda3/envs/oddt/lib/python3.10/site-packages/sklearn/ensemble/_base.py:168: UserWarning: Loky-backed parallel loops cannot be called in a multiprocessing, setting n_jobs=1\n",
    "  n_jobs = min(effective_n_jobs(n_jobs), n_estimators)\n"
   ]
  },
  {
   "cell_type": "markdown",
   "id": "c65101fd-ec1e-4a8b-85d8-11d1f48d4787",
   "metadata": {},
   "source": [
    "## The command line interface way of calling oddt does not seem to work"
   ]
  },
  {
   "cell_type": "code",
   "execution_count": null,
   "id": "7795548c-28dd-4280-b11e-d982e3aa013e",
   "metadata": {},
   "outputs": [],
   "source": []
  },
  {
   "cell_type": "markdown",
   "id": "31e860da-c4a3-49b0-ad14-062c3e615412",
   "metadata": {},
   "source": [
    "## Docking using oddt AutodockVina\n",
    "https://oddt.readthedocs.io/en/latest/rst/oddt.docking.html#module-oddt.docking.AutodockVina"
   ]
  },
  {
   "cell_type": "code",
   "execution_count": 2,
   "id": "cb525952-ca6c-40b9-ae5e-0ef4154de715",
   "metadata": {},
   "outputs": [],
   "source": [
    "protein = next(oddt.toolkit.readfile('pdb', '/home/pengs/fold_zika/only_prot/NP_722463.1.pdb'))\n",
    "protein.protein = True\n",
    "ligand = next(oddt.toolkit.readfile('sdf', '/home/pengs/fold_zika/lig_sdfs/lig_0.sdf'))"
   ]
  },
  {
   "cell_type": "code",
   "execution_count": 4,
   "id": "d93930f6-2355-4d51-a0fe-884d1a6b793f",
   "metadata": {},
   "outputs": [],
   "source": [
    "## from oddt.virtualscreening import virtualscreening as vs\n",
    "## pipeline = vs(n_cpu=-1, chunksize=100)\n",
    "## pipeline.load_ligands('sdf', '/home/pengs/fold_zika/lig_sdfs/lig_0.sdf')"
   ]
  },
  {
   "cell_type": "code",
   "execution_count": null,
   "id": "9ccee487-4e4d-4992-81bf-3129269f7830",
   "metadata": {},
   "outputs": [],
   "source": []
  },
  {
   "cell_type": "code",
   "execution_count": 21,
   "id": "e2f1fb1b-363a-46cb-abb6-20143539f01d",
   "metadata": {},
   "outputs": [],
   "source": [
    "from oddt.docking.AutodockVina import *"
   ]
  },
  {
   "cell_type": "code",
   "execution_count": 28,
   "id": "7f929432-bb9f-4833-9377-45d770b75907",
   "metadata": {},
   "outputs": [],
   "source": [
    "vina = autodock_vina(auto_ligand = '/home/pengs/fold_zika/lig_sdfs/lig_0.sdf')\n",
    "ligs = vina.dock(protein = protein, ligands = ligand)"
   ]
  },
  {
   "cell_type": "code",
   "execution_count": 29,
   "id": "86c1c548-0393-4794-b342-ba08537c242c",
   "metadata": {},
   "outputs": [
    {
     "name": "stdout",
     "output_type": "stream",
     "text": [
      "{'SMILES Atom Order': '2 4 7 5 1 3 8 9 10 6 11 16 15 14 13 12', 'vina_affinity': '-6.3', 'vina_gauss1': '43.17308', 'vina_gauss2': '685.51', 'vina_repulsion': '2.25756', 'vina_hydrophobic': '27.11894', 'vina_hydrogen': '0.0', 'vina_rmsd_lb': '0.000', 'vina_rmsd_ub': '0.000', 'vina_rmsd_input': '3.7256784', 'vina_rmsd_input_min': '3.7256784'}\n",
      "{'SMILES Atom Order': '2 4 7 5 1 3 8 9 10 6 11 16 15 14 13 12', 'vina_affinity': '-6.3', 'vina_gauss1': '43.17308', 'vina_gauss2': '685.51', 'vina_repulsion': '2.25756', 'vina_hydrophobic': '27.11894', 'vina_hydrogen': '0.0', 'vina_rmsd_lb': '2.434', 'vina_rmsd_ub': '5.787', 'vina_rmsd_input': '3.8734474', 'vina_rmsd_input_min': '3.6796005'}\n",
      "{'SMILES Atom Order': '2 4 7 5 1 3 8 9 10 6 11 16 15 14 13 12', 'vina_affinity': '-6.2', 'vina_gauss1': '43.17308', 'vina_gauss2': '685.51', 'vina_repulsion': '2.25756', 'vina_hydrophobic': '27.11894', 'vina_hydrogen': '0.0', 'vina_rmsd_lb': '1.404', 'vina_rmsd_ub': '3.024', 'vina_rmsd_input': '4.05029', 'vina_rmsd_input_min': '3.8682265'}\n",
      "{'SMILES Atom Order': '2 4 7 5 1 3 8 9 10 6 11 16 15 14 13 12', 'vina_affinity': '-5.2', 'vina_gauss1': '43.17308', 'vina_gauss2': '685.51', 'vina_repulsion': '2.25756', 'vina_hydrophobic': '27.11894', 'vina_hydrogen': '0.0', 'vina_rmsd_lb': '3.428', 'vina_rmsd_ub': '5.848', 'vina_rmsd_input': '3.693864', 'vina_rmsd_input_min': '3.585509'}\n",
      "{'SMILES Atom Order': '2 4 7 5 1 3 8 9 10 6 11 16 15 14 13 12', 'vina_affinity': '-5.1', 'vina_gauss1': '43.17308', 'vina_gauss2': '685.51', 'vina_repulsion': '2.25756', 'vina_hydrophobic': '27.11894', 'vina_hydrogen': '0.0', 'vina_rmsd_lb': '2.281', 'vina_rmsd_ub': '6.010', 'vina_rmsd_input': '3.7172894', 'vina_rmsd_input_min': '3.7172894'}\n",
      "{'SMILES Atom Order': '2 4 7 5 1 3 8 9 10 6 11 16 15 14 13 12', 'vina_affinity': '-4.7', 'vina_gauss1': '43.17308', 'vina_gauss2': '685.51', 'vina_repulsion': '2.25756', 'vina_hydrophobic': '27.11894', 'vina_hydrogen': '0.0', 'vina_rmsd_lb': '3.458', 'vina_rmsd_ub': '4.068', 'vina_rmsd_input': '5.3054233', 'vina_rmsd_input_min': '5.3054233'}\n",
      "{'SMILES Atom Order': '2 4 7 5 1 3 8 9 10 6 11 16 15 14 13 12', 'vina_affinity': '-4.7', 'vina_gauss1': '43.17308', 'vina_gauss2': '685.51', 'vina_repulsion': '2.25756', 'vina_hydrophobic': '27.11894', 'vina_hydrogen': '0.0', 'vina_rmsd_lb': '2.955', 'vina_rmsd_ub': '5.000', 'vina_rmsd_input': '5.214319', 'vina_rmsd_input_min': '5.214319'}\n",
      "{'SMILES Atom Order': '2 4 7 5 1 3 8 9 10 6 11 16 15 14 13 12', 'vina_affinity': '-4.5', 'vina_gauss1': '43.17308', 'vina_gauss2': '685.51', 'vina_repulsion': '2.25756', 'vina_hydrophobic': '27.11894', 'vina_hydrogen': '0.0', 'vina_rmsd_lb': '3.225', 'vina_rmsd_ub': '6.055', 'vina_rmsd_input': '3.9032273', 'vina_rmsd_input_min': '3.8024542'}\n",
      "{'SMILES Atom Order': '2 4 7 5 1 3 8 9 10 6 11 16 15 14 13 12', 'vina_affinity': '-4.5', 'vina_gauss1': '43.17308', 'vina_gauss2': '685.51', 'vina_repulsion': '2.25756', 'vina_hydrophobic': '27.11894', 'vina_hydrogen': '0.0', 'vina_rmsd_lb': '2.308', 'vina_rmsd_ub': '2.732', 'vina_rmsd_input': '3.7665', 'vina_rmsd_input_min': '3.7665'}\n"
     ]
    }
   ],
   "source": [
    "for lig in ligs:\n",
    "    print(lig.data)"
   ]
  },
  {
   "cell_type": "code",
   "execution_count": 30,
   "id": "2e676c78-60b2-4cf3-a25b-81d6ffcdca8d",
   "metadata": {},
   "outputs": [
    {
     "data": {
      "text/plain": [
       "'/home/pengs/oddt_try/try_auto_ligand/lig_0.pdbqt'"
      ]
     },
     "execution_count": 30,
     "metadata": {},
     "output_type": "execute_result"
    }
   ],
   "source": [
    "save_dir = '/home/pengs/oddt_try/try_auto_ligand'\n",
    "write_vina_pdbqt(ligs[0], save_dir)"
   ]
  },
  {
   "cell_type": "code",
   "execution_count": null,
   "id": "ca4fc21c-ea23-4762-b17a-f0e4a6b1493b",
   "metadata": {},
   "outputs": [],
   "source": []
  }
 ],
 "metadata": {
  "kernelspec": {
   "display_name": "Python 3 (ipykernel)",
   "language": "python",
   "name": "python3"
  },
  "language_info": {
   "codemirror_mode": {
    "name": "ipython",
    "version": 3
   },
   "file_extension": ".py",
   "mimetype": "text/x-python",
   "name": "python",
   "nbconvert_exporter": "python",
   "pygments_lexer": "ipython3",
   "version": "3.10.14"
  }
 },
 "nbformat": 4,
 "nbformat_minor": 5
}
