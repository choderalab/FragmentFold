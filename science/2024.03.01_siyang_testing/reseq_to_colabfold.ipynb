{
 "cells": [
  {
   "cell_type": "markdown",
   "id": "a80c66d4",
   "metadata": {},
   "source": [
    "# Find Similar Sequences from Refseq blast of the Diamond X-ray screen protein"
   ]
  },
  {
   "cell_type": "code",
   "execution_count": null,
   "id": "a943d750",
   "metadata": {},
   "outputs": [],
   "source": [
    "from pathlib import Path\n",
    "from pymol import cmd\n",
    "import os\n",
    "import re"
   ]
  },
  {
   "cell_type": "code",
   "execution_count": null,
   "id": "d81bb860",
   "metadata": {},
   "outputs": [],
   "source": [
    "# Going to be working in this directory from now on to keep things cleaner\n",
    "local_path = Path(\"/Users/choderalab/temp_storage/arborvirus/\")"
   ]
  },
  {
   "cell_type": "markdown",
   "id": "1dbc801e",
   "metadata": {},
   "source": [
    "## Get just the protein from the X-ray screen"
   ]
  },
  {
   "cell_type": "code",
   "execution_count": null,
   "id": "a2181b41",
   "metadata": {},
   "outputs": [],
   "source": [
    "structure_name = 'zikv_ligands'\n",
    "cmd.load(local_path / \"ZIKV_NS2B3_ligands.pdb\", structure_name)\n",
    "cmd.select(\"zikv_protein\", structure_name + \" and polymer.protein\")\n",
    "#cmd.save(local_path / \"protein.pdb\", \"protein\")"
   ]
  },
  {
   "cell_type": "code",
   "execution_count": null,
   "id": "1422834f",
   "metadata": {},
   "outputs": [],
   "source": [
    "# Save the fasta of that structure\n",
    "cmd.save(local_path/\"zikv_ns2b3.fasta\", \"zikv_protein and chain A+B\")"
   ]
  },
  {
   "cell_type": "markdown",
   "id": "be9d7695",
   "metadata": {},
   "source": [
    "## Refseq Blast the protein fasta"
   ]
  },
  {
   "cell_type": "code",
   "execution_count": null,
   "id": "a1d9a8c5",
   "metadata": {},
   "outputs": [],
   "source": [
    "from Bio.Blast import NCBIWWW\n",
    "from Bio.Blast import NCBIXML\n",
    "from Bio import SeqIO"
   ]
  },
  {
   "cell_type": "code",
   "execution_count": null,
   "id": "7ab29f65",
   "metadata": {},
   "outputs": [],
   "source": [
    "# Define sequence to compare\n",
    "sequence = \"\"\n",
    "\n",
    "# Read in the sequence to compare\n",
    "# https://www.biostars.org/p/710/\n",
    "fasta_file = local_path/\"zikv_ns2b3.fasta\"\n",
    "fasta_sequences = SeqIO.parse(open(fasta_file),'fasta')\n",
    "for fasta in fasta_sequences:\n",
    "    name, seq = fasta.id, str(fasta.seq)\n",
    "    # Separate the chains with : \n",
    "    sequence += seq + \":\"\n",
    "# Remove the last : \n",
    "sequence = sequence[:-1]"
   ]
  },
  {
   "cell_type": "code",
   "execution_count": null,
   "id": "5c1fc20f",
   "metadata": {},
   "outputs": [],
   "source": [
    "# Define parameters\n",
    "blast_program = \"blastp\"\n",
    "database = \"refseq_protein\""
   ]
  },
  {
   "cell_type": "code",
   "execution_count": null,
   "id": "9f210390",
   "metadata": {},
   "outputs": [],
   "source": [
    "# Perform BLAST query\n",
    "result_handle = NCBIWWW.qblast(blast_program, database, sequence, format_type=\"XML\",hitlist_size = 150)"
   ]
  },
  {
   "cell_type": "code",
   "execution_count": null,
   "id": "a283a157",
   "metadata": {},
   "outputs": [],
   "source": [
    "# Save result to file\n",
    "with open(local_path/\"zikv_blast_both_chain_results.xml\", \"w\") as out_handle:\n",
    "    out_handle.write(result_handle.read())"
   ]
  },
  {
   "cell_type": "markdown",
   "id": "aae49cb4",
   "metadata": {},
   "source": [
    "## Filter the blast results by organisms of interest\n",
    "https://github.com/biopython/biopython/blob/master/Bio/Blast/NCBIXML.py"
   ]
  },
  {
   "cell_type": "code",
   "execution_count": null,
   "id": "e8f03d77",
   "metadata": {},
   "outputs": [],
   "source": [
    "# Find the organisms interested in \n",
    "# Define a set of organisms you are interested in\n",
    "organisms_of_interest = {\"West Nile virus\", \"dengue virus type 4\",\"dengue virus type 3\",\"dengue virus type 2\",\"dengue virus type 1\"}\n",
    "\n",
    "# Store hits from organisms of interest\n",
    "hits_from_interesting_organisms = []\n",
    "# Species indicated between brackets\n",
    "species_pattern = r'\\[(.*?)\\]'\n",
    "\n",
    "# Iterate over blast records\n",
    "with open(local_path/\"zikv_blast_both_chain_results.xml\", 'r') as file:\n",
    "    # Read the contents of the file\n",
    "    blast_records = NCBIXML.parse(file)\n",
    "    # Print out the BLAST results\n",
    "    for blast_record in blast_records:\n",
    "        for alignment in blast_record.alignments:\n",
    "            title =  alignment.title\n",
    "            species = re.search(species_pattern, title).group(1)\n",
    "            # Only keep the output if the species is within organisms_of_interest\n",
    "            if species in organisms_of_interest:\n",
    "                for hsp in alignment.hsps:\n",
    "                    # Save the found sequence title, sequence, and E-value of this match\n",
    "                    hits_from_interesting_organisms.append((alignment.title,hsp.sbjct,hsp.expect))\n"
   ]
  },
  {
   "cell_type": "markdown",
   "id": "60a47ee9",
   "metadata": {},
   "source": [
    "### Save structure of blast result as list of tuples\n",
    "#### Tuple structure: (title of blast search(with organism name and id), sequence from the search of the match, E-value of the blast)"
   ]
  },
  {
   "cell_type": "markdown",
   "id": "d051b9b2",
   "metadata": {},
   "source": [
    "## This may be an issue because the sequences do not have any distinction between the different chains, so unsure how this will be resolved in colabfold"
   ]
  },
  {
   "cell_type": "markdown",
   "id": "c2fc1581",
   "metadata": {},
   "source": [
    "## Remove all duplicate sequences from the file of interest and truncated"
   ]
  },
  {
   "cell_type": "code",
   "execution_count": null,
   "id": "8c12dc6c",
   "metadata": {},
   "outputs": [],
   "source": [
    "# Delete the duplicate sequences from list of all the organism sequences\n",
    "# Get rid of sequences that are too short\n",
    "# Get rid of sequences that are not matched with enough \n",
    "# Get rid of blanks (---) within the sequence if present (This is needed for colabfold)\n",
    "# https://biopython.org/wiki/Sequence_Cleaner\n",
    "# E-value: https://biology.stackexchange.com/questions/19338/what-e-value-blast-cut-off-is-best\n",
    "def sequence_cleaner(seq_list, handle_blank = True, min_length=0,e_value_threshold=1):\n",
    "    # Create our hash table to add the sequences\n",
    "    sequences = {}\n",
    "\n",
    "    # See if the sequence are truncated\n",
    "    for seq_info in seq_list:\n",
    "        sequence = str(seq_info[1]).upper()\n",
    "        # Handle the blanks (----) in the sequence\n",
    "        if handle_blank:\n",
    "            blanks = r'-+'\n",
    "            # Remove all blanks so real length\n",
    "            sequence = re.sub(blanks,'',sequence)\n",
    "        \n",
    "        if (\n",
    "            len(sequence) >= min_length\n",
    "            and e_value_threshold > seq_info[2]\n",
    "        ):\n",
    "            # check if in hash table, the sequence and its id are going to be in the hash\n",
    "            if sequence not in sequences:\n",
    "                sequences[sequence] = seq_info[0]\n",
    "            # If it is already in the hash table, just going to skip\n",
    "        \n",
    "    return sequences\n",
    "\n",
    "\n",
    "clean_sequences = sequence_cleaner(hits_from_interesting_organisms,min_length=100)\n"
   ]
  },
  {
   "cell_type": "code",
   "execution_count": null,
   "id": "b28f1538",
   "metadata": {},
   "outputs": [],
   "source": [
    "# Create to save the cleaned fasta results\n",
    "with open(local_path /\"clear_seqs_found.txt\", \"w+\") as output_file:\n",
    "    # Just read the hash table and write on the file as a fasta format\n",
    "    for sequence in clean_sequences:\n",
    "        output_file.write(\">\" + clean_sequences[sequence] + \"\\n\" + sequence + \"\\n\")\n",
    "\n",
    "print(\"CLEAN!!!\\nPlease check clear_seqs_found.txt\")"
   ]
  },
  {
   "cell_type": "code",
   "execution_count": null,
   "id": "71493b78",
   "metadata": {},
   "outputs": [],
   "source": [
    "# Create to save the cleaned fasta results\n",
    "clean_blank_sequences = sequence_cleaner(hits_from_interesting_organisms,handle_blank = False, min_length=100)\n",
    "\n",
    "with open(local_path /\"clear_blank_seqs_found.txt\", \"w+\") as output_file:\n",
    "    # Just read the hash table and write on the file as a fasta format\n",
    "    for sequence in clean_blank_sequences:\n",
    "        output_file.write(\">\" + clean_blank_sequences[sequence] + \"\\n\" + sequence + \"\\n\")\n",
    "\n",
    "print(\"CLEAN!!!\\nPlease check clear_seqs_found.txt\")"
   ]
  },
  {
   "cell_type": "markdown",
   "id": "3dd07727",
   "metadata": {},
   "source": [
    "### Save all the sequences that are found from species of interest into a file\n",
    "#### interest_fasta.txt"
   ]
  },
  {
   "cell_type": "markdown",
   "id": "21eaa3dc",
   "metadata": {},
   "source": [
    "## Put into csv for Colabfold"
   ]
  },
  {
   "cell_type": "code",
   "execution_count": null,
   "id": "333479a8",
   "metadata": {},
   "outputs": [],
   "source": [
    "# List to put in csv\n",
    "id_seqs = []\n",
    "\n",
    "regex = r'ref\\|(\\w+\\.\\d+)\\|'\n",
    "for sequence in clean_sequences:\n",
    "    text = clean_sequences[sequence]\n",
    "    match = re.match(regex, text)\n",
    "    id_seqs.append((match.group(1)+\"_{}\",sequence))"
   ]
  },
  {
   "cell_type": "code",
   "execution_count": null,
   "id": "041e296b",
   "metadata": {},
   "outputs": [],
   "source": [
    "import csv\n",
    "# Output the previous thing to csv format\n",
    "# Specify the file path\n",
    "file_path = \"arborviruses_full.csv\"\n",
    "\n",
    "# Write data to CSV file\n",
    "with open(local_path/file_path, mode='w', newline='') as file:\n",
    "    writer = csv.writer(file)\n",
    "    writer.writerow(['id', 'sequence'])  # Write header\n",
    "    writer.writerows(id_seqs)  # Write data rows"
   ]
  },
  {
   "cell_type": "markdown",
   "id": "fbfbf539",
   "metadata": {},
   "source": [
    "## Now Running Colabfold from lilac"
   ]
  },
  {
   "cell_type": "code",
   "execution_count": null,
   "id": "8b15a1d7",
   "metadata": {},
   "outputs": [],
   "source": []
  },
  {
   "cell_type": "code",
   "execution_count": null,
   "id": "2b739d01",
   "metadata": {},
   "outputs": [],
   "source": []
  },
  {
   "cell_type": "code",
   "execution_count": null,
   "id": "b84a1194",
   "metadata": {},
   "outputs": [],
   "source": []
  }
 ],
 "metadata": {
  "kernelspec": {
   "display_name": "Python 3 (ipykernel)",
   "language": "python",
   "name": "python3"
  },
  "language_info": {
   "codemirror_mode": {
    "name": "ipython",
    "version": 3
   },
   "file_extension": ".py",
   "mimetype": "text/x-python",
   "name": "python",
   "nbconvert_exporter": "python",
   "pygments_lexer": "ipython3",
   "version": "3.10.13"
  }
 },
 "nbformat": 4,
 "nbformat_minor": 5
}
