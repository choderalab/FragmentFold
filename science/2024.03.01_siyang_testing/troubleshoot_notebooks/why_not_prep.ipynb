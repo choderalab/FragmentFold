{
 "cells": [
  {
   "cell_type": "markdown",
   "id": "2f18294a-09cf-4fbf-aa43-e786de913c50",
   "metadata": {},
   "source": [
    "## Sequence Alignment and get canonical numbering of the residues and pdb id"
   ]
  },
  {
   "cell_type": "code",
   "execution_count": null,
   "id": "d798961d-9b38-4b47-98ed-9739376c6374",
   "metadata": {},
   "outputs": [],
   "source": [
    "from Bio import AlignIO\n",
    "from pathlib import Path\n",
    "from Bio import SeqIO\n",
    "from asapdiscovery.data.backend.plip import get_interactions_plip\n",
    "from asapdiscovery.data.backend.openeye import (\n",
    "    load_openeye_sdf,\n",
    "    load_openeye_pdb\n",
    ")\n",
    "from openeye import oechem"
   ]
  },
  {
   "cell_type": "code",
   "execution_count": null,
   "id": "5b99c16a-00fb-4553-aa68-31276a1d1a64",
   "metadata": {},
   "outputs": [],
   "source": [
    "local_path = Path('/home/pengs/fold_zika')\n",
    "align = AlignIO.read(local_path/\"output.fasta\", \"fasta\")"
   ]
  },
  {
   "cell_type": "code",
   "execution_count": null,
   "id": "245ec0f3-7979-4aab-9e8e-70a75bcbb58b",
   "metadata": {},
   "outputs": [],
   "source": [
    "# Shove in the alignIO sequences from mafft and get the new number for each amino acid in the sequence\n",
    "def get_new_renumber(align):\n",
    "    res_num = dict()\n",
    "    \n",
    "    # Reference is the first sequence\n",
    "    ref = align[0]\n",
    "    # Initialize annotation for reference sequence, assume first residue is #1\n",
    "    ref.letter_annotations[\"resnum\"] = range(1,len(ref)+1)\n",
    "    # Save the residue number\n",
    "    res_num[ref.id] = list(ref.letter_annotations[\"resnum\"])\n",
    "    \n",
    "    # Get a list of all other sequences to map back to the reference\n",
    "    to_renumber = align[1:]\n",
    "    for rec in to_renumber:\n",
    "        # Initiate a new annotation for the sequences\n",
    "        rec.letter_annotations[\"resnum\"]=[None]*len(rec)\n",
    "        # Set new residue numbers in rec based on alignment\n",
    "        reslist = [[i,ref.letter_annotations[\"resnum\"][i]] for i in range(len(ref)) if rec[i] != '-']\n",
    "        for [i,r] in reslist:\n",
    "            rec.letter_annotations[\"resnum\"][i]=r\n",
    "        # Set new residue numbers in the structure\n",
    "        newresnums = [i for i in rec.letter_annotations[\"resnum\"][:] if i != None]\n",
    "        # Save to dict\n",
    "        res_num[rec.id] = newresnums\n",
    "    # Return the residue numbers of the aligned files\n",
    "    # Dictionary with sequence id as the key and the residue numbers in a list as the value\n",
    "    return res_num\n",
    "\n",
    "align_num = get_new_renumber(align)"
   ]
  },
  {
   "cell_type": "code",
   "execution_count": null,
   "id": "8f8cdb93-6f27-4845-b9a7-adc263034293",
   "metadata": {},
   "outputs": [],
   "source": [
    "align_num"
   ]
  },
  {
   "cell_type": "markdown",
   "id": "8b03ff03-5f00-41e6-a851-ce0d351d7652",
   "metadata": {},
   "source": [
    "## Plip returns the pdb id of the active residue"
   ]
  },
  {
   "cell_type": "code",
   "execution_count": null,
   "id": "c168679c-0c8f-401c-a0eb-11d2b8fff4c2",
   "metadata": {},
   "outputs": [],
   "source": [
    "# https://stackoverflow.com/questions/42851010/getting-residue-number-and-residue-name-in-biopython-pdb-module\n",
    "from Bio import *\n",
    "from Bio.PDB.PDBParser import PDBParser\n",
    "from Bio.PDB.Polypeptide import PPBuilder\n",
    "\n",
    "pdb_file = '/home/pengs/fold_zika/test_prep/zikv_ns2b3.pdb' "
   ]
  },
  {
   "cell_type": "code",
   "execution_count": null,
   "id": "7ff94a64-51f0-4ea0-9acb-bfe1fd6457d6",
   "metadata": {},
   "outputs": [],
   "source": [
    "# get id of Pdb residues from the pdb file and save in dictionary by the sequence number\n",
    "def get_pdb_id(pdb_file):\n",
    "    structure = PDBParser().get_structure('prot', pdb_file)   \n",
    "    pdb_id = dict()\n",
    "    count = 1\n",
    "    for model in structure:\n",
    "        for chain in model:\n",
    "            chain_id = chain.get_full_id()[2]\n",
    "            for i in chain.get_residues():\n",
    "                resname = i.resname\n",
    "                resnum = i.get_full_id()[3][1]\n",
    "                id = (resname, resnum, chain_id)\n",
    "                pdb_id[count] = id\n",
    "                count += 1\n",
    "    return pdb_id"
   ]
  },
  {
   "cell_type": "code",
   "execution_count": null,
   "id": "0d8e304b-c4fc-4b14-9748-bc28c6d5fc72",
   "metadata": {},
   "outputs": [],
   "source": [
    "pdb_id = get_pdb_id(pdb_file)\n",
    "pdb_id_flip = {v:k for k,v in pdb_id.items()}"
   ]
  },
  {
   "cell_type": "code",
   "execution_count": null,
   "id": "a967dfd6-7be6-4a21-a17a-e9a3cb81203e",
   "metadata": {},
   "outputs": [],
   "source": []
  },
  {
   "cell_type": "markdown",
   "id": "27a05985-05ab-4190-b8e7-e1f8e7116900",
   "metadata": {},
   "source": [
    "## get the openeye residue id required for running protein prep"
   ]
  },
  {
   "cell_type": "code",
   "execution_count": null,
   "id": "fff394e3-8b87-4e61-b102-340cef32825a",
   "metadata": {},
   "outputs": [],
   "source": [
    "#### Iterate over the residues of oeGraphMol and get the openeye residue ids\n",
    "def find_oe_res_id(protein):\n",
    "    #### Get the residues from the molecule\n",
    "    residues = oechem.OEGetResidues(protein)\n",
    "    # Getting the residue ids in the protein file\n",
    "    oe_id = dict()\n",
    "    count = 1\n",
    "    for residue in residues:\n",
    "        #oe_thing[(residue.GetName(),residue.GetResidueNumber(),residue.GetExtChainID())] = count\n",
    "        # Since did not get the chain ID before, would just go with A now\n",
    "        oe_id[count] = (residue.GetName(),residue.GetResidueNumber(),'A')\n",
    "        count += 1\n",
    "    return oe_id"
   ]
  },
  {
   "cell_type": "code",
   "execution_count": null,
   "id": "af076a31-a8e7-4370-a4f6-7b246e0731cc",
   "metadata": {},
   "outputs": [],
   "source": [
    "zikv_oe = load_openeye_pdb(pdb_file)"
   ]
  },
  {
   "cell_type": "code",
   "execution_count": null,
   "id": "2bd6c1dc-484f-4157-bf09-68207dcdac64",
   "metadata": {},
   "outputs": [],
   "source": [
    "find_oe_res_id(zikv_oe)"
   ]
  },
  {
   "cell_type": "code",
   "execution_count": null,
   "id": "34ed98b0-7e45-45a4-82c5-b201cae20558",
   "metadata": {},
   "outputs": [],
   "source": [
    "pdb_id"
   ]
  },
  {
   "cell_type": "markdown",
   "id": "b6ac4015-9dcc-4383-8ff1-12310f5a5fce",
   "metadata": {},
   "source": [
    "## The Openeye perceived Molecule residues have the same numbering as the pdb ids"
   ]
  },
  {
   "cell_type": "code",
   "execution_count": null,
   "id": "fedd7a00-b387-40f3-95c1-4d643e3c4188",
   "metadata": {},
   "outputs": [],
   "source": []
  },
  {
   "cell_type": "markdown",
   "id": "0d5c2ef7-1a83-46a3-a795-da72605584b4",
   "metadata": {},
   "source": [
    "## Trying to make a design unit using the different ways online sources defined residues in OEGraphMol molecules"
   ]
  },
  {
   "cell_type": "code",
   "execution_count": null,
   "id": "d01d7c07-1458-45e2-9608-3dd774a8fff8",
   "metadata": {},
   "outputs": [],
   "source": [
    "from asapdiscovery.modeling.modeling import make_design_unit,get_oe_prep_opts,get_oe_structure_metadata_from_sequence\n",
    "from asapdiscovery.data.backend.openeye import (\n",
    "    oechem,\n",
    "    oedocking,\n",
    "    oegrid,\n",
    "    oespruce,\n",
    "    openeye_perceive_residues,\n",
    ")\n",
    "from asapdiscovery.data.backend.openeye import (\n",
    "    load_openeye_sdf,\n",
    "    load_openeye_pdb\n",
    ")"
   ]
  },
  {
   "cell_type": "code",
   "execution_count": null,
   "id": "ed07c6e9-6621-4166-a540-2567ffcf9570",
   "metadata": {},
   "outputs": [],
   "source": [
    "opts = get_oe_prep_opts()\n",
    "opts\n",
    "#make_design_unit(zikv_oe, 'ASP:129::B')"
   ]
  },
  {
   "cell_type": "code",
   "execution_count": null,
   "id": "e0f439e4-7b6c-4361-857f-7140fcf50ee3",
   "metadata": {},
   "outputs": [],
   "source": [
    "metadata = oespruce.OEStructureMetadata()"
   ]
  },
  {
   "cell_type": "code",
   "execution_count": null,
   "id": "c9f32d01-ae5b-4d5f-b6a3-23b84ab7b05a",
   "metadata": {},
   "outputs": [],
   "source": [
    "prot_file = '/Users/choderalab/temp_storage/separate/output/lig_9_protein.pdb'\n",
    "prot_lig9 = load_openeye_pdb(prot_file)\n",
    "prot = load_openeye_pdb('/Users/choderalab/temp_storage/separate/pdb_intermediates/protein.pdb')\n",
    "lig = load_openeye_sdf('/Users/choderalab/temp_storage/separate/lig_sdfs/lig_9.sdf')"
   ]
  },
  {
   "cell_type": "markdown",
   "id": "17a8854c-a50e-4338-9164-629f0d7eac10",
   "metadata": {},
   "source": [
    "https://openkinome.org/kinoml/notebooks/OpenEye_structural_featurizer.html"
   ]
  },
  {
   "cell_type": "code",
   "execution_count": null,
   "id": "12299836-2d2d-48a6-a17b-fa98b0e0fd38",
   "metadata": {},
   "outputs": [],
   "source": [
    "du = oespruce.OEMakeDesignUnits(prot, metadata, opts, 'TYR-161')"
   ]
  },
  {
   "cell_type": "code",
   "execution_count": null,
   "id": "f7a2e525-5d42-4fef-bcc6-8f253fb9a45c",
   "metadata": {},
   "outputs": [],
   "source": [
    "du = oespruce.OEMakeDesignUnits(prot, metadata, opts, 'TYR 161  A 1')"
   ]
  },
  {
   "cell_type": "markdown",
   "id": "1aee410d-5d25-4639-98c5-e8642b64b5fc",
   "metadata": {},
   "source": [
    "## This means something is wrong with the way I am defining residues (most likely wrong syntax)"
   ]
  },
  {
   "cell_type": "code",
   "execution_count": null,
   "id": "f987cf64-c33f-4335-8ffb-38dfd4195a24",
   "metadata": {},
   "outputs": [],
   "source": [
    "from simtk.openmm import app"
   ]
  },
  {
   "cell_type": "code",
   "execution_count": null,
   "id": "2b7309ea-fef6-4d72-889f-edb2ba9a104a",
   "metadata": {},
   "outputs": [],
   "source": [
    "hv = oechem.OEHierView(\n",
    "            prot, oechem.OEAssumption_BondedResidue +\n",
    "            oechem.OEAssumption_ResPerceived + oechem.OEAssumption_PDBOrder)\n",
    "topology = app.Topology()\n",
    "\n",
    "for chain in hv.GetChains():\n",
    "    for frag in chain.GetFragments():\n",
    "        for hres in frag.GetResidues():\n",
    "            # Get OE residue\n",
    "            oe_res = hres.GetOEResidue()\n",
    "            print(str(oe_res))"
   ]
  },
  {
   "cell_type": "markdown",
   "id": "8c4844b4-32a6-4d04-b4d5-a86b970df0e8",
   "metadata": {},
   "source": [
    "## OEChem may have defined the residues differently from OEGraphMol?"
   ]
  },
  {
   "cell_type": "code",
   "execution_count": null,
   "id": "532ffd14-0bdb-468b-a888-27795b048bf4",
   "metadata": {},
   "outputs": [],
   "source": []
  },
  {
   "cell_type": "markdown",
   "id": "7a2ccd90-c562-4b21-931e-6b457a98c47d",
   "metadata": {},
   "source": [
    "https://pdb101.rcsb.org/learn/guide-to-understanding-pdb-data/small-molecule-ligands"
   ]
  },
  {
   "cell_type": "code",
   "execution_count": null,
   "id": "7ff101cb-2f2c-4be8-9452-0a9f487218f2",
   "metadata": {},
   "outputs": [],
   "source": [
    "du = oespruce.OEMakeDesignUnits(prot, metadata, opts, 'TYR161:B')"
   ]
  },
  {
   "cell_type": "code",
   "execution_count": null,
   "id": "0cf95279-2052-4c18-a0a3-4e89de974d4a",
   "metadata": {},
   "outputs": [],
   "source": []
  },
  {
   "cell_type": "markdown",
   "id": "dac6fc92-619d-466f-af78-dc1d8afee0d6",
   "metadata": {},
   "source": [
    "## Trying to find out how molecules are being perceived after being loaded in by load_openeye_pdb"
   ]
  },
  {
   "cell_type": "code",
   "execution_count": null,
   "id": "03dc0ddd-6802-4270-97ef-496afa48f977",
   "metadata": {},
   "outputs": [],
   "source": [
    "from asapdiscovery.data.backend.openeye import (\n",
    "    oechem,\n",
    "    oedocking,\n",
    "    oegrid,\n",
    "    oespruce,\n",
    "    openeye_perceive_residues,\n",
    ")"
   ]
  },
  {
   "cell_type": "code",
   "execution_count": null,
   "id": "d2c7889a-d33e-4466-89b5-3a8bd7de4d3d",
   "metadata": {},
   "outputs": [],
   "source": [
    "initial_prot = openeye_perceive_residues(zikv_oe,preserve_all=False)\n",
    "initial_prot"
   ]
  },
  {
   "cell_type": "code",
   "execution_count": null,
   "id": "7ad46675-970a-42f0-854f-95622de4743a",
   "metadata": {},
   "outputs": [],
   "source": [
    "site_residue = 'ASP:129::B'\n",
    "if site_residue:\n",
    "    print('ran')\n",
    "    dus = list(oespruce.OEMakeDesignUnits(initial_prot, metadata, opts, site_residue))"
   ]
  },
  {
   "cell_type": "code",
   "execution_count": null,
   "id": "f4b767c1-7059-42a8-ab64-dc3ab7a9c797",
   "metadata": {},
   "outputs": [],
   "source": [
    "oespruce.OEMakeDesignUnits(initial_prot, metadata, opts, site_residue)"
   ]
  },
  {
   "cell_type": "markdown",
   "id": "e691960b-11c1-4865-a23e-cb44fae5fd67",
   "metadata": {},
   "source": [
    "## I think this is how the openeye object perceived id goes\n",
    "https://github.com/choderalab/asapdiscovery/blob/main/asapdiscovery-data/asapdiscovery/data/backend/openeye.py#L15"
   ]
  },
  {
   "cell_type": "code",
   "execution_count": null,
   "id": "6fffdc0f-7ad4-4aeb-9b2c-678ba4dde4ec",
   "metadata": {},
   "outputs": [],
   "source": []
  },
  {
   "cell_type": "markdown",
   "id": "4ad768d1-64d7-4eb5-bbb9-a1eb964c1778",
   "metadata": {},
   "source": [
    "## I don't think I can make the oe_active_residue to work (could not for the life of me find what the oe active residue is in the way openeye has defined the residue within their own sequence)"
   ]
  },
  {
   "cell_type": "code",
   "execution_count": null,
   "id": "50c83953-49ef-4964-b359-f3ff03dce789",
   "metadata": {},
   "outputs": [],
   "source": [
    "from openeye import oechem"
   ]
  },
  {
   "cell_type": "code",
   "execution_count": null,
   "id": "ff544fdb-2002-4581-a2d8-367a16b478d0",
   "metadata": {},
   "outputs": [],
   "source": [
    "file = '/home/pengs/fold_zika/test_prep/orig_bind/lig_0_protein.pdb'\n",
    "comb = load_openeye_pdb(file)\n",
    "oechem.OEPerceiveInteractionHints(comb)"
   ]
  },
  {
   "cell_type": "code",
   "execution_count": null,
   "id": "a7b23acd-80a1-4841-ac6f-0381fec3ebdb",
   "metadata": {},
   "outputs": [],
   "source": [
    "from rdkit import Chem\n",
    "sdf = Chem.SDMolSupplier( '/home/pengs/fold_zika/test_dock/combined_ligs.sdf' )\n",
    "with open('/home/pengs/fold_zika/test_dock/combined_ligs.smi', 'w') as f:\n",
    "    for mol in sdf:\n",
    "        smi = Chem.MolToSmiles(mol)\n",
    "        f.write(\"{}\\n\".format(smi))"
   ]
  },
  {
   "cell_type": "code",
   "execution_count": null,
   "id": "da10d155-afc7-4b0d-924b-d811ebe20d82",
   "metadata": {},
   "outputs": [],
   "source": []
  }
 ],
 "metadata": {
  "kernelspec": {
   "display_name": "Python 3 (ipykernel)",
   "language": "python",
   "name": "python3"
  },
  "language_info": {
   "codemirror_mode": {
    "name": "ipython",
    "version": 3
   },
   "file_extension": ".py",
   "mimetype": "text/x-python",
   "name": "python",
   "nbconvert_exporter": "python",
   "pygments_lexer": "ipython3",
   "version": "3.10.14"
  }
 },
 "nbformat": 4,
 "nbformat_minor": 5
}
