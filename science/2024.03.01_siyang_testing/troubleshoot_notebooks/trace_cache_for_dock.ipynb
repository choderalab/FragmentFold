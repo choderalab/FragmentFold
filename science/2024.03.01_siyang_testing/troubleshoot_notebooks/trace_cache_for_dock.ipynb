{
 "cells": [
  {
   "cell_type": "code",
   "execution_count": 3,
   "id": "d8c73074-c578-44af-9c83-290d615b46c1",
   "metadata": {},
   "outputs": [],
   "source": [
    "from asapdiscovery.modeling.protein_prep import PreppedComplex, ProteinPrepperBase\n",
    "from asapdiscovery.data.schema.complex import Complex, PreppedComplex\n",
    "from asapdiscovery.data.readers.meta_structure_factory import MetaStructureFactory\n",
    "from pathlib import Path"
   ]
  },
  {
   "cell_type": "code",
   "execution_count": 4,
   "id": "48aad8fa-1060-4b2d-9ac5-761ff90ad0a8",
   "metadata": {},
   "outputs": [
    {
     "name": "stdout",
     "output_type": "stream",
     "text": [
      "[Complex(target=Target(target_name='NP_722463.1_lig_0', ids=None, data_format=<DataStorageType.pdb: 'pdb'>), ligand=Ligand(compound_name='NP_722463.1_lig_0_ligand', ids=None, provenance=LigandProvenance(isomeric_smiles='c1ccc2c(c1)c(ccn2)N3CC[NH2+]CC3', inchi='InChI=1S/C13H15N3/c1-2-4-12-11(3-1)13(5-6-15-12)16-9-7-14-8-10-16/h1-6,14H,7-10H2/p+1', inchi_key='CGSWRHKBLLDUHO-UHFFFAOYSA-O', fixed_inchi='InChI=1/C13H15N3/c1-2-4-12-11(3-1)13(5-6-15-12)16-9-7-14-8-10-16/h1-6,14H,7-10H2/p+1/fC13H16N3/h14H/q+1', fixed_inchikey='CGSWRHKBLLDUHO-FOEMDWODNA-O'), experimental_data=None, expansion_tag=None, tags={}, data_format=<DataStorageType.sdf: 'sdf'>), ligand_chain=' ')]\n"
     ]
    }
   ],
   "source": [
    "structure_factory = MetaStructureFactory(\n",
    "        structure_dir= None,\n",
    "        fragalysis_dir= None,\n",
    "        pdb_file= Path('/lila/home/pengs/fold_zika/test_dock/input/NP_722463.1_lig_0.pdb'),\n",
    "        use_dask= 'false',\n",
    "        dask_failure_mode='skip',\n",
    "        dask_client=None,\n",
    "    )\n",
    "inputs = structure_factory.load()\n",
    "print(inputs)"
   ]
  },
  {
   "cell_type": "code",
   "execution_count": 5,
   "id": "f319c2a2-b55b-47da-a6a4-80f8abc5565a",
   "metadata": {},
   "outputs": [],
   "source": [
    "def gather_new_tasks(\n",
    "    complex_to_prep: list[Complex], cached_complexs: list[PreppedComplex]\n",
    ") -> tuple[list[Complex], list[PreppedComplex]]:\n",
    "    \"\"\"\n",
    "    For a set of complexs we want to prep gather a list of tasks to do removing complexs that have already\n",
    "    been prepped and are in the cache.\n",
    "    Parameters\n",
    "    ----------\n",
    "    complex_to_prep: The list of complexs we want to perform prep on.\n",
    "    cached_complexs: The list of PreppedComplexs found in the cache which can be reused.\n",
    "\n",
    "    Returns\n",
    "    -------\n",
    "        A tuple of two lists, the first contains the complexs which should be prepped and the second contains\n",
    "        the PreppedComplex from the cache which should be reused.\n",
    "    \"\"\"\n",
    "    cached_by_hash = {comp.hash: comp for comp in cached_complexs}\n",
    "    print('cached_by_hash')\n",
    "    print(cached_by_hash)\n",
    "    # gather outputs which are in the cache\n",
    "    cached_outputs = []\n",
    "    for inp in complex_to_prep:\n",
    "        print('inp.hash')\n",
    "        print(inp.hash)\n",
    "        if inp.hash in cached_by_hash:\n",
    "            cached_outputs.append(cached_by_hash[inp.hash])\n",
    "            \n",
    "    if cached_outputs:\n",
    "        to_prep = [inp for inp in complex_to_prep if inp.hash not in cached_by_hash]\n",
    "    else:\n",
    "        to_prep = complex_to_prep\n",
    "\n",
    "    return to_prep, cached_outputs"
   ]
  },
  {
   "cell_type": "code",
   "execution_count": 7,
   "id": "9fb8aa15-d40b-40f6-b0ae-39cf4dda28b7",
   "metadata": {},
   "outputs": [
    {
     "name": "stdout",
     "output_type": "stream",
     "text": [
      "/home/pengs/fold_zika/test_dock/temp_dir/NP_722463.1_lig_0-1a2bb0eb26cbb8705ba5b6ed9060f89ca9828fe333abdc83d3b7867ed1b3d458+CGSWRHKBLLDUHO-BXBSGAQWNA-P/NP_722463.1_lig_0.json\n",
      "cached_by_hash\n",
      "{'1a2bb0eb26cbb8705ba5b6ed9060f89ca9828fe333abdc83d3b7867ed1b3d458+CGSWRHKBLLDUHO-BXBSGAQWNA-P': PreppedComplex(target=PreppedTarget(target_name='NP_722463.1_lig_0', ids=None, data_format=<DataStorageType.b64oedu: 'b64oedu'>, target_hash='1a2bb0eb26cbb8705ba5b6ed9060f89ca9828fe333abdc83d3b7867ed1b3d458'), ligand=Ligand(compound_name='NP_722463.1_lig_0_ligand', ids=None, provenance=LigandProvenance(isomeric_smiles='c1ccc2c(c1)c(ccn2)N3CC[NH2+]CC3', inchi='InChI=1S/C13H15N3/c1-2-4-12-11(3-1)13(5-6-15-12)16-9-7-14-8-10-16/h1-6,14H,7-10H2/p+1', inchi_key='CGSWRHKBLLDUHO-UHFFFAOYSA-O', fixed_inchi='InChI=1/C13H15N3/c1-2-4-12-11(3-1)13(5-6-15-12)16-9-7-14-8-10-16/h1-6,14H,7-10H2/p+1/fC13H16N3/h14H/q+1', fixed_inchikey='CGSWRHKBLLDUHO-FOEMDWODNA-O'), experimental_data=None, expansion_tag=None, tags={}, data_format=<DataStorageType.sdf: 'sdf'>))}\n",
      "inp.hash\n",
      "1a2bb0eb26cbb8705ba5b6ed9060f89ca9828fe333abdc83d3b7867ed1b3d458+CGSWRHKBLLDUHO-FOEMDWODNA-O\n",
      "Disregarding 1 structures which could not be found in the cache.\n"
     ]
    }
   ],
   "source": [
    "cache_dir = '/home/pengs/fold_zika/test_dock/temp_dir/NP_722463.1_lig_0-1a2bb0eb26cbb8705ba5b6ed9060f89ca9828fe333abdc83d3b7867ed1b3d458+CGSWRHKBLLDUHO-BXBSGAQWNA-P'\n",
    "\n",
    "if not (cache_dir := Path(cache_dir)).exists():\n",
    "    raise ValueError(f\"Cache directory {cache_dir} does not exist.\")\n",
    "\n",
    "prepped_complexes = []\n",
    "for complex_file in cache_dir.rglob(\"*.json\"):\n",
    "    print(complex_file)\n",
    "    prepped_complexes.append(PreppedComplex.from_json_file(complex_file))\n",
    "\n",
    "cached_complexs = prepped_complexes\n",
    "\n",
    "# workout what we can reuse\n",
    "if cached_complexs:\n",
    "    #print(f\"Loaded {len(cached_complexs)} cached structures from: {cache_dir}.\")\n",
    "    # reduce the number of tasks using any possible cached structures\n",
    "    inputs, cached_outputs = gather_new_tasks(\n",
    "        complex_to_prep=inputs, cached_complexs=cached_complexs\n",
    "    )\n",
    "    if inputs:\n",
    "        print(f\"Disregarding {len(inputs)} structures which could not be found in the cache.\")\n",
    "        inputs = None\n",
    "\n",
    "    if cached_outputs:\n",
    "        print(f\"Matched {len(cached_outputs)} cached structures which will be reused.\")\n",
    "        all_outputs.extend(cached_outputs)"
   ]
  },
  {
   "cell_type": "code",
   "execution_count": 9,
   "id": "a5fd687f-591a-4003-8b0e-1b453ddd8f88",
   "metadata": {},
   "outputs": [
    {
     "name": "stdout",
     "output_type": "stream",
     "text": [
      "None\n",
      "[]\n"
     ]
    }
   ],
   "source": [
    "print(inputs)\n",
    "print(cached_outputs)"
   ]
  },
  {
   "cell_type": "code",
   "execution_count": null,
   "id": "54109c73-d030-489f-a8b7-2b4bc87a14ee",
   "metadata": {},
   "outputs": [],
   "source": []
  }
 ],
 "metadata": {
  "kernelspec": {
   "display_name": "Python 3 (ipykernel)",
   "language": "python",
   "name": "python3"
  },
  "language_info": {
   "codemirror_mode": {
    "name": "ipython",
    "version": 3
   },
   "file_extension": ".py",
   "mimetype": "text/x-python",
   "name": "python",
   "nbconvert_exporter": "python",
   "pygments_lexer": "ipython3",
   "version": "3.10.14"
  }
 },
 "nbformat": 4,
 "nbformat_minor": 5
}
