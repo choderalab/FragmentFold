{
 "cells": [
  {
   "cell_type": "markdown",
   "id": "45855f0a-6d01-4b91-b849-9ef2f88017f2",
   "metadata": {},
   "source": [
    "## MSA"
   ]
  },
  {
   "cell_type": "code",
   "execution_count": 3,
   "id": "3af83fdd-79c8-4b9d-8074-ee04a5368d0c",
   "metadata": {},
   "outputs": [],
   "source": [
    "from Bio import AlignIO\n",
    "from pathlib import Path\n",
    "import subprocess\n",
    "from Bio import SeqIO\n",
    "import os\n",
    "import re\n",
    "import json\n",
    "from Bio.PDB.PDBParser import PDBParser"
   ]
  },
  {
   "cell_type": "code",
   "execution_count": 5,
   "id": "186d2eea-1644-43b9-844d-38ff0ea91382",
   "metadata": {},
   "outputs": [],
   "source": [
    "# Three letter to one letter code for amino acid\n",
    "d = {'CYS': 'C', 'ASP': 'D', 'SER': 'S', 'GLN': 'Q', 'LYS': 'K',\n",
    "    'ILE': 'I', 'PRO': 'P', 'THR': 'T', 'PHE': 'F', 'ASN': 'N', \n",
    "     'GLY': 'G', 'HIS': 'H', 'LEU': 'L', 'ARG': 'R', 'TRP': 'W', \n",
    "     'ALA': 'A', 'VAL':'V', 'GLU': 'E', 'TYR': 'Y', 'MET': 'M'}\n",
    "d_flip = {v:k for k,v in d.items()}"
   ]
  },
  {
   "cell_type": "code",
   "execution_count": 23,
   "id": "e8596a88-5288-4187-8a8f-05581f7ce60b",
   "metadata": {},
   "outputs": [],
   "source": [
    "# https://github.com/choderalab/asapdiscovery/blob/seq-alignment/asapdiscovery-seqalign/align_code.ipynb\n",
    "def multi_seq_alignment(input_file, output_file):\n",
    "    # Run MAFFT in command line\n",
    "    cmd = f\"mafft {input_file} > {output_file}\"\n",
    "    subprocess.run(cmd, shell=True)\n",
    "\n",
    "    # Read in the alignment to \n",
    "    align = AlignIO.read(output_file, \"fasta\")\n",
    "    return align, output_file\n",
    "    \n",
    "# Shove in the alignIO sequences from mafft and get the new number for each amino acid in the sequence\n",
    "def get_new_renumber(align):\n",
    "    res_num = dict()\n",
    "    \n",
    "    # Reference is the first sequence\n",
    "    ref = align[0]\n",
    "    # Initialize annotation for reference sequence, assume first residue is #1\n",
    "    ref.letter_annotations[\"resnum\"] = range(1,len(ref)+1)\n",
    "    # Save the residue number\n",
    "    res_num[ref.id] = list(ref.letter_annotations[\"resnum\"])\n",
    "    \n",
    "    # Get a list of all other sequences to map back to the reference\n",
    "    to_renumber = align[1:]\n",
    "    for rec in to_renumber:\n",
    "        # Initiate a new annotation for the sequences\n",
    "        rec.letter_annotations[\"resnum\"]=[None]*len(rec)\n",
    "        # Set new residue numbers in rec based on alignment\n",
    "        reslist = [[i,ref.letter_annotations[\"resnum\"][i]] for i in range(len(ref)) if rec[i] != '-']\n",
    "        for [i,r] in reslist:\n",
    "            rec.letter_annotations[\"resnum\"][i]=r\n",
    "        # Set new residue numbers in the structure\n",
    "        newresnums = [i for i in rec.letter_annotations[\"resnum\"][:] if i != None]\n",
    "        # Save to dict\n",
    "        res_num[rec.id] = newresnums\n",
    "    # Return the residue numbers of the aligned files\n",
    "    # Dictionary with sequence id as the key and the residue numbers in a list as the value\n",
    "    return res_num\n",
    "\n",
    "# Input: \n",
    "# seq = sequence\n",
    "# dic = amino acid dictionary that maps the three letter code to one letter code\n",
    "# seq_num = the residue number in just the sequence\n",
    "# chain = the chain the residue is on\n",
    "# align_num = the residue number asigned to the residue from the mafft msa renumbering (to the canonical number) \n",
    "def triple_aa_renumber(seq, dic, seq_list, chain, align_list):   \n",
    "    res = dict()\n",
    "    for idx, char in enumerate(seq):\n",
    "        code = dic.get(char, 'XXX')\n",
    "        res[(code,seq_list[idx],chain)] = align_list[idx]\n",
    "    return res\n",
    "\n",
    "# change the triple amino acid to single amino acid\n",
    "def trip_to_single_aa(trip_aa):\n",
    "    single_aa = d[trip_aa]\n",
    "    return single_aa\n",
    "\n",
    "# get id of Pdb residues from the pdb file and save in dictionary by the sequence number\n",
    "def get_pdb_ids(pdb_file):\n",
    "    structure = PDBParser().get_structure('prot', pdb_file)   \n",
    "    pdb_id = dict()\n",
    "    count = 1\n",
    "    for model in structure:\n",
    "        for chain in model:\n",
    "            chain_id = chain.get_full_id()[2]\n",
    "            for i in chain.get_residues():\n",
    "                resname = i.resname\n",
    "                resnum = i.get_full_id()[3][1]\n",
    "                id = (resname, resnum, chain_id)\n",
    "                pdb_id[count] = id\n",
    "                count += 1\n",
    "    return pdb_id\n",
    "    \n",
    "# get id of Pdb residues from the pdb file and save in dictionary by the canonical number\n",
    "def get_canon_ids(pdb_file, canon_nums):\n",
    "    structure = PDBParser().get_structure('prot', pdb_file)   \n",
    "    pdb_id = dict()\n",
    "    count = 0\n",
    "    for model in structure:\n",
    "        for chain in model:\n",
    "            chain_id = chain.get_full_id()[2]\n",
    "            for i in chain.get_residues():\n",
    "                resname = i.resname\n",
    "                resnum = i.get_full_id()[3][1]\n",
    "                id = (resname, resnum, chain_id)\n",
    "                pdb_id[canon_nums[count]] = id\n",
    "                count += 1\n",
    "    return pdb_id"
   ]
  },
  {
   "cell_type": "markdown",
   "id": "c868e02b-38cc-4bf9-a974-9fdcd97a249b",
   "metadata": {},
   "source": [
    "## Pandas dataframe made with the indexes as the canonical number of the residue\n",
    "## The columns are the number of residue within the sequence and the pdb residue id"
   ]
  },
  {
   "cell_type": "code",
   "execution_count": 29,
   "id": "c22a1cf5-9e1b-497b-84df-6769e4223992",
   "metadata": {},
   "outputs": [
    {
     "name": "stderr",
     "output_type": "stream",
     "text": [
      "nthread = 0\n",
      "nthreadpair = 0\n",
      "nthreadtb = 0\n",
      "ppenalty_ex = 0\n",
      "stacksize: -1 kb\n",
      "rescale = 1\n",
      "Gap Penalty = -1.53, +0.00, +0.00\n",
      "\n",
      "\n",
      "\n",
      "Making a distance matrix ..\n",
      "    1 / 8\n",
      "done.\n",
      "\n",
      "Constructing a UPGMA tree (efffree=0) ... \n",
      "    0 / 8\n",
      "done.\n",
      "\n",
      "Progressive alignment 1/2... \n",
      "STEP     7 / 7 \n",
      "done.\n",
      "\n",
      "Making a distance matrix from msa.. \n",
      "    0 / 8\n",
      "done.\n",
      "\n",
      "Constructing a UPGMA tree (efffree=1) ... \n",
      "    0 / 8\n",
      "done.\n",
      "\n",
      "Progressive alignment 2/2... \n",
      "STEP     7 / 7 \n",
      "done.\n",
      "\n",
      "disttbfast (aa) Version 7.525\n",
      "alg=A, model=BLOSUM62, 1.53, -0.00, -0.00, noshift, amax=0.0\n",
      "0 thread(s)\n",
      "\n",
      "\n",
      "Strategy:\n",
      " FFT-NS-2 (Fast but rough)\n",
      " Progressive method (guide trees were built 2 times.)\n",
      "\n",
      "If unsure which option to use, try 'mafft --auto input > output'.\n",
      "For more information, see 'mafft --help', 'mafft --man' and the mafft page.\n",
      "\n",
      "The default gap scoring scheme has been changed in version 7.110 (2013 Oct).\n",
      "It tends to insert more gaps into gap-rich regions than previous versions.\n",
      "To disable this change, add the --leavegappyregion option.\n",
      "\n"
     ]
    }
   ],
   "source": [
    "# MSA with MAFFT\n",
    "local_path = Path('/home/pengs/fold_zika')\n",
    "align, out_file = multi_seq_alignment(local_path/\"clear_blank_seqs_found.txt\", local_path/\"output.fasta\")\n",
    "\n",
    "# Read in alignment file and renumber based on the reference to canonical number\n",
    "align_num = get_new_renumber(align)\n"
   ]
  },
  {
   "cell_type": "code",
   "execution_count": 14,
   "id": "fd471287-e036-4b83-84c2-137897900e79",
   "metadata": {},
   "outputs": [],
   "source": [
    "prot_dir = Path('/home/pengs/fold_zika/only_prot')"
   ]
  },
  {
   "cell_type": "code",
   "execution_count": 24,
   "id": "5aea47c3-e75f-4186-843b-a2d0621acf79",
   "metadata": {},
   "outputs": [
    {
     "name": "stderr",
     "output_type": "stream",
     "text": [
      "/home/pengs/miniconda3/envs/oddt/lib/python3.10/site-packages/Bio/PDB/PDBParser.py:388: PDBConstructionWarning: Ignoring unrecognized record 'END' at line 3202\n",
      "  warnings.warn(\n",
      "/home/pengs/miniconda3/envs/oddt/lib/python3.10/site-packages/Bio/PDB/PDBParser.py:388: PDBConstructionWarning: Ignoring unrecognized record 'END' at line 1183\n",
      "  warnings.warn(\n",
      "/home/pengs/miniconda3/envs/oddt/lib/python3.10/site-packages/Bio/PDB/PDBParser.py:388: PDBConstructionWarning: Ignoring unrecognized record 'END' at line 1181\n",
      "  warnings.warn(\n",
      "/home/pengs/miniconda3/envs/oddt/lib/python3.10/site-packages/Bio/PDB/PDBParser.py:388: PDBConstructionWarning: Ignoring unrecognized record 'END' at line 1175\n",
      "  warnings.warn(\n",
      "/home/pengs/miniconda3/envs/oddt/lib/python3.10/site-packages/Bio/PDB/PDBParser.py:388: PDBConstructionWarning: Ignoring unrecognized record 'END' at line 1137\n",
      "  warnings.warn(\n",
      "/home/pengs/miniconda3/envs/oddt/lib/python3.10/site-packages/Bio/PDB/PDBParser.py:388: PDBConstructionWarning: Ignoring unrecognized record 'END' at line 1186\n",
      "  warnings.warn(\n",
      "/home/pengs/miniconda3/envs/oddt/lib/python3.10/site-packages/Bio/PDB/PDBParser.py:388: PDBConstructionWarning: Ignoring unrecognized record 'END' at line 1197\n",
      "  warnings.warn(\n",
      "/home/pengs/miniconda3/envs/oddt/lib/python3.10/site-packages/Bio/PDB/PDBParser.py:388: PDBConstructionWarning: Ignoring unrecognized record 'END' at line 1378\n",
      "  warnings.warn(\n"
     ]
    }
   ],
   "source": [
    "# Map residue id to canonical number\n",
    "msa_map = dict()\n",
    "for id in current_num:\n",
    "    match = re.search(r'ref\\|(.*)\\|',id)\n",
    "    name = match.group(1)\n",
    "    # Get the pdb ids of each protein\n",
    "    prot_file = name + '.pdb'\n",
    "    msa_map[name] = get_canon_ids(prot_dir/prot_file, align_num[id])"
   ]
  },
  {
   "cell_type": "code",
   "execution_count": 28,
   "id": "b7cb5ed2-7e00-42bd-9d52-2f2c46e3c20c",
   "metadata": {},
   "outputs": [],
   "source": [
    "with open('/home/pengs/fold_zika/oddt_dock/msa_map.json', 'w') as f:\n",
    "    json.dump(msa_map, f)"
   ]
  },
  {
   "cell_type": "markdown",
   "id": "bfbdcc27-316a-40d4-a8a2-95939546d1c5",
   "metadata": {},
   "source": [
    "## Generate sequences to put into Colabfold"
   ]
  },
  {
   "cell_type": "code",
   "execution_count": 12,
   "id": "915e9b71-f96d-4a31-b210-09bff0d74740",
   "metadata": {},
   "outputs": [],
   "source": [
    "# Read sequence to be put into colabfold\n",
    "local_path = Path('/home/pengs/fold_zika')\n",
    "align_file = local_path/\"output.fasta\"\n",
    "fasta_sequences = list(SeqIO.parse(open(align_file),'fasta'))\n",
    "\n",
    "# Current residue numbers\n",
    "current_num = dict()\n",
    "current_seq = dict()\n",
    "\n",
    "for fasta in fasta_sequences:\n",
    "    current_num[fasta.id] = list(range(1,len(fasta)+1))\n",
    "    current_seq[fasta.id] = str(fasta.seq)"
   ]
  },
  {
   "cell_type": "code",
   "execution_count": 13,
   "id": "2683a850-482c-40d2-8e8a-450db7adbdda",
   "metadata": {},
   "outputs": [
    {
     "data": {
      "text/plain": [
       "{'ref|zikv_ns2b3|': 'DMYIERAGDITWEKDAEVTGNSPRLDVALDESGDFSLVEGETTDGVYRVMTRRLLGSTQVGVGVMQEGVFHTMWHVTKGAALRSGEGRLDPYWGDVKQDLVSYCGPWKLDAAWDGLSEVQLLAVPPGERAKNIQTLPGIFKTKDGDIGAVALDYPAGTSGSPILDKCGRVIGLYGNGVVIKNGSYVSAITQGKRE',\n",
       " 'ref|NP_776018.1|': '--------------------------------------KGDTTTGVYRIMTRGLLGSYQAGAGVMVEGVFHTLWHTTKGAALMSGEGRLDPYWGSVKEDRLCYGGPWKLQHKWNGHDEVQMIVVEPGKNVKNVQTKPGVFKTPEGEIGAVTLDYPTGTSGSPIVDKNGDVIGLYGNGVIMPNGSYISAIVQGER-',\n",
       " 'ref|YP_001527884.1|': '--------------------------------------KGDTTTGVYRIMTRGLLGSYQAGAGVMVEGVFHTLWHTTKGAALMSGEGRLDPYWGSVKEDRLCYGGPWKLQHKWNGQDEVQMIVVEPGKNVKNVQTKPGVFKTPEGEIGAVTLDFPTGTSGSPIVDKNGDVIGLYGNGVIMPNGSYISAIVQGER-',\n",
       " 'ref|NP_740321.1|': '------------------------------------------SEGVYRIMQRGLFGKTQVGVGIHMEGVFHTMWHVTRGSVICHETGRLEPSWADVRNDMISYGGGWRLGDKWDKEEDVQVLAIEPGKNPKHVQTKPGLFKTLTGEIGAVTLDFKPGTSGSPIINRKGKVIGLYGNGVVTKSGDYVSAITQAER-',\n",
       " 'ref|NP_722463.1|': '-------------------------------------------DGIYRILQRGLLGRSQVGVGVFQEGVFHTMWHVTRGAVLMYQGKRLEPSWASVKKDLISYGGGWRFQGSWNAGEEVQVIAVEPGKNPKNVQTAPGTFKTPEGEVGAIALDFKPGTSGSPIVNREGKIVGLYGNGVVTTSGTYVSAIAQAK--',\n",
       " 'ref|NP_739587.2|': '--------------------------------------KAELEDGAYRIKQKGILGYSQIGAGVYKEGTFHTMWHVTRGAVLMHKGKRIEPSWADVKKDLISYGGGWKLEGEWKEGEEVQVLALEPGKNPRAVQTKPGLFKTNAGTIGAVSLDFSPGTSGSPIIDKKGKVVGLYGNGVVTRSGAYVSAIAQTEK-',\n",
       " 'ref|YP_001531172.2|': '--------------------------------------KAELEEGVYRIKQQGIFGKTQVGVGVQKEGVFHTMWHVTRGAVLTHNGKRLEPNWASVKKDLISYGGGWRLSAQWQKGEEVQVIAVEPGKNPKNFQTTPGTFQTTTGEIGAIALDFKPGTSGSPIINREGKVVGLYGNGVVTKNGGYVSGIAQTNAE',\n",
       " 'ref|YP_001621843.1|': '----------TWQKQTQRSG------VLWDVPSPPETQKAELEEGVYRIKQQGIFGKTQVGVGVQKEGVFHTMWHVTRGAVLTHNGKRLEPNWASVKKDLISYGGGWRLSAQWQKGEEVQVIAVEPGKNPKNFQTTPGTFQTTTGEIGAIALDFKPGTSGSPIINREGKVVGLYGNGVVTKNGGYVSGIAQTNAE'}"
      ]
     },
     "execution_count": 13,
     "metadata": {},
     "output_type": "execute_result"
    }
   ],
   "source": [
    "current_seq"
   ]
  },
  {
   "cell_type": "code",
   "execution_count": 14,
   "id": "d6dbe770-8fc1-4bc9-a081-289a1801c651",
   "metadata": {},
   "outputs": [],
   "source": [
    "zikv_chainA = 'DMYIERAGDITWEKDAEVTGNSPRLDVALDESGDFSLVE'\n",
    "def get_remaining_portion(front_portion, full_string):\n",
    "    pattern = re.escape(front_portion) + '(.*)'\n",
    "    match = re.match(pattern, full_string)\n",
    "    if match:\n",
    "        return match.group(1)\n",
    "    else:\n",
    "        return None\n",
    "zikv_chainB = get_remaining_portion(zikv_chainA, current_seq['ref|zikv_ns2b3|'])"
   ]
  },
  {
   "cell_type": "code",
   "execution_count": null,
   "id": "40bc69b8-2248-4d12-ab94-40d49eddacf3",
   "metadata": {},
   "outputs": [],
   "source": [
    "id_seqs = []\n",
    "regex = r'ref\\|(\\w+\\.\\d+)\\|'\n",
    "for seq_id in current_seq:\n",
    "    match = re.match(regex, seq_id)\n",
    "    sequence = current_seq[seq_id]\n",
    "    id_seqs.append((match.group(1)+\"_{}\",sequence))\n",
    "id_seqs"
   ]
  },
  {
   "cell_type": "code",
   "execution_count": 16,
   "id": "1bc3d1d6-19c8-4464-aa36-d25dafa46ce8",
   "metadata": {},
   "outputs": [],
   "source": [
    "import csv\n",
    "# Output the previous thing to csv format\n",
    "# Specify the file path\n",
    "file_path = \"arborviruses.csv\"\n",
    "\n",
    "# Write data to CSV file\n",
    "with open(file_path, mode='w', newline='') as file:\n",
    "    writer = csv.writer(file)\n",
    "    writer.writerow(['id', 'sequence'])  # Write header\n",
    "    writer.writerow(['zikv_ns2b3',f'{zikv_chainA}:{zikv_chainB}'])  "
   ]
  },
  {
   "cell_type": "markdown",
   "id": "c5414c44-a9ff-4645-a476-f6ff96898a98",
   "metadata": {},
   "source": [
    "### Would also like to have ns2b structures\n",
    "1. query ns2b sequences of the same organism\n",
    "2. concatenate the sequence as chain onto the ns3 chain of the same organism\n",
    "3. put into mafft to get into matching length and sequence\n",
    "4. put into csv and run colabfold\n",
    "5. dock and evaluate"
   ]
  },
  {
   "cell_type": "code",
   "execution_count": null,
   "id": "4b154256-d1b0-4f38-8c79-67bf17f20474",
   "metadata": {},
   "outputs": [],
   "source": []
  },
  {
   "cell_type": "code",
   "execution_count": null,
   "id": "c62f64be-532d-4c39-a25f-fe87b9778893",
   "metadata": {},
   "outputs": [],
   "source": []
  },
  {
   "cell_type": "markdown",
   "id": "bb1dc095-fc33-4e5e-9e2a-43f022c68446",
   "metadata": {},
   "source": [
    "## Active Residues ID \n",
    "### I dont think I can prep structures like this for docking (seem like docking would call protein-prep first before actually docking with posit)"
   ]
  },
  {
   "cell_type": "code",
   "execution_count": null,
   "id": "1ca97231-be90-473d-87c7-02c1295b1d63",
   "metadata": {},
   "outputs": [],
   "source": []
  },
  {
   "cell_type": "code",
   "execution_count": null,
   "id": "7af8006a-d146-48b6-bc6d-c5783ea7a1fe",
   "metadata": {},
   "outputs": [],
   "source": []
  },
  {
   "cell_type": "code",
   "execution_count": null,
   "id": "4a79c909-a067-4a30-8584-8e9b41b04f4d",
   "metadata": {},
   "outputs": [],
   "source": []
  },
  {
   "cell_type": "code",
   "execution_count": null,
   "id": "1c2e587f-34c9-4c81-9d92-ae8d35542b00",
   "metadata": {},
   "outputs": [],
   "source": []
  },
  {
   "cell_type": "code",
   "execution_count": null,
   "id": "49d21e42-93a0-41e2-81c9-44c7aaefbcf8",
   "metadata": {},
   "outputs": [],
   "source": []
  },
  {
   "cell_type": "markdown",
   "id": "6a57659a-c7ec-47da-abec-4ab7b2bd009e",
   "metadata": {},
   "source": [
    "## I think I can just do the prep and docking like the cross docking workflow but prep the protein and ligand with self-identified way (so can prepare the protein without the \n",
    "### Get the ligands from sdf to smi to dock(could put all the ligands into one file (smi) and dock it\n",
    "### could provide multiple reference by just putting in the original protein file ? (may be better to do this individually)\n",
    "### I really don't think trying to chuck this into cross-docking will work out well for me"
   ]
  },
  {
   "cell_type": "code",
   "execution_count": null,
   "id": "9ae402fa-2484-4a4d-af94-f45aba4ae0dd",
   "metadata": {},
   "outputs": [],
   "source": []
  },
  {
   "cell_type": "code",
   "execution_count": null,
   "id": "1514d336-153b-46b7-bed7-f14ab9134046",
   "metadata": {},
   "outputs": [],
   "source": []
  },
  {
   "cell_type": "code",
   "execution_count": null,
   "id": "f0dcb76c-5a0e-4594-8162-1d82ea55eb13",
   "metadata": {},
   "outputs": [],
   "source": []
  },
  {
   "cell_type": "code",
   "execution_count": null,
   "id": "8b011bce-6893-43e8-af9a-60c6f127f14e",
   "metadata": {},
   "outputs": [],
   "source": []
  },
  {
   "cell_type": "code",
   "execution_count": null,
   "id": "1f5d26b7-dffb-4fd7-a4a9-b95cf1d0045b",
   "metadata": {},
   "outputs": [],
   "source": []
  }
 ],
 "metadata": {
  "kernelspec": {
   "display_name": "Python 3 (ipykernel)",
   "language": "python",
   "name": "python3"
  },
  "language_info": {
   "codemirror_mode": {
    "name": "ipython",
    "version": 3
   },
   "file_extension": ".py",
   "mimetype": "text/x-python",
   "name": "python",
   "nbconvert_exporter": "python",
   "pygments_lexer": "ipython3",
   "version": "3.10.14"
  }
 },
 "nbformat": 4,
 "nbformat_minor": 5
}
