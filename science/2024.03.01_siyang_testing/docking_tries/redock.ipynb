{
 "cells": [
  {
   "cell_type": "markdown",
   "id": "8a250c9b-1c19-495c-8bed-1a18e2a87fb4",
   "metadata": {},
   "source": [
    "## MSA"
   ]
  },
  {
   "cell_type": "code",
   "execution_count": 1,
   "id": "6573c08c-cbda-403e-8671-b2b7628177ae",
   "metadata": {},
   "outputs": [],
   "source": [
    "from Bio import AlignIO\n",
    "from pathlib import Path\n",
    "import subprocess\n",
    "from Bio import SeqIO\n",
    "import os\n",
    "import re"
   ]
  },
  {
   "cell_type": "code",
   "execution_count": 2,
   "id": "824d8c70-877a-4519-8847-0fa2c108d76f",
   "metadata": {},
   "outputs": [],
   "source": [
    "# https://github.com/choderalab/asapdiscovery/blob/seq-alignment/asapdiscovery-seqalign/align_code.ipynb\n",
    "def multi_seq_alignment(input_file, output_file):\n",
    "    # Run MAFFT in command line\n",
    "    cmd = f\"mafft {input_file} > {output_file}\"\n",
    "    subprocess.run(cmd, shell=True)\n",
    "\n",
    "    # Read in the alignment to \n",
    "    align = AlignIO.read(output_file, \"fasta\")\n",
    "    return align, output_file"
   ]
  },
  {
   "cell_type": "code",
   "execution_count": null,
   "id": "a051f716-a1e6-4bf1-98da-8151ab7c5696",
   "metadata": {},
   "outputs": [],
   "source": [
    "local_path = Path('/home/pengs/fold_zika')\n",
    "align, out_file = multi_seq_alignment(local_path/\"clear_blank_seqs_found.txt\", local_path/\"output.fasta\")\n"
   ]
  },
  {
   "cell_type": "code",
   "execution_count": null,
   "id": "9cb0ae47-cc75-45c7-8f4b-97cd6fcf87f0",
   "metadata": {},
   "outputs": [],
   "source": [
    "fasta_sequences = list(SeqIO.parse(open(local_path/\"output.fasta\"),'fasta'))\n",
    "for fasta in fasta_sequences:\n",
    "    print(fasta.id)\n",
    "    print(fasta.seq)"
   ]
  },
  {
   "cell_type": "code",
   "execution_count": 1,
   "id": "be3cf4a2-9ad5-44cb-8ee8-513beece6507",
   "metadata": {},
   "outputs": [],
   "source": [
    "## Clean the sequences by removing '-' gaps\n",
    "## Match the chains\n",
    "## Remove the end of chain if not matched"
   ]
  },
  {
   "cell_type": "code",
   "execution_count": null,
   "id": "cc79c18f-dec0-49f4-b9f7-0231f69fb716",
   "metadata": {},
   "outputs": [],
   "source": [
    "ref_file = list(SeqIO.parse(open(local_path/\"zikv_ns2b3.fasta\"),'fasta'))\n",
    "for chain in ref_file:\n",
    "    print(chain.id)\n",
    "    print(chain.seq)"
   ]
  },
  {
   "cell_type": "code",
   "execution_count": null,
   "id": "bd40477c-dde5-4a11-9017-38cf2ca13745",
   "metadata": {},
   "outputs": [],
   "source": []
  },
  {
   "cell_type": "code",
   "execution_count": null,
   "id": "7efaa8d5-7732-40c3-9a2a-ddc8ededb309",
   "metadata": {},
   "outputs": [],
   "source": []
  },
  {
   "cell_type": "code",
   "execution_count": null,
   "id": "cb2097ec-9020-4dfb-8bf9-19de181ceb87",
   "metadata": {},
   "outputs": [],
   "source": []
  },
  {
   "cell_type": "code",
   "execution_count": null,
   "id": "d89c1ef5-0ff1-479b-8de9-79c9754606de",
   "metadata": {},
   "outputs": [],
   "source": []
  },
  {
   "cell_type": "markdown",
   "id": "da0aa6d6-70e7-436f-9cb3-487e153e3126",
   "metadata": {},
   "source": [
    "## This will a file where I desperately try to redock the ligands and documenting the command line progress to the best of my effort"
   ]
  },
  {
   "cell_type": "markdown",
   "id": "a7477ab3-40c4-4060-bfef-53d46ad1c959",
   "metadata": {},
   "source": [
    "### I will need to figure out a way to run the cross docking and specify things with the prepping process"
   ]
  },
  {
   "cell_type": "markdown",
   "id": "029411c1-7bd1-4579-9c8b-2c9a6dbb2393",
   "metadata": {},
   "source": [
    "## Reference:\n",
    "### Somehow the asapdiscovery method of docking uses smile strings for the ligand input, would explore all poses, so may be good\n",
    "### Probably use Cross-docking --> more underlying docking options from command line\n",
    "### Cross-docking is moved into asapdiscovery-workflow in the remote main git\n",
    "\n",
    "https://www.notion.so/asapdiscovery/HOWTO-Running-the-small-scale-docking-workflow-V2-44560183c5a7472c943a5b13fbce96b3\n",
    "https://www.notion.so/asapdiscovery/HOWTO-Running-the-large-scale-docking-workflow-V2-32c3603915764ae5a85027e41d267ead\n",
    "https://github.com/choderalab/asapdiscovery/blob/main/asapdiscovery-docking/asapdiscovery/docking/docking.py\n",
    "\n",
    "asap-prep small-scale \n",
    "--target ZIKV-NS2B-NS3pro\n",
    "--use-dask\n",
    "--pdb-file my_structure.pdb"
   ]
  },
  {
   "cell_type": "markdown",
   "id": "07afcc88-b317-4b2f-9c7f-fa4e7354e8c2",
   "metadata": {},
   "source": [
    "### Putting in the combined protein file because it seem to run and prep but not dock\n",
    "asap-docking cross-docking --ligands /home/pengs/fold_zika/fragments/smiles.smi --pdb-file /home/pengs/fold_zika/combined/NP_722463.1/NP_722463.1_lig_0.pdb --target ZIKV-NS2B-NS3pro --cache-dir /home/pengs/fold_zika/temp_dir --use-dask --dask-failure-mode raise --dask-type lilac-gpu\n",
    "\n",
    "outfile:\n",
    "INFO     Selecting pairs for docking    cross_docking.py:167\n",
    "INFO     Selected 0 pairs for docking   cross_docking.py:176\n",
    "\n",
    "stderr:\n",
    "ValueError: No docking results generated, exiting"
   ]
  },
  {
   "cell_type": "markdown",
   "id": "024ba4d4-cc9e-4a84-8ef3-2d5d8d2626c3",
   "metadata": {},
   "source": [
    "### Was using LeaveSimilarOut selector, and seem to have some issues\n",
    "### Changed to Pairwise selector\n",
    "asap-docking cross-docking --ligands /home/pengs/fold_zika/fragments/lig_0.smi --pdb-file /home/pengs/fold_zika/combined/NP_722463.1/NP_722463.1_lig_0.pdb --target ZIKV-NS2B-NS3pro --cache-dir /home/pengs/fold_zika/temp_dir --use-dask --dask-failure-mode raise --structure-selector PairwiseSelector --output-dir /home/pengs/fold_zika\n",
    "\n",
    "https://github.com/choderalab/asapdiscovery/blob/173047763dbbef4c9c42bbd3d17c8772a2272ee1/asapdiscovery-data/asapdiscovery/data/operators/selectors/selector_list.py\n",
    "\n",
    "## What I am running right now\n",
    "### Seem to have some issues running script since it deleted whatever is in the directory the script indicate cd to\n",
    "### OUTPUT FOLDER will override everything in pre-existing folder, so better to have a new folder for each run\n",
    "#BSUB -J FOLD\n",
    "#BSUB -n 1\n",
    "#BSUB -R rusage[mem=32]\n",
    "#BSUB -q gpuqueue\n",
    "#BSUB -gpu \"num=1\"\n",
    "#BSUB -W 10:00\n",
    "#BSUB -o log_files/dock_test.out\n",
    "#BSUB -e log_files/dock_test.stderr\n",
    "source ~/.bashrc\n",
    "cd /home/pengs/fold_zika/test_dock\n",
    "conda activate asapdiscovery\n",
    "\n",
    "asap-docking cross-docking --ligands lig_0.smi --pdb-file NP_722463.1_lig_0.pdb --target ZIKV-NS2B-NS3pro --cache-dir /home/pengs/fold_zika/temp_dir --use-dask --dask-failure-mode raise --structure-selector PairwiseSelector --output-dir /home/pengs/fold_zika/test_dock\n",
    "\n",
    "echo done\n",
    "\n",
    "## Use   --use-only-cache to indicate using prepped structures"
   ]
  },
  {
   "cell_type": "markdown",
   "id": "4aeaae8e-6479-47a0-b236-293cce2ef710",
   "metadata": {},
   "source": [
    "### Must have ligand or active ligand identified to prepare protein structure"
   ]
  },
  {
   "cell_type": "code",
   "execution_count": null,
   "id": "2f9b2db1-61f5-4e17-9405-c51dbd3e84b6",
   "metadata": {},
   "outputs": [],
   "source": []
  },
  {
   "cell_type": "code",
   "execution_count": null,
   "id": "08c4b8b9-2146-430a-8ff1-3ddc85669db9",
   "metadata": {},
   "outputs": [],
   "source": []
  },
  {
   "cell_type": "markdown",
   "id": "48ef3dd2-b1be-4653-98a3-3854c0aef133",
   "metadata": {},
   "source": [
    "## Change what I need in the git branch cross_dock on lilac"
   ]
  },
  {
   "cell_type": "markdown",
   "id": "2da22090-7b70-42b8-834a-42b6e878f34d",
   "metadata": {},
   "source": [
    "## Run cross-docking not from cli"
   ]
  },
  {
   "cell_type": "code",
   "execution_count": null,
   "id": "885d3abe-4816-478c-8965-5d43c2af9bd5",
   "metadata": {},
   "outputs": [],
   "source": [
    "from asapdiscovery.docking.workflows.cross_docking import (\n",
    "    CrossDockingWorkflowInputs,\n",
    "    cross_docking_workflow,\n",
    ")"
   ]
  },
  {
   "cell_type": "code",
   "execution_count": null,
   "id": "d2818bdf-f3e5-4bcd-8595-21cb3101ed06",
   "metadata": {},
   "outputs": [],
   "source": [
    "if input_json is not None:\n",
    "    print(\"Loading inputs from json file.\")\n",
    "    ## Gotta write input_json file from this thing\n",
    "    ## Gotta configure cross_dock again to so the inclusion of more options will work\n",
    "    inputs = CrossDockingWorkflowInputs.from_json_file(input_json)\n",
    "\n",
    "cross_docking_workflow(inputs)"
   ]
  },
  {
   "cell_type": "markdown",
   "id": "a44a2dec-447d-4117-abc0-bcd853568d5c",
   "metadata": {},
   "source": [
    "## If I can't get cross-docking to work, just go back to openeye to run this\n",
    "https://github.com/choderalab/asapdiscovery/blob/173047763dbbef4c9c42bbd3d17c8772a2272ee1/asapdiscovery-docking/asapdiscovery/docking/openeye.py#L112\n"
   ]
  },
  {
   "cell_type": "code",
   "execution_count": 1,
   "id": "a75f3f1f-f1a9-49d5-b153-fb516c30c4fe",
   "metadata": {},
   "outputs": [],
   "source": [
    "from asapdiscovery.docking.openeye import POSIT_METHOD, POSIT_RELAX_MODE, POSITDocker"
   ]
  },
  {
   "cell_type": "code",
   "execution_count": null,
   "id": "b3830a14-66b1-4ff9-8846-8a85e820ec72",
   "metadata": {},
   "outputs": [],
   "source": []
  },
  {
   "cell_type": "code",
   "execution_count": null,
   "id": "b740faf1-68a6-4c44-bcfc-b7c0182dd939",
   "metadata": {},
   "outputs": [],
   "source": []
  },
  {
   "cell_type": "code",
   "execution_count": null,
   "id": "0c02fcf9-78d3-47b0-a00c-6ecb69851372",
   "metadata": {},
   "outputs": [],
   "source": []
  },
  {
   "cell_type": "markdown",
   "id": "0a51c055-1d7a-4022-b375-6d261f0dae08",
   "metadata": {},
   "source": [
    "## After redocking\n",
    "1. realign proteins\n",
    "2. figure out if the ligand still occupy about the same space\n",
    "   - might be good to calculate the ligand RMSD (https://github.com/choderalab/asapdiscovery/blob/173047763dbbef4c9c42bbd3d17c8772a2272ee1/asapdiscovery-docking/asapdiscovery/docking/analysis.py#L427)"
   ]
  },
  {
   "cell_type": "code",
   "execution_count": null,
   "id": "df812ddd-663e-4e48-9c80-f921a7d7ba61",
   "metadata": {},
   "outputs": [],
   "source": [
    "# Align the docked structure to the original zikv_ns2b3 structure\n",
    "# OR maybe just use the just folded protein with the original ligand position combined to it\n",
    "ref_path = Path('/home/pengs/fold_zika/orig_bind')\n",
    "\n",
    "# Docked structure path\n",
    "dock_path"
   ]
  },
  {
   "cell_type": "code",
   "execution_count": null,
   "id": "022b7b7f-3228-45e0-aca6-8200d90a8704",
   "metadata": {},
   "outputs": [],
   "source": [
    "# Align based on the protein in each of the files"
   ]
  },
  {
   "cell_type": "code",
   "execution_count": null,
   "id": "7277c255-f2c6-4282-b568-15f9d2906099",
   "metadata": {},
   "outputs": [],
   "source": []
  },
  {
   "cell_type": "code",
   "execution_count": 2,
   "id": "4eeb2981-1ce8-4d58-b75d-e73d7ef69bfc",
   "metadata": {},
   "outputs": [],
   "source": [
    "from asapdiscovery.docking.analysis import calculate_rmsd_openeye\n",
    "from pathlib import Path"
   ]
  },
  {
   "cell_type": "code",
   "execution_count": null,
   "id": "cc210780-e721-4448-bb0e-18060f0ac042",
   "metadata": {},
   "outputs": [],
   "source": [
    "# Compare against reference ligand (position of zikv ns2b3 ligand position)\n",
    "# Separate out the ligand\n",
    "\n",
    "# Docked ligand\n"
   ]
  }
 ],
 "metadata": {
  "kernelspec": {
   "display_name": "Python 3 (ipykernel)",
   "language": "python",
   "name": "python3"
  },
  "language_info": {
   "codemirror_mode": {
    "name": "ipython",
    "version": 3
   },
   "file_extension": ".py",
   "mimetype": "text/x-python",
   "name": "python",
   "nbconvert_exporter": "python",
   "pygments_lexer": "ipython3",
   "version": "3.10.14"
  }
 },
 "nbformat": 4,
 "nbformat_minor": 5
}
