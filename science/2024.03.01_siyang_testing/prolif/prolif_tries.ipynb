{
 "cells": [
  {
   "cell_type": "markdown",
   "id": "7d2cff27-be68-4163-92cd-0147dc4a2308",
   "metadata": {},
   "source": [
    "## ProLIF\n",
    "https://prolif.readthedocs.io/en/stable/source/modules/interaction-fingerprint.html#prolif.fingerprint.Fingerprint.run_from_iterable"
   ]
  },
  {
   "cell_type": "code",
   "execution_count": 1,
   "id": "be03827f-7741-42d9-9bda-f91a1c86c7b5",
   "metadata": {},
   "outputs": [],
   "source": [
    "import MDAnalysis as mda\n",
    "import prolif as plf\n",
    "from rdkit import DataStructs\n",
    "from pathlib import Path\n",
    "import os\n",
    "import re\n",
    "import pandas as pds"
   ]
  },
  {
   "cell_type": "code",
   "execution_count": 2,
   "id": "14d618e8-b0cf-4788-bdd3-8849704dc94c",
   "metadata": {},
   "outputs": [],
   "source": [
    "def find_innermost_directories(root_dir):\n",
    "    innermost_directories = []\n",
    "    for root, dirs, _ in os.walk(root_dir):\n",
    "        if not dirs:\n",
    "            innermost_directories.append(root)\n",
    "    return innermost_directories\n",
    "\n",
    "# Find files that end with str file_end in a directory\n",
    "def find_end_with_files(file_end, directory):\n",
    "    ligand_sdf_files = []\n",
    "    for root, _, files in os.walk(directory):\n",
    "        for file in files:\n",
    "            if file.endswith(file_end):\n",
    "                ligand_sdf_files.append(os.path.join(root, file))\n",
    "    return ligand_sdf_files\n"
   ]
  },
  {
   "cell_type": "code",
   "execution_count": 3,
   "id": "c9131b92-25a1-49e0-851c-1b941ec135bd",
   "metadata": {},
   "outputs": [],
   "source": [
    "# Return list of files with prepared ligands\n",
    "def find_prepped_ligs(root_dir):\n",
    "    # Get a list of all prepared ligands, save in ligand_sdf_files\n",
    "    file_end = 'ligand.sdf'\n",
    "    innermost_dirs = find_innermost_directories(root_dir)\n",
    "    ligand_sdf_files = []\n",
    "    for directory in innermost_dirs:\n",
    "        ligand_sdf_files.extend(find_end_with_files(file_end, directory))\n",
    "    return ligand_sdf_files\n",
    "\n",
    "# Prepare all ligand files into molecule objects prolif can interact with\n",
    "def load_ligs(ligand_sdf_files):\n",
    "    # Read in all the ligands into a list for prolif\n",
    "    ligands = []\n",
    "    for lig_file in ligand_sdf_files:\n",
    "        # Read sdf\n",
    "        ligands.append(plf.sdf_supplier(lig_file)[0])\n",
    "    return ligands\n",
    "\n",
    "# Make a map of the sequence the ligands are being fed in (which is the index that it will generate fingerprint from)\n",
    "def get_map_protein(path):\n",
    "    ligand_sdf_files = find_prepped_ligs(path)\n",
    "    lig_map = dict()\n",
    "    for i in range(len(ligand_sdf_files)):\n",
    "        lig_file = ligand_sdf_files[i]\n",
    "        lig_pattern = r'_(lig_\\d+)_ligand.sdf'\n",
    "        match = re.search(lig_pattern, lig_file)\n",
    "        # Handle cases in the processed original protein folder (somehow named different)\n",
    "        if match == None:\n",
    "            lig_pattern = r'/(lig_\\d+)_protein_ligand.sdf'\n",
    "            match = re.search(lig_pattern, lig_file)\n",
    "        lig_map[i] = match.group(1)\n",
    "    return lig_map"
   ]
  },
  {
   "cell_type": "code",
   "execution_count": 4,
   "id": "15b919d8-38eb-4b9c-bd0a-5c362345ae49",
   "metadata": {},
   "outputs": [],
   "source": [
    "# Get a prepared protein\n",
    "def get_prep_protein(rootdir): \n",
    "    # List of all the prepared proteins\n",
    "    prot_prep_files = []\n",
    "    prot_end = '.pdb'\n",
    "\n",
    "    innermost_dirs = find_innermost_directories(rootdir)\n",
    "    for directory in innermost_dirs:\n",
    "        prot_prep_files.extend(find_end_with_files(prot_end, directory))\n",
    "        \n",
    "    # Just get the first prepared\n",
    "    prep_prot = prot_prep_files[0]\n",
    "    u = mda.Universe(prep_prot)\n",
    "    protein_mol = plf.Molecule.from_mda(u, NoImplicit=False) # Allow use of implicit H since not all H explicitly listed\n",
    "    return protein_mol"
   ]
  },
  {
   "cell_type": "code",
   "execution_count": 5,
   "id": "0d7550e6-f42e-4e35-adce-a08d6709d3d1",
   "metadata": {},
   "outputs": [],
   "source": [
    "# Generate fingerprints for a protein with all its ligands\n",
    "# Count indicate if want to have counts, count is boolean\n",
    "def get_fingerprint_of_prot(rootdir,count=False):\n",
    "    # Get the prepared protein\n",
    "    protein_mol = get_prep_protein(rootdir)\n",
    "    \n",
    "    # Get a list of all prepared ligands, save in ligand_sdf_files\n",
    "    ligand_sdf_files = find_prepped_ligs(rootdir)\n",
    "    # Read in all the ligands into a list for prolif\n",
    "    ligands = load_ligs(ligand_sdf_files)\n",
    "        \n",
    "    # use default interactions\n",
    "    fp = plf.Fingerprint(count = count)\n",
    "    # run on your poses\n",
    "    fp.run_from_iterable(ligands, protein_mol)\n",
    "    return fp"
   ]
  },
  {
   "cell_type": "markdown",
   "id": "42bb6ed5-b35f-47fd-923b-80efa9424046",
   "metadata": {},
   "source": [
    "## Make bitmap for protein-ligand interaction\n",
    "#### labeled with the name of the ligand"
   ]
  },
  {
   "cell_type": "code",
   "execution_count": 6,
   "id": "6ef64e91-592a-4df7-acdb-66e106fcf46d",
   "metadata": {},
   "outputs": [],
   "source": [
    "# make interaction map by loop through the ligands\n",
    "def make_lig_bitmap(fp, lig_map):\n",
    "    lig_inters = {}\n",
    "    # Go through the map when traverse a ligand to find the interactions\n",
    "    for key in fp.ifp:\n",
    "        # Map of all iteractions for each ligand\n",
    "        inter_map = {'Hydrophobic':0, \n",
    "                     'HBAcceptor':0, \n",
    "                     'HBDonor':0,\n",
    "                     'Cationic':0, \n",
    "                     'Anionic':0,\n",
    "                     'CationPi':0, \n",
    "                     'PiCation':0, \n",
    "                     'PiStacking':0, \n",
    "                     'VdWContact':0}\n",
    "        for i in fp.ifp[key]:\n",
    "            for j in fp.ifp[key][i]:\n",
    "                for interact in inter_map:\n",
    "                    if j == interact:\n",
    "                        inter_map[interact] = 1\n",
    "        lig = lig_map[key]\n",
    "        lig_inters[lig] = inter_map\n",
    "    return lig_inters"
   ]
  },
  {
   "cell_type": "code",
   "execution_count": 18,
   "id": "be67fecc-1de6-4485-99a7-15875f1ba186",
   "metadata": {},
   "outputs": [],
   "source": [
    "## For some reason NP_776018.1 did not have any prepared structure generate\n",
    "prepped_prots = ['/home/pengs/fold_zika/prev_prepped/orig_prepped',\n",
    "                '/home/pengs/fold_zika/prev_prepped/NP_722463.1_prepped',\n",
    "                '/home/pengs/fold_zika/prev_prepped/NP_739587.2_prepped',\n",
    "                '/home/pengs/fold_zika/prev_prepped/YP_001621843.1_prepped',\n",
    "                '/home/pengs/fold_zika/prev_prepped/YP_001527884.1_prepped',\n",
    "                '/home/pengs/fold_zika/prev_prepped/NP_740321.1_prepped',\n",
    "                '/home/pengs/fold_zika/prev_prepped/YP_001531172.2_prepped']"
   ]
  },
  {
   "cell_type": "code",
   "execution_count": 19,
   "id": "73c3198c-c9f8-4d5e-9e9f-5682a2bfe1b0",
   "metadata": {},
   "outputs": [
    {
     "name": "stdout",
     "output_type": "stream",
     "text": [
      "orig\n"
     ]
    },
    {
     "name": "stderr",
     "output_type": "stream",
     "text": [
      "/home/pengs/miniconda3/envs/prolif/lib/python3.10/site-packages/MDAnalysis/converters/RDKit.py:473: UserWarning: No `bonds` attribute in this AtomGroup. Guessing bonds based on atoms coordinates\n",
      "  warnings.warn(\n",
      "[14:08:24] Explicit valence for atom # 0 N, 4, is greater than permitted\n",
      "/home/pengs/miniconda3/envs/prolif/lib/python3.10/site-packages/MDAnalysis/converters/RDKit.py:501: UserWarning: Could not sanitize molecule: failed during step rdkit.Chem.rdmolops.SanitizeFlags.SANITIZE_PROPERTIES\n",
      "  warnings.warn(\"Could not sanitize molecule: \"\n"
     ]
    },
    {
     "data": {
      "application/vnd.jupyter.widget-view+json": {
       "model_id": "e3884c5853a545039386bf787b17d33b",
       "version_major": 2,
       "version_minor": 0
      },
      "text/plain": [
       "  0%|          | 0/76 [00:00<?, ?it/s]"
      ]
     },
     "metadata": {},
     "output_type": "display_data"
    },
    {
     "name": "stdout",
     "output_type": "stream",
     "text": [
      "NP_722463.1\n"
     ]
    },
    {
     "name": "stderr",
     "output_type": "stream",
     "text": [
      "[14:08:35] Explicit valence for atom # 0 N, 4, is greater than permitted\n"
     ]
    },
    {
     "data": {
      "application/vnd.jupyter.widget-view+json": {
       "model_id": "66a5d95ed2f04aad8067b0d8be617a6f",
       "version_major": 2,
       "version_minor": 0
      },
      "text/plain": [
       "  0%|          | 0/77 [00:00<?, ?it/s]"
      ]
     },
     "metadata": {},
     "output_type": "display_data"
    },
    {
     "name": "stdout",
     "output_type": "stream",
     "text": [
      "NP_739587.2\n"
     ]
    },
    {
     "name": "stderr",
     "output_type": "stream",
     "text": [
      "[14:08:43] Explicit valence for atom # 0 N, 4, is greater than permitted\n"
     ]
    },
    {
     "data": {
      "application/vnd.jupyter.widget-view+json": {
       "model_id": "4620da58c2ec4061bf079b00edf1de4f",
       "version_major": 2,
       "version_minor": 0
      },
      "text/plain": [
       "  0%|          | 0/56 [00:00<?, ?it/s]"
      ]
     },
     "metadata": {},
     "output_type": "display_data"
    },
    {
     "name": "stdout",
     "output_type": "stream",
     "text": [
      "YP_001621843.1\n"
     ]
    },
    {
     "name": "stderr",
     "output_type": "stream",
     "text": [
      "[14:08:52] Explicit valence for atom # 0 N, 4, is greater than permitted\n"
     ]
    },
    {
     "data": {
      "application/vnd.jupyter.widget-view+json": {
       "model_id": "38b12d4413ce4d8a974e3a100b1526b2",
       "version_major": 2,
       "version_minor": 0
      },
      "text/plain": [
       "  0%|          | 0/1 [00:00<?, ?it/s]"
      ]
     },
     "metadata": {},
     "output_type": "display_data"
    },
    {
     "name": "stdout",
     "output_type": "stream",
     "text": [
      "YP_001527884.1\n"
     ]
    },
    {
     "name": "stderr",
     "output_type": "stream",
     "text": [
      "[14:08:59] Explicit valence for atom # 0 N, 4, is greater than permitted\n"
     ]
    },
    {
     "data": {
      "application/vnd.jupyter.widget-view+json": {
       "model_id": "99399e389c2f4cb6ae0a43a3d8cf68a6",
       "version_major": 2,
       "version_minor": 0
      },
      "text/plain": [
       "  0%|          | 0/55 [00:00<?, ?it/s]"
      ]
     },
     "metadata": {},
     "output_type": "display_data"
    },
    {
     "name": "stdout",
     "output_type": "stream",
     "text": [
      "NP_740321.1\n"
     ]
    },
    {
     "name": "stderr",
     "output_type": "stream",
     "text": [
      "[14:09:09] Explicit valence for atom # 0 N, 4, is greater than permitted\n"
     ]
    },
    {
     "data": {
      "application/vnd.jupyter.widget-view+json": {
       "model_id": "6d6ee54f870a4dd4a445c912ede0951a",
       "version_major": 2,
       "version_minor": 0
      },
      "text/plain": [
       "  0%|          | 0/77 [00:00<?, ?it/s]"
      ]
     },
     "metadata": {},
     "output_type": "display_data"
    },
    {
     "name": "stdout",
     "output_type": "stream",
     "text": [
      "YP_001531172.2\n"
     ]
    },
    {
     "name": "stderr",
     "output_type": "stream",
     "text": [
      "[14:09:17] Explicit valence for atom # 0 N, 4, is greater than permitted\n"
     ]
    },
    {
     "data": {
      "application/vnd.jupyter.widget-view+json": {
       "model_id": "1fd61dd6443c495f93d633149c180776",
       "version_major": 2,
       "version_minor": 0
      },
      "text/plain": [
       "  0%|          | 0/65 [00:00<?, ?it/s]"
      ]
     },
     "metadata": {},
     "output_type": "display_data"
    }
   ],
   "source": [
    "# Dictionary to store fingerprints of proteins\n",
    "prot_fp = dict()\n",
    "# Dictionary to map ligands to their index in fingerprint\n",
    "lig_maps = dict()\n",
    "\n",
    "for prot_dir in prepped_prots:\n",
    "    prot_pattern = r'.+/(.+)_prepped'\n",
    "    match = re.search(prot_pattern, prot_dir)\n",
    "    prot = match.group(1)\n",
    "    print(prot)\n",
    "    # Get fingerprint of prepped ligands of protein\n",
    "    prot_fp[prot] = get_fingerprint_of_prot(prot_dir, count=True)\n",
    "    # Map the ligands to their index\n",
    "    lig_maps[prot] = get_map_protein(prot_dir)"
   ]
  },
  {
   "cell_type": "markdown",
   "id": "8d5e1427-fb29-43e8-bddd-035a87d8a8e3",
   "metadata": {},
   "source": [
    "## Make interaction dictionaries of each ligand for each protein\n",
    "### Compare the ligands between proteins"
   ]
  },
  {
   "cell_type": "code",
   "execution_count": 20,
   "id": "2d3efd56-ec5a-4d27-a552-e5f407193fab",
   "metadata": {},
   "outputs": [],
   "source": [
    "import numpy as np"
   ]
  },
  {
   "cell_type": "code",
   "execution_count": 21,
   "id": "3768cff4-e095-4f87-bc10-23555c620048",
   "metadata": {},
   "outputs": [],
   "source": [
    "prot_lig_bitmap = dict()\n",
    "\n",
    "for prot in prot_fp:\n",
    "    prot_lig_bitmap[prot] = make_lig_bitmap(prot_fp[prot], lig_maps[prot])"
   ]
  },
  {
   "cell_type": "code",
   "execution_count": 22,
   "id": "734c003d-f587-4462-b407-807991561beb",
   "metadata": {},
   "outputs": [],
   "source": [
    "# Change the way to traverse through the dictionary from protein as main key to ligand\n",
    "def prot_to_lig(prot_lig_map):\n",
    "    # Ligand protein dicts\n",
    "    lig_prot_map = dict()\n",
    "    \n",
    "    for prot in prot_lig_map:\n",
    "        for lig in prot_lig_map[prot]:\n",
    "            series_map = pds.Series(prot_lig_map[prot][lig])\n",
    "            vector = np.array(series_map)\n",
    "            # Append this to a ligand dictionary\n",
    "            if lig in lig_prot_map:\n",
    "                lig_prot_map[lig][prot] = vector\n",
    "            else:\n",
    "                lig_prot_map[lig] = dict()\n",
    "                lig_prot_map[lig][prot] = vector\n",
    "    return lig_prot_map"
   ]
  },
  {
   "cell_type": "code",
   "execution_count": 23,
   "id": "12ab7401-fa07-421d-8dd3-45623021d133",
   "metadata": {},
   "outputs": [],
   "source": [
    "lig_prot_bitmap = prot_to_lig(prot_lig_bitmap)"
   ]
  },
  {
   "cell_type": "markdown",
   "id": "68ea6cf9-9f53-46c9-9a84-1168e5bfacef",
   "metadata": {},
   "source": [
    "## Getting the jaccard-similarity between the protein-ligand bitmaps/countmaps of each type of interaction\n",
    "### Smaller values, more similar (jaccard value of 0 means same)"
   ]
  },
  {
   "cell_type": "code",
   "execution_count": 24,
   "id": "c224ae1b-aaf7-4cc3-8946-db988f9c1654",
   "metadata": {},
   "outputs": [],
   "source": [
    "# https://www.featurebase.com/blog/tanimoto-similarity-in-featurebase#:~:text=The%20Tanimoto%20algorithm%20provides%20a,%2D%20%7CA%20%E2%88%A9%20B%7C).\n",
    "# https://www.statology.org/jaccard-similarity-python/\n",
    "from scipy.spatial import distance\n",
    "import os\n",
    "import matplotlib.pyplot as plt"
   ]
  },
  {
   "cell_type": "markdown",
   "id": "7c5d982a-a96e-4f36-9391-0638115ab62a",
   "metadata": {},
   "source": [
    "### Traverse through ligands from different proteins and vectorizing the bitmaps to compare"
   ]
  },
  {
   "cell_type": "markdown",
   "id": "6650c210-05cd-4f69-9f39-8600bfc5d105",
   "metadata": {},
   "source": [
    "## Not all ligands are prepared for all the proteins\n",
    "### for now, only consider the ligands that are prepared in the original zikv ns2b3 structure"
   ]
  },
  {
   "cell_type": "code",
   "execution_count": 35,
   "id": "bebed54c-1359-47d3-aed4-e6a447e11f9f",
   "metadata": {},
   "outputs": [],
   "source": [
    "# Distance to zikv_ns2b3 binding of each ligand\n",
    "def get_jaccard_distance(lig_prot_map):\n",
    "    lig_dist_jaccard = dict()\n",
    "    \n",
    "    for lig in lig_prot_map:\n",
    "        # Only consider the ligands found prepared in the original zikv ns2b3\n",
    "        if len(lig_prot_map[lig]) < 6:\n",
    "            continue\n",
    "        # Store the distance in a dictionary\n",
    "        lig_dist_jaccard[lig] = dict()\n",
    "        # Store the difference to the original binding in a dictionary labeled with the protein name\n",
    "        for prot in lig_prot_map[lig]:\n",
    "            lig_dist_jaccard[lig][prot] = distance.jaccard(lig_prot_map[lig][prot],lig_prot_map[lig]['orig'])\n",
    "\n",
    "    return lig_dist_jaccard\n",
    "    "
   ]
  },
  {
   "cell_type": "code",
   "execution_count": 33,
   "id": "cd7b129a",
   "metadata": {},
   "outputs": [
    {
     "data": {
      "text/plain": [
       "dict_keys(['orig', 'NP_722463.1', 'NP_739587.2', 'YP_001527884.1', 'NP_740321.1', 'YP_001531172.2'])"
      ]
     },
     "execution_count": 33,
     "metadata": {},
     "output_type": "execute_result"
    }
   ],
   "source": [
    "lig_prot_bitmap['lig_19'].keys()"
   ]
  },
  {
   "cell_type": "code",
   "execution_count": 34,
   "id": "8830f1cc-ac94-458d-87c0-7eb2faa6a775",
   "metadata": {},
   "outputs": [
    {
     "ename": "KeyError",
     "evalue": "'orig'",
     "output_type": "error",
     "traceback": [
      "\u001b[0;31m---------------------------------------------------------------------------\u001b[0m",
      "\u001b[0;31mKeyError\u001b[0m                                  Traceback (most recent call last)",
      "Cell \u001b[0;32mIn[34], line 1\u001b[0m\n\u001b[0;32m----> 1\u001b[0m lig_dist_jaccard \u001b[38;5;241m=\u001b[39m \u001b[43mget_jaccard_distance\u001b[49m\u001b[43m(\u001b[49m\u001b[43mlig_prot_bitmap\u001b[49m\u001b[43m)\u001b[49m\n\u001b[1;32m      2\u001b[0m df_jaccard_bitmap \u001b[38;5;241m=\u001b[39m pds\u001b[38;5;241m.\u001b[39mDataFrame(lig_dist_jaccard)\n\u001b[1;32m      3\u001b[0m df_jaccard_bitmap\n",
      "Cell \u001b[0;32mIn[32], line 13\u001b[0m, in \u001b[0;36mget_jaccard_distance\u001b[0;34m(lig_prot_map)\u001b[0m\n\u001b[1;32m     11\u001b[0m     \u001b[38;5;66;03m# Store the difference to the original binding in a dictionary labeled with the protein name\u001b[39;00m\n\u001b[1;32m     12\u001b[0m     \u001b[38;5;28;01mfor\u001b[39;00m prot \u001b[38;5;129;01min\u001b[39;00m lig_prot_map[lig]:\n\u001b[0;32m---> 13\u001b[0m         lig_dist_jaccard[lig][prot] \u001b[38;5;241m=\u001b[39m distance\u001b[38;5;241m.\u001b[39mjaccard(lig_prot_map[lig][prot],\u001b[43mlig_prot_map\u001b[49m\u001b[43m[\u001b[49m\u001b[43mlig\u001b[49m\u001b[43m]\u001b[49m\u001b[43m[\u001b[49m\u001b[38;5;124;43m'\u001b[39;49m\u001b[38;5;124;43morig\u001b[39;49m\u001b[38;5;124;43m'\u001b[39;49m\u001b[43m]\u001b[49m)\n\u001b[1;32m     15\u001b[0m \u001b[38;5;28;01mreturn\u001b[39;00m lig_dist_jaccard\n",
      "\u001b[0;31mKeyError\u001b[0m: 'orig'"
     ]
    }
   ],
   "source": [
    "lig_dist_jaccard = get_jaccard_distance(lig_prot_bitmap)\n",
    "df_jaccard_bitmap = pds.DataFrame(lig_dist_jaccard)\n",
    "df_jaccard_bitmap"
   ]
  },
  {
   "cell_type": "markdown",
   "id": "d02a6bb2-9d65-4ce2-94be-9ca2b53fc955",
   "metadata": {},
   "source": [
    "## Would like to make a plot of this"
   ]
  },
  {
   "cell_type": "code",
   "execution_count": 28,
   "id": "49b42067-a0ad-451a-9afb-c264628061c1",
   "metadata": {},
   "outputs": [],
   "source": [
    "# Calculate mean, mode, and median of jaccard index value of ligand bitmap\n",
    "bitmap_mean = df_jaccard_bitmap.mean(axis=0)\n",
    "bitmap_mode = df_jaccard_bitmap.mode(axis=0)\n",
    "bitmap_median = df_jaccard_bitmap.median(axis=0)"
   ]
  },
  {
   "cell_type": "code",
   "execution_count": 29,
   "id": "9a02f637-394b-4bfe-94e1-76a6892a63cd",
   "metadata": {},
   "outputs": [],
   "source": [
    "df_bitmap_plot = pds.concat([bitmap_mean, bitmap_median], axis=1)\n",
    "df_bitmap_plot.columns = ['Mean', 'Median']"
   ]
  },
  {
   "cell_type": "code",
   "execution_count": 30,
   "id": "5e43e492-0b22-4025-b7e8-997bd1364f11",
   "metadata": {},
   "outputs": [],
   "source": [
    "# Path to save the figures\n",
    "fig_path = Path('/home/pengs/fold_zika/figs')"
   ]
  },
  {
   "cell_type": "code",
   "execution_count": 31,
   "id": "e561269f-b4f2-4de0-8e6f-d1e59f355a77",
   "metadata": {},
   "outputs": [
    {
     "ename": "FileNotFoundError",
     "evalue": "[Errno 2] No such file or directory: '/home/pengs/fold_zika/figs/bitmap_prolif.png'",
     "output_type": "error",
     "traceback": [
      "\u001b[0;31m---------------------------------------------------------------------------\u001b[0m",
      "\u001b[0;31mFileNotFoundError\u001b[0m                         Traceback (most recent call last)",
      "Cell \u001b[0;32mIn[31], line 3\u001b[0m\n\u001b[1;32m      1\u001b[0m ax \u001b[38;5;241m=\u001b[39m df_bitmap_plot\u001b[38;5;241m.\u001b[39mplot\u001b[38;5;241m.\u001b[39mbar(figsize\u001b[38;5;241m=\u001b[39m(\u001b[38;5;241m15\u001b[39m,\u001b[38;5;241m10\u001b[39m))\n\u001b[1;32m      2\u001b[0m fig \u001b[38;5;241m=\u001b[39m ax\u001b[38;5;241m.\u001b[39mget_figure()\n\u001b[0;32m----> 3\u001b[0m \u001b[43mfig\u001b[49m\u001b[38;5;241;43m.\u001b[39;49m\u001b[43msavefig\u001b[49m\u001b[43m(\u001b[49m\u001b[43mfig_path\u001b[49m\u001b[38;5;241;43m/\u001b[39;49m\u001b[38;5;124;43m'\u001b[39;49m\u001b[38;5;124;43mbitmap_prolif.png\u001b[39;49m\u001b[38;5;124;43m'\u001b[39;49m\u001b[43m)\u001b[49m\n",
      "File \u001b[0;32m~/miniconda3/envs/prolif/lib/python3.10/site-packages/matplotlib/figure.py:3390\u001b[0m, in \u001b[0;36mFigure.savefig\u001b[0;34m(self, fname, transparent, **kwargs)\u001b[0m\n\u001b[1;32m   3388\u001b[0m     \u001b[38;5;28;01mfor\u001b[39;00m ax \u001b[38;5;129;01min\u001b[39;00m \u001b[38;5;28mself\u001b[39m\u001b[38;5;241m.\u001b[39maxes:\n\u001b[1;32m   3389\u001b[0m         _recursively_make_axes_transparent(stack, ax)\n\u001b[0;32m-> 3390\u001b[0m \u001b[38;5;28;43mself\u001b[39;49m\u001b[38;5;241;43m.\u001b[39;49m\u001b[43mcanvas\u001b[49m\u001b[38;5;241;43m.\u001b[39;49m\u001b[43mprint_figure\u001b[49m\u001b[43m(\u001b[49m\u001b[43mfname\u001b[49m\u001b[43m,\u001b[49m\u001b[43m \u001b[49m\u001b[38;5;241;43m*\u001b[39;49m\u001b[38;5;241;43m*\u001b[39;49m\u001b[43mkwargs\u001b[49m\u001b[43m)\u001b[49m\n",
      "File \u001b[0;32m~/miniconda3/envs/prolif/lib/python3.10/site-packages/matplotlib/backend_bases.py:2193\u001b[0m, in \u001b[0;36mFigureCanvasBase.print_figure\u001b[0;34m(self, filename, dpi, facecolor, edgecolor, orientation, format, bbox_inches, pad_inches, bbox_extra_artists, backend, **kwargs)\u001b[0m\n\u001b[1;32m   2189\u001b[0m \u001b[38;5;28;01mtry\u001b[39;00m:\n\u001b[1;32m   2190\u001b[0m     \u001b[38;5;66;03m# _get_renderer may change the figure dpi (as vector formats\u001b[39;00m\n\u001b[1;32m   2191\u001b[0m     \u001b[38;5;66;03m# force the figure dpi to 72), so we need to set it again here.\u001b[39;00m\n\u001b[1;32m   2192\u001b[0m     \u001b[38;5;28;01mwith\u001b[39;00m cbook\u001b[38;5;241m.\u001b[39m_setattr_cm(\u001b[38;5;28mself\u001b[39m\u001b[38;5;241m.\u001b[39mfigure, dpi\u001b[38;5;241m=\u001b[39mdpi):\n\u001b[0;32m-> 2193\u001b[0m         result \u001b[38;5;241m=\u001b[39m \u001b[43mprint_method\u001b[49m\u001b[43m(\u001b[49m\n\u001b[1;32m   2194\u001b[0m \u001b[43m            \u001b[49m\u001b[43mfilename\u001b[49m\u001b[43m,\u001b[49m\n\u001b[1;32m   2195\u001b[0m \u001b[43m            \u001b[49m\u001b[43mfacecolor\u001b[49m\u001b[38;5;241;43m=\u001b[39;49m\u001b[43mfacecolor\u001b[49m\u001b[43m,\u001b[49m\n\u001b[1;32m   2196\u001b[0m \u001b[43m            \u001b[49m\u001b[43medgecolor\u001b[49m\u001b[38;5;241;43m=\u001b[39;49m\u001b[43medgecolor\u001b[49m\u001b[43m,\u001b[49m\n\u001b[1;32m   2197\u001b[0m \u001b[43m            \u001b[49m\u001b[43morientation\u001b[49m\u001b[38;5;241;43m=\u001b[39;49m\u001b[43morientation\u001b[49m\u001b[43m,\u001b[49m\n\u001b[1;32m   2198\u001b[0m \u001b[43m            \u001b[49m\u001b[43mbbox_inches_restore\u001b[49m\u001b[38;5;241;43m=\u001b[39;49m\u001b[43m_bbox_inches_restore\u001b[49m\u001b[43m,\u001b[49m\n\u001b[1;32m   2199\u001b[0m \u001b[43m            \u001b[49m\u001b[38;5;241;43m*\u001b[39;49m\u001b[38;5;241;43m*\u001b[39;49m\u001b[43mkwargs\u001b[49m\u001b[43m)\u001b[49m\n\u001b[1;32m   2200\u001b[0m \u001b[38;5;28;01mfinally\u001b[39;00m:\n\u001b[1;32m   2201\u001b[0m     \u001b[38;5;28;01mif\u001b[39;00m bbox_inches \u001b[38;5;129;01mand\u001b[39;00m restore_bbox:\n",
      "File \u001b[0;32m~/miniconda3/envs/prolif/lib/python3.10/site-packages/matplotlib/backend_bases.py:2043\u001b[0m, in \u001b[0;36mFigureCanvasBase._switch_canvas_and_return_print_method.<locals>.<lambda>\u001b[0;34m(*args, **kwargs)\u001b[0m\n\u001b[1;32m   2039\u001b[0m     optional_kws \u001b[38;5;241m=\u001b[39m {  \u001b[38;5;66;03m# Passed by print_figure for other renderers.\u001b[39;00m\n\u001b[1;32m   2040\u001b[0m         \u001b[38;5;124m\"\u001b[39m\u001b[38;5;124mdpi\u001b[39m\u001b[38;5;124m\"\u001b[39m, \u001b[38;5;124m\"\u001b[39m\u001b[38;5;124mfacecolor\u001b[39m\u001b[38;5;124m\"\u001b[39m, \u001b[38;5;124m\"\u001b[39m\u001b[38;5;124medgecolor\u001b[39m\u001b[38;5;124m\"\u001b[39m, \u001b[38;5;124m\"\u001b[39m\u001b[38;5;124morientation\u001b[39m\u001b[38;5;124m\"\u001b[39m,\n\u001b[1;32m   2041\u001b[0m         \u001b[38;5;124m\"\u001b[39m\u001b[38;5;124mbbox_inches_restore\u001b[39m\u001b[38;5;124m\"\u001b[39m}\n\u001b[1;32m   2042\u001b[0m     skip \u001b[38;5;241m=\u001b[39m optional_kws \u001b[38;5;241m-\u001b[39m {\u001b[38;5;241m*\u001b[39minspect\u001b[38;5;241m.\u001b[39msignature(meth)\u001b[38;5;241m.\u001b[39mparameters}\n\u001b[0;32m-> 2043\u001b[0m     print_method \u001b[38;5;241m=\u001b[39m functools\u001b[38;5;241m.\u001b[39mwraps(meth)(\u001b[38;5;28;01mlambda\u001b[39;00m \u001b[38;5;241m*\u001b[39margs, \u001b[38;5;241m*\u001b[39m\u001b[38;5;241m*\u001b[39mkwargs: \u001b[43mmeth\u001b[49m\u001b[43m(\u001b[49m\n\u001b[1;32m   2044\u001b[0m \u001b[43m        \u001b[49m\u001b[38;5;241;43m*\u001b[39;49m\u001b[43margs\u001b[49m\u001b[43m,\u001b[49m\u001b[43m \u001b[49m\u001b[38;5;241;43m*\u001b[39;49m\u001b[38;5;241;43m*\u001b[39;49m\u001b[43m{\u001b[49m\u001b[43mk\u001b[49m\u001b[43m:\u001b[49m\u001b[43m \u001b[49m\u001b[43mv\u001b[49m\u001b[43m \u001b[49m\u001b[38;5;28;43;01mfor\u001b[39;49;00m\u001b[43m \u001b[49m\u001b[43mk\u001b[49m\u001b[43m,\u001b[49m\u001b[43m \u001b[49m\u001b[43mv\u001b[49m\u001b[43m \u001b[49m\u001b[38;5;129;43;01min\u001b[39;49;00m\u001b[43m \u001b[49m\u001b[43mkwargs\u001b[49m\u001b[38;5;241;43m.\u001b[39;49m\u001b[43mitems\u001b[49m\u001b[43m(\u001b[49m\u001b[43m)\u001b[49m\u001b[43m \u001b[49m\u001b[38;5;28;43;01mif\u001b[39;49;00m\u001b[43m \u001b[49m\u001b[43mk\u001b[49m\u001b[43m \u001b[49m\u001b[38;5;129;43;01mnot\u001b[39;49;00m\u001b[43m \u001b[49m\u001b[38;5;129;43;01min\u001b[39;49;00m\u001b[43m \u001b[49m\u001b[43mskip\u001b[49m\u001b[43m}\u001b[49m\u001b[43m)\u001b[49m)\n\u001b[1;32m   2045\u001b[0m \u001b[38;5;28;01melse\u001b[39;00m:  \u001b[38;5;66;03m# Let third-parties do as they see fit.\u001b[39;00m\n\u001b[1;32m   2046\u001b[0m     print_method \u001b[38;5;241m=\u001b[39m meth\n",
      "File \u001b[0;32m~/miniconda3/envs/prolif/lib/python3.10/site-packages/matplotlib/backends/backend_agg.py:497\u001b[0m, in \u001b[0;36mFigureCanvasAgg.print_png\u001b[0;34m(self, filename_or_obj, metadata, pil_kwargs)\u001b[0m\n\u001b[1;32m    450\u001b[0m \u001b[38;5;28;01mdef\u001b[39;00m \u001b[38;5;21mprint_png\u001b[39m(\u001b[38;5;28mself\u001b[39m, filename_or_obj, \u001b[38;5;241m*\u001b[39m, metadata\u001b[38;5;241m=\u001b[39m\u001b[38;5;28;01mNone\u001b[39;00m, pil_kwargs\u001b[38;5;241m=\u001b[39m\u001b[38;5;28;01mNone\u001b[39;00m):\n\u001b[1;32m    451\u001b[0m \u001b[38;5;250m    \u001b[39m\u001b[38;5;124;03m\"\"\"\u001b[39;00m\n\u001b[1;32m    452\u001b[0m \u001b[38;5;124;03m    Write the figure to a PNG file.\u001b[39;00m\n\u001b[1;32m    453\u001b[0m \n\u001b[0;32m   (...)\u001b[0m\n\u001b[1;32m    495\u001b[0m \u001b[38;5;124;03m        *metadata*, including the default 'Software' key.\u001b[39;00m\n\u001b[1;32m    496\u001b[0m \u001b[38;5;124;03m    \"\"\"\u001b[39;00m\n\u001b[0;32m--> 497\u001b[0m     \u001b[38;5;28;43mself\u001b[39;49m\u001b[38;5;241;43m.\u001b[39;49m\u001b[43m_print_pil\u001b[49m\u001b[43m(\u001b[49m\u001b[43mfilename_or_obj\u001b[49m\u001b[43m,\u001b[49m\u001b[43m \u001b[49m\u001b[38;5;124;43m\"\u001b[39;49m\u001b[38;5;124;43mpng\u001b[39;49m\u001b[38;5;124;43m\"\u001b[39;49m\u001b[43m,\u001b[49m\u001b[43m \u001b[49m\u001b[43mpil_kwargs\u001b[49m\u001b[43m,\u001b[49m\u001b[43m \u001b[49m\u001b[43mmetadata\u001b[49m\u001b[43m)\u001b[49m\n",
      "File \u001b[0;32m~/miniconda3/envs/prolif/lib/python3.10/site-packages/matplotlib/backends/backend_agg.py:446\u001b[0m, in \u001b[0;36mFigureCanvasAgg._print_pil\u001b[0;34m(self, filename_or_obj, fmt, pil_kwargs, metadata)\u001b[0m\n\u001b[1;32m    441\u001b[0m \u001b[38;5;250m\u001b[39m\u001b[38;5;124;03m\"\"\"\u001b[39;00m\n\u001b[1;32m    442\u001b[0m \u001b[38;5;124;03mDraw the canvas, then save it using `.image.imsave` (to which\u001b[39;00m\n\u001b[1;32m    443\u001b[0m \u001b[38;5;124;03m*pil_kwargs* and *metadata* are forwarded).\u001b[39;00m\n\u001b[1;32m    444\u001b[0m \u001b[38;5;124;03m\"\"\"\u001b[39;00m\n\u001b[1;32m    445\u001b[0m FigureCanvasAgg\u001b[38;5;241m.\u001b[39mdraw(\u001b[38;5;28mself\u001b[39m)\n\u001b[0;32m--> 446\u001b[0m \u001b[43mmpl\u001b[49m\u001b[38;5;241;43m.\u001b[39;49m\u001b[43mimage\u001b[49m\u001b[38;5;241;43m.\u001b[39;49m\u001b[43mimsave\u001b[49m\u001b[43m(\u001b[49m\n\u001b[1;32m    447\u001b[0m \u001b[43m    \u001b[49m\u001b[43mfilename_or_obj\u001b[49m\u001b[43m,\u001b[49m\u001b[43m \u001b[49m\u001b[38;5;28;43mself\u001b[39;49m\u001b[38;5;241;43m.\u001b[39;49m\u001b[43mbuffer_rgba\u001b[49m\u001b[43m(\u001b[49m\u001b[43m)\u001b[49m\u001b[43m,\u001b[49m\u001b[43m \u001b[49m\u001b[38;5;28;43mformat\u001b[39;49m\u001b[38;5;241;43m=\u001b[39;49m\u001b[43mfmt\u001b[49m\u001b[43m,\u001b[49m\u001b[43m \u001b[49m\u001b[43morigin\u001b[49m\u001b[38;5;241;43m=\u001b[39;49m\u001b[38;5;124;43m\"\u001b[39;49m\u001b[38;5;124;43mupper\u001b[39;49m\u001b[38;5;124;43m\"\u001b[39;49m\u001b[43m,\u001b[49m\n\u001b[1;32m    448\u001b[0m \u001b[43m    \u001b[49m\u001b[43mdpi\u001b[49m\u001b[38;5;241;43m=\u001b[39;49m\u001b[38;5;28;43mself\u001b[39;49m\u001b[38;5;241;43m.\u001b[39;49m\u001b[43mfigure\u001b[49m\u001b[38;5;241;43m.\u001b[39;49m\u001b[43mdpi\u001b[49m\u001b[43m,\u001b[49m\u001b[43m \u001b[49m\u001b[43mmetadata\u001b[49m\u001b[38;5;241;43m=\u001b[39;49m\u001b[43mmetadata\u001b[49m\u001b[43m,\u001b[49m\u001b[43m \u001b[49m\u001b[43mpil_kwargs\u001b[49m\u001b[38;5;241;43m=\u001b[39;49m\u001b[43mpil_kwargs\u001b[49m\u001b[43m)\u001b[49m\n",
      "File \u001b[0;32m~/miniconda3/envs/prolif/lib/python3.10/site-packages/matplotlib/image.py:1656\u001b[0m, in \u001b[0;36mimsave\u001b[0;34m(fname, arr, vmin, vmax, cmap, format, origin, dpi, metadata, pil_kwargs)\u001b[0m\n\u001b[1;32m   1654\u001b[0m pil_kwargs\u001b[38;5;241m.\u001b[39msetdefault(\u001b[38;5;124m\"\u001b[39m\u001b[38;5;124mformat\u001b[39m\u001b[38;5;124m\"\u001b[39m, \u001b[38;5;28mformat\u001b[39m)\n\u001b[1;32m   1655\u001b[0m pil_kwargs\u001b[38;5;241m.\u001b[39msetdefault(\u001b[38;5;124m\"\u001b[39m\u001b[38;5;124mdpi\u001b[39m\u001b[38;5;124m\"\u001b[39m, (dpi, dpi))\n\u001b[0;32m-> 1656\u001b[0m \u001b[43mimage\u001b[49m\u001b[38;5;241;43m.\u001b[39;49m\u001b[43msave\u001b[49m\u001b[43m(\u001b[49m\u001b[43mfname\u001b[49m\u001b[43m,\u001b[49m\u001b[43m \u001b[49m\u001b[38;5;241;43m*\u001b[39;49m\u001b[38;5;241;43m*\u001b[39;49m\u001b[43mpil_kwargs\u001b[49m\u001b[43m)\u001b[49m\n",
      "File \u001b[0;32m~/miniconda3/envs/prolif/lib/python3.10/site-packages/PIL/Image.py:2436\u001b[0m, in \u001b[0;36mImage.save\u001b[0;34m(self, fp, format, **params)\u001b[0m\n\u001b[1;32m   2434\u001b[0m         fp \u001b[38;5;241m=\u001b[39m builtins\u001b[38;5;241m.\u001b[39mopen(filename, \u001b[38;5;124m\"\u001b[39m\u001b[38;5;124mr+b\u001b[39m\u001b[38;5;124m\"\u001b[39m)\n\u001b[1;32m   2435\u001b[0m     \u001b[38;5;28;01melse\u001b[39;00m:\n\u001b[0;32m-> 2436\u001b[0m         fp \u001b[38;5;241m=\u001b[39m \u001b[43mbuiltins\u001b[49m\u001b[38;5;241;43m.\u001b[39;49m\u001b[43mopen\u001b[49m\u001b[43m(\u001b[49m\u001b[43mfilename\u001b[49m\u001b[43m,\u001b[49m\u001b[43m \u001b[49m\u001b[38;5;124;43m\"\u001b[39;49m\u001b[38;5;124;43mw+b\u001b[39;49m\u001b[38;5;124;43m\"\u001b[39;49m\u001b[43m)\u001b[49m\n\u001b[1;32m   2438\u001b[0m \u001b[38;5;28;01mtry\u001b[39;00m:\n\u001b[1;32m   2439\u001b[0m     save_handler(\u001b[38;5;28mself\u001b[39m, fp, filename)\n",
      "\u001b[0;31mFileNotFoundError\u001b[0m: [Errno 2] No such file or directory: '/home/pengs/fold_zika/figs/bitmap_prolif.png'"
     ]
    },
    {
     "data": {
      "image/png": "[encoded data removed]",
      "text/plain": [
       "<Figure size 1500x1000 with 1 Axes>"
      ]
     },
     "metadata": {},
     "output_type": "display_data"
    }
   ],
   "source": [
    "ax = df_bitmap_plot.plot.bar(figsize=(15,10))\n",
    "fig = ax.get_figure()\n",
    "fig.savefig(fig_path/'bitmap_prolif.png')"
   ]
  },
  {
   "cell_type": "markdown",
   "id": "be9d8954-c44c-4203-9009-c1a92787b762",
   "metadata": {},
   "source": [
    "## Would like to remove 0 interactions (of ligands)"
   ]
  },
  {
   "cell_type": "code",
   "execution_count": null,
   "id": "b4ed5da0-3007-416a-b057-7958546f6548",
   "metadata": {},
   "outputs": [],
   "source": []
  },
  {
   "cell_type": "markdown",
   "id": "7741bdbf-4c47-4d2f-8bdd-7a96b5a0fda5",
   "metadata": {},
   "source": [
    "## Would like to make a count map as well"
   ]
  },
  {
   "cell_type": "code",
   "execution_count": 23,
   "id": "0e0fa254-885d-4195-9931-483db506b444",
   "metadata": {},
   "outputs": [
    {
     "name": "stdout",
     "output_type": "stream",
     "text": [
      "orig\n"
     ]
    },
    {
     "name": "stderr",
     "output_type": "stream",
     "text": [
      "/home/pengs/miniconda3/envs/asapdiscovery/lib/python3.10/site-packages/MDAnalysis/converters/RDKit.py:473: UserWarning: No `bonds` attribute in this AtomGroup. Guessing bonds based on atoms coordinates\n",
      "  warnings.warn(\n",
      "[16:00:13] Explicit valence for atom # 0 N, 4, is greater than permitted\n",
      "/home/pengs/miniconda3/envs/asapdiscovery/lib/python3.10/site-packages/MDAnalysis/converters/RDKit.py:501: UserWarning: Could not sanitize molecule: failed during step rdkit.Chem.rdmolops.SanitizeFlags.SANITIZE_PROPERTIES\n",
      "  warnings.warn(\"Could not sanitize molecule: \"\n"
     ]
    },
    {
     "data": {
      "application/vnd.jupyter.widget-view+json": {
       "model_id": "2528860773fd4b539516aea66dd4a3bd",
       "version_major": 2,
       "version_minor": 0
      },
      "text/plain": [
       "  0%|          | 0/76 [00:00<?, ?it/s]"
      ]
     },
     "metadata": {},
     "output_type": "display_data"
    },
    {
     "name": "stdout",
     "output_type": "stream",
     "text": [
      "NP_722463.1\n"
     ]
    },
    {
     "name": "stderr",
     "output_type": "stream",
     "text": [
      "[16:00:36] Explicit valence for atom # 0 N, 4, is greater than permitted\n"
     ]
    },
    {
     "data": {
      "application/vnd.jupyter.widget-view+json": {
       "model_id": "7688998a424c4809b571ab973b358a4f",
       "version_major": 2,
       "version_minor": 0
      },
      "text/plain": [
       "  0%|          | 0/77 [00:00<?, ?it/s]"
      ]
     },
     "metadata": {},
     "output_type": "display_data"
    },
    {
     "name": "stdout",
     "output_type": "stream",
     "text": [
      "NP_739587.2\n"
     ]
    },
    {
     "name": "stderr",
     "output_type": "stream",
     "text": [
      "[16:00:55] Explicit valence for atom # 0 N, 4, is greater than permitted\n"
     ]
    },
    {
     "data": {
      "application/vnd.jupyter.widget-view+json": {
       "model_id": "ef2bdaa11e9f443db8d8350c159ee960",
       "version_major": 2,
       "version_minor": 0
      },
      "text/plain": [
       "  0%|          | 0/56 [00:00<?, ?it/s]"
      ]
     },
     "metadata": {},
     "output_type": "display_data"
    },
    {
     "name": "stdout",
     "output_type": "stream",
     "text": [
      "YP_001621843.1\n"
     ]
    },
    {
     "name": "stderr",
     "output_type": "stream",
     "text": [
      "[16:01:12] Explicit valence for atom # 0 N, 4, is greater than permitted\n"
     ]
    },
    {
     "data": {
      "application/vnd.jupyter.widget-view+json": {
       "model_id": "3d6230d1cf534d1b9ca597283f694954",
       "version_major": 2,
       "version_minor": 0
      },
      "text/plain": [
       "  0%|          | 0/1 [00:00<?, ?it/s]"
      ]
     },
     "metadata": {},
     "output_type": "display_data"
    },
    {
     "name": "stdout",
     "output_type": "stream",
     "text": [
      "YP_001527884.1\n"
     ]
    },
    {
     "name": "stderr",
     "output_type": "stream",
     "text": [
      "[16:01:22] Explicit valence for atom # 0 N, 4, is greater than permitted\n"
     ]
    },
    {
     "data": {
      "application/vnd.jupyter.widget-view+json": {
       "model_id": "f481fcb9d5f04adc82c01833d086f51f",
       "version_major": 2,
       "version_minor": 0
      },
      "text/plain": [
       "  0%|          | 0/77 [00:00<?, ?it/s]"
      ]
     },
     "metadata": {},
     "output_type": "display_data"
    },
    {
     "name": "stdout",
     "output_type": "stream",
     "text": [
      "NP_740321.1\n"
     ]
    },
    {
     "name": "stderr",
     "output_type": "stream",
     "text": [
      "[16:01:40] Explicit valence for atom # 0 N, 4, is greater than permitted\n"
     ]
    },
    {
     "data": {
      "application/vnd.jupyter.widget-view+json": {
       "model_id": "c4bad21cbb97454ea3fe82602723975f",
       "version_major": 2,
       "version_minor": 0
      },
      "text/plain": [
       "  0%|          | 0/77 [00:00<?, ?it/s]"
      ]
     },
     "metadata": {},
     "output_type": "display_data"
    },
    {
     "name": "stdout",
     "output_type": "stream",
     "text": [
      "YP_001531172.2\n"
     ]
    },
    {
     "name": "stderr",
     "output_type": "stream",
     "text": [
      "[16:01:59] Explicit valence for atom # 0 N, 4, is greater than permitted\n"
     ]
    },
    {
     "data": {
      "application/vnd.jupyter.widget-view+json": {
       "model_id": "63531d1a069944ce86ee1e76a33cab7e",
       "version_major": 2,
       "version_minor": 0
      },
      "text/plain": [
       "  0%|          | 0/77 [00:00<?, ?it/s]"
      ]
     },
     "metadata": {},
     "output_type": "display_data"
    }
   ],
   "source": [
    "# Dictionary to store fingerprints of proteins\n",
    "prot_count_fp = dict()\n",
    "# Dictionary to map ligands to their index in fingerprint\n",
    "lig_maps = dict()\n",
    "\n",
    "for prot_dir in prepped_prots:\n",
    "    prot_pattern = r'.+/(.+)_prepped'\n",
    "    match = re.search(prot_pattern, prot_dir)\n",
    "    prot = match.group(1)\n",
    "    print(prot)\n",
    "    # Get fingerprint of prepped ligands of protein\n",
    "    prot_count_fp[prot] = get_fingerprint_of_prot(prot_dir, count=True)\n",
    "    # Map the ligands to their index\n",
    "    lig_maps[prot] = get_map_protein(prot_dir)"
   ]
  },
  {
   "cell_type": "code",
   "execution_count": 24,
   "id": "8bf3f9de-d51d-459e-81ce-b3c9f3b730f8",
   "metadata": {},
   "outputs": [],
   "source": [
    "# make interaction map by loop through the ligands\n",
    "def make_lig_countmap(fp, lig_map):\n",
    "    lig_inters = {}\n",
    "    for key in fp.ifp:\n",
    "        lig = lig_map[key]\n",
    "        # Map of all iteractions for each ligand\n",
    "        inter_map = {'Hydrophobic':0, \n",
    "                     'HBAcceptor':0, \n",
    "                     'HBDonor':0,\n",
    "                     'Cationic':0, \n",
    "                     'Anionic':0,\n",
    "                     'CationPi':0, \n",
    "                     'PiCation':0, \n",
    "                     'PiStacking':0, \n",
    "                     'VdWContact':0}\n",
    "        # Change this to a pandas format to read\n",
    "        df = fp.to_dataframe().T[key]\n",
    "        # Iterate through the pandas series to find the interaction defined\n",
    "        for item in df.iteritems():\n",
    "            # The interaction\n",
    "            inter = item[0][2]\n",
    "            # The count of interaction\n",
    "            count = item[1]\n",
    "            # Find the corresponding interaction in the predefined interaction map\n",
    "            for interact in inter_map:\n",
    "                if inter == interact:\n",
    "                    inter_map[interact] += count\n",
    "        lig_inters[lig] = inter_map\n",
    "    return lig_inters"
   ]
  },
  {
   "cell_type": "code",
   "execution_count": 25,
   "id": "54de1d95-7758-4563-acb3-48ae676e1399",
   "metadata": {},
   "outputs": [
    {
     "name": "stderr",
     "output_type": "stream",
     "text": [
      "/scratch/lsftmp/4730525.tmpdir/ipykernel_351964/2080076220.py:19: FutureWarning: iteritems is deprecated and will be removed in a future version. Use .items instead.\n",
      "  for item in df.iteritems():\n",
      "/scratch/lsftmp/4730525.tmpdir/ipykernel_351964/2080076220.py:19: FutureWarning: iteritems is deprecated and will be removed in a future version. Use .items instead.\n",
      "  for item in df.iteritems():\n",
      "/scratch/lsftmp/4730525.tmpdir/ipykernel_351964/2080076220.py:19: FutureWarning: iteritems is deprecated and will be removed in a future version. Use .items instead.\n",
      "  for item in df.iteritems():\n",
      "/scratch/lsftmp/4730525.tmpdir/ipykernel_351964/2080076220.py:19: FutureWarning: iteritems is deprecated and will be removed in a future version. Use .items instead.\n",
      "  for item in df.iteritems():\n",
      "/scratch/lsftmp/4730525.tmpdir/ipykernel_351964/2080076220.py:19: FutureWarning: iteritems is deprecated and will be removed in a future version. Use .items instead.\n",
      "  for item in df.iteritems():\n",
      "/scratch/lsftmp/4730525.tmpdir/ipykernel_351964/2080076220.py:19: FutureWarning: iteritems is deprecated and will be removed in a future version. Use .items instead.\n",
      "  for item in df.iteritems():\n",
      "/scratch/lsftmp/4730525.tmpdir/ipykernel_351964/2080076220.py:19: FutureWarning: iteritems is deprecated and will be removed in a future version. Use .items instead.\n",
      "  for item in df.iteritems():\n",
      "/scratch/lsftmp/4730525.tmpdir/ipykernel_351964/2080076220.py:19: FutureWarning: iteritems is deprecated and will be removed in a future version. Use .items instead.\n",
      "  for item in df.iteritems():\n",
      "/scratch/lsftmp/4730525.tmpdir/ipykernel_351964/2080076220.py:19: FutureWarning: iteritems is deprecated and will be removed in a future version. Use .items instead.\n",
      "  for item in df.iteritems():\n",
      "/scratch/lsftmp/4730525.tmpdir/ipykernel_351964/2080076220.py:19: FutureWarning: iteritems is deprecated and will be removed in a future version. Use .items instead.\n",
      "  for item in df.iteritems():\n",
      "/scratch/lsftmp/4730525.tmpdir/ipykernel_351964/2080076220.py:19: FutureWarning: iteritems is deprecated and will be removed in a future version. Use .items instead.\n",
      "  for item in df.iteritems():\n",
      "/scratch/lsftmp/4730525.tmpdir/ipykernel_351964/2080076220.py:19: FutureWarning: iteritems is deprecated and will be removed in a future version. Use .items instead.\n",
      "  for item in df.iteritems():\n",
      "/scratch/lsftmp/4730525.tmpdir/ipykernel_351964/2080076220.py:19: FutureWarning: iteritems is deprecated and will be removed in a future version. Use .items instead.\n",
      "  for item in df.iteritems():\n",
      "/scratch/lsftmp/4730525.tmpdir/ipykernel_351964/2080076220.py:19: FutureWarning: iteritems is deprecated and will be removed in a future version. Use .items instead.\n",
      "  for item in df.iteritems():\n",
      "/scratch/lsftmp/4730525.tmpdir/ipykernel_351964/2080076220.py:19: FutureWarning: iteritems is deprecated and will be removed in a future version. Use .items instead.\n",
      "  for item in df.iteritems():\n",
      "/scratch/lsftmp/4730525.tmpdir/ipykernel_351964/2080076220.py:19: FutureWarning: iteritems is deprecated and will be removed in a future version. Use .items instead.\n",
      "  for item in df.iteritems():\n",
      "/scratch/lsftmp/4730525.tmpdir/ipykernel_351964/2080076220.py:19: FutureWarning: iteritems is deprecated and will be removed in a future version. Use .items instead.\n",
      "  for item in df.iteritems():\n",
      "/scratch/lsftmp/4730525.tmpdir/ipykernel_351964/2080076220.py:19: FutureWarning: iteritems is deprecated and will be removed in a future version. Use .items instead.\n",
      "  for item in df.iteritems():\n",
      "/scratch/lsftmp/4730525.tmpdir/ipykernel_351964/2080076220.py:19: FutureWarning: iteritems is deprecated and will be removed in a future version. Use .items instead.\n",
      "  for item in df.iteritems():\n",
      "/scratch/lsftmp/4730525.tmpdir/ipykernel_351964/2080076220.py:19: FutureWarning: iteritems is deprecated and will be removed in a future version. Use .items instead.\n",
      "  for item in df.iteritems():\n",
      "/scratch/lsftmp/4730525.tmpdir/ipykernel_351964/2080076220.py:19: FutureWarning: iteritems is deprecated and will be removed in a future version. Use .items instead.\n",
      "  for item in df.iteritems():\n",
      "/scratch/lsftmp/4730525.tmpdir/ipykernel_351964/2080076220.py:19: FutureWarning: iteritems is deprecated and will be removed in a future version. Use .items instead.\n",
      "  for item in df.iteritems():\n",
      "/scratch/lsftmp/4730525.tmpdir/ipykernel_351964/2080076220.py:19: FutureWarning: iteritems is deprecated and will be removed in a future version. Use .items instead.\n",
      "  for item in df.iteritems():\n",
      "/scratch/lsftmp/4730525.tmpdir/ipykernel_351964/2080076220.py:19: FutureWarning: iteritems is deprecated and will be removed in a future version. Use .items instead.\n",
      "  for item in df.iteritems():\n",
      "/scratch/lsftmp/4730525.tmpdir/ipykernel_351964/2080076220.py:19: FutureWarning: iteritems is deprecated and will be removed in a future version. Use .items instead.\n",
      "  for item in df.iteritems():\n",
      "/scratch/lsftmp/4730525.tmpdir/ipykernel_351964/2080076220.py:19: FutureWarning: iteritems is deprecated and will be removed in a future version. Use .items instead.\n",
      "  for item in df.iteritems():\n",
      "/scratch/lsftmp/4730525.tmpdir/ipykernel_351964/2080076220.py:19: FutureWarning: iteritems is deprecated and will be removed in a future version. Use .items instead.\n",
      "  for item in df.iteritems():\n",
      "/scratch/lsftmp/4730525.tmpdir/ipykernel_351964/2080076220.py:19: FutureWarning: iteritems is deprecated and will be removed in a future version. Use .items instead.\n",
      "  for item in df.iteritems():\n",
      "/scratch/lsftmp/4730525.tmpdir/ipykernel_351964/2080076220.py:19: FutureWarning: iteritems is deprecated and will be removed in a future version. Use .items instead.\n",
      "  for item in df.iteritems():\n",
      "/scratch/lsftmp/4730525.tmpdir/ipykernel_351964/2080076220.py:19: FutureWarning: iteritems is deprecated and will be removed in a future version. Use .items instead.\n",
      "  for item in df.iteritems():\n",
      "/scratch/lsftmp/4730525.tmpdir/ipykernel_351964/2080076220.py:19: FutureWarning: iteritems is deprecated and will be removed in a future version. Use .items instead.\n",
      "  for item in df.iteritems():\n",
      "/scratch/lsftmp/4730525.tmpdir/ipykernel_351964/2080076220.py:19: FutureWarning: iteritems is deprecated and will be removed in a future version. Use .items instead.\n",
      "  for item in df.iteritems():\n",
      "/scratch/lsftmp/4730525.tmpdir/ipykernel_351964/2080076220.py:19: FutureWarning: iteritems is deprecated and will be removed in a future version. Use .items instead.\n",
      "  for item in df.iteritems():\n",
      "/scratch/lsftmp/4730525.tmpdir/ipykernel_351964/2080076220.py:19: FutureWarning: iteritems is deprecated and will be removed in a future version. Use .items instead.\n",
      "  for item in df.iteritems():\n",
      "/scratch/lsftmp/4730525.tmpdir/ipykernel_351964/2080076220.py:19: FutureWarning: iteritems is deprecated and will be removed in a future version. Use .items instead.\n",
      "  for item in df.iteritems():\n",
      "/scratch/lsftmp/4730525.tmpdir/ipykernel_351964/2080076220.py:19: FutureWarning: iteritems is deprecated and will be removed in a future version. Use .items instead.\n",
      "  for item in df.iteritems():\n",
      "/scratch/lsftmp/4730525.tmpdir/ipykernel_351964/2080076220.py:19: FutureWarning: iteritems is deprecated and will be removed in a future version. Use .items instead.\n",
      "  for item in df.iteritems():\n",
      "/scratch/lsftmp/4730525.tmpdir/ipykernel_351964/2080076220.py:19: FutureWarning: iteritems is deprecated and will be removed in a future version. Use .items instead.\n",
      "  for item in df.iteritems():\n",
      "/scratch/lsftmp/4730525.tmpdir/ipykernel_351964/2080076220.py:19: FutureWarning: iteritems is deprecated and will be removed in a future version. Use .items instead.\n",
      "  for item in df.iteritems():\n",
      "/scratch/lsftmp/4730525.tmpdir/ipykernel_351964/2080076220.py:19: FutureWarning: iteritems is deprecated and will be removed in a future version. Use .items instead.\n",
      "  for item in df.iteritems():\n",
      "/scratch/lsftmp/4730525.tmpdir/ipykernel_351964/2080076220.py:19: FutureWarning: iteritems is deprecated and will be removed in a future version. Use .items instead.\n",
      "  for item in df.iteritems():\n",
      "/scratch/lsftmp/4730525.tmpdir/ipykernel_351964/2080076220.py:19: FutureWarning: iteritems is deprecated and will be removed in a future version. Use .items instead.\n",
      "  for item in df.iteritems():\n",
      "/scratch/lsftmp/4730525.tmpdir/ipykernel_351964/2080076220.py:19: FutureWarning: iteritems is deprecated and will be removed in a future version. Use .items instead.\n",
      "  for item in df.iteritems():\n",
      "/scratch/lsftmp/4730525.tmpdir/ipykernel_351964/2080076220.py:19: FutureWarning: iteritems is deprecated and will be removed in a future version. Use .items instead.\n",
      "  for item in df.iteritems():\n",
      "/scratch/lsftmp/4730525.tmpdir/ipykernel_351964/2080076220.py:19: FutureWarning: iteritems is deprecated and will be removed in a future version. Use .items instead.\n",
      "  for item in df.iteritems():\n",
      "/scratch/lsftmp/4730525.tmpdir/ipykernel_351964/2080076220.py:19: FutureWarning: iteritems is deprecated and will be removed in a future version. Use .items instead.\n",
      "  for item in df.iteritems():\n",
      "/scratch/lsftmp/4730525.tmpdir/ipykernel_351964/2080076220.py:19: FutureWarning: iteritems is deprecated and will be removed in a future version. Use .items instead.\n",
      "  for item in df.iteritems():\n",
      "/scratch/lsftmp/4730525.tmpdir/ipykernel_351964/2080076220.py:19: FutureWarning: iteritems is deprecated and will be removed in a future version. Use .items instead.\n",
      "  for item in df.iteritems():\n",
      "/scratch/lsftmp/4730525.tmpdir/ipykernel_351964/2080076220.py:19: FutureWarning: iteritems is deprecated and will be removed in a future version. Use .items instead.\n",
      "  for item in df.iteritems():\n",
      "/scratch/lsftmp/4730525.tmpdir/ipykernel_351964/2080076220.py:19: FutureWarning: iteritems is deprecated and will be removed in a future version. Use .items instead.\n",
      "  for item in df.iteritems():\n",
      "/scratch/lsftmp/4730525.tmpdir/ipykernel_351964/2080076220.py:19: FutureWarning: iteritems is deprecated and will be removed in a future version. Use .items instead.\n",
      "  for item in df.iteritems():\n",
      "/scratch/lsftmp/4730525.tmpdir/ipykernel_351964/2080076220.py:19: FutureWarning: iteritems is deprecated and will be removed in a future version. Use .items instead.\n",
      "  for item in df.iteritems():\n",
      "/scratch/lsftmp/4730525.tmpdir/ipykernel_351964/2080076220.py:19: FutureWarning: iteritems is deprecated and will be removed in a future version. Use .items instead.\n",
      "  for item in df.iteritems():\n",
      "/scratch/lsftmp/4730525.tmpdir/ipykernel_351964/2080076220.py:19: FutureWarning: iteritems is deprecated and will be removed in a future version. Use .items instead.\n",
      "  for item in df.iteritems():\n",
      "/scratch/lsftmp/4730525.tmpdir/ipykernel_351964/2080076220.py:19: FutureWarning: iteritems is deprecated and will be removed in a future version. Use .items instead.\n",
      "  for item in df.iteritems():\n",
      "/scratch/lsftmp/4730525.tmpdir/ipykernel_351964/2080076220.py:19: FutureWarning: iteritems is deprecated and will be removed in a future version. Use .items instead.\n",
      "  for item in df.iteritems():\n",
      "/scratch/lsftmp/4730525.tmpdir/ipykernel_351964/2080076220.py:19: FutureWarning: iteritems is deprecated and will be removed in a future version. Use .items instead.\n",
      "  for item in df.iteritems():\n",
      "/scratch/lsftmp/4730525.tmpdir/ipykernel_351964/2080076220.py:19: FutureWarning: iteritems is deprecated and will be removed in a future version. Use .items instead.\n",
      "  for item in df.iteritems():\n",
      "/scratch/lsftmp/4730525.tmpdir/ipykernel_351964/2080076220.py:19: FutureWarning: iteritems is deprecated and will be removed in a future version. Use .items instead.\n",
      "  for item in df.iteritems():\n",
      "/scratch/lsftmp/4730525.tmpdir/ipykernel_351964/2080076220.py:19: FutureWarning: iteritems is deprecated and will be removed in a future version. Use .items instead.\n",
      "  for item in df.iteritems():\n",
      "/scratch/lsftmp/4730525.tmpdir/ipykernel_351964/2080076220.py:19: FutureWarning: iteritems is deprecated and will be removed in a future version. Use .items instead.\n",
      "  for item in df.iteritems():\n",
      "/scratch/lsftmp/4730525.tmpdir/ipykernel_351964/2080076220.py:19: FutureWarning: iteritems is deprecated and will be removed in a future version. Use .items instead.\n",
      "  for item in df.iteritems():\n",
      "/scratch/lsftmp/4730525.tmpdir/ipykernel_351964/2080076220.py:19: FutureWarning: iteritems is deprecated and will be removed in a future version. Use .items instead.\n",
      "  for item in df.iteritems():\n",
      "/scratch/lsftmp/4730525.tmpdir/ipykernel_351964/2080076220.py:19: FutureWarning: iteritems is deprecated and will be removed in a future version. Use .items instead.\n",
      "  for item in df.iteritems():\n",
      "/scratch/lsftmp/4730525.tmpdir/ipykernel_351964/2080076220.py:19: FutureWarning: iteritems is deprecated and will be removed in a future version. Use .items instead.\n",
      "  for item in df.iteritems():\n",
      "/scratch/lsftmp/4730525.tmpdir/ipykernel_351964/2080076220.py:19: FutureWarning: iteritems is deprecated and will be removed in a future version. Use .items instead.\n",
      "  for item in df.iteritems():\n",
      "/scratch/lsftmp/4730525.tmpdir/ipykernel_351964/2080076220.py:19: FutureWarning: iteritems is deprecated and will be removed in a future version. Use .items instead.\n",
      "  for item in df.iteritems():\n",
      "/scratch/lsftmp/4730525.tmpdir/ipykernel_351964/2080076220.py:19: FutureWarning: iteritems is deprecated and will be removed in a future version. Use .items instead.\n",
      "  for item in df.iteritems():\n",
      "/scratch/lsftmp/4730525.tmpdir/ipykernel_351964/2080076220.py:19: FutureWarning: iteritems is deprecated and will be removed in a future version. Use .items instead.\n",
      "  for item in df.iteritems():\n",
      "/scratch/lsftmp/4730525.tmpdir/ipykernel_351964/2080076220.py:19: FutureWarning: iteritems is deprecated and will be removed in a future version. Use .items instead.\n",
      "  for item in df.iteritems():\n",
      "/scratch/lsftmp/4730525.tmpdir/ipykernel_351964/2080076220.py:19: FutureWarning: iteritems is deprecated and will be removed in a future version. Use .items instead.\n",
      "  for item in df.iteritems():\n",
      "/scratch/lsftmp/4730525.tmpdir/ipykernel_351964/2080076220.py:19: FutureWarning: iteritems is deprecated and will be removed in a future version. Use .items instead.\n",
      "  for item in df.iteritems():\n",
      "/scratch/lsftmp/4730525.tmpdir/ipykernel_351964/2080076220.py:19: FutureWarning: iteritems is deprecated and will be removed in a future version. Use .items instead.\n",
      "  for item in df.iteritems():\n",
      "/scratch/lsftmp/4730525.tmpdir/ipykernel_351964/2080076220.py:19: FutureWarning: iteritems is deprecated and will be removed in a future version. Use .items instead.\n",
      "  for item in df.iteritems():\n",
      "/scratch/lsftmp/4730525.tmpdir/ipykernel_351964/2080076220.py:19: FutureWarning: iteritems is deprecated and will be removed in a future version. Use .items instead.\n",
      "  for item in df.iteritems():\n",
      "/scratch/lsftmp/4730525.tmpdir/ipykernel_351964/2080076220.py:19: FutureWarning: iteritems is deprecated and will be removed in a future version. Use .items instead.\n",
      "  for item in df.iteritems():\n",
      "/scratch/lsftmp/4730525.tmpdir/ipykernel_351964/2080076220.py:19: FutureWarning: iteritems is deprecated and will be removed in a future version. Use .items instead.\n",
      "  for item in df.iteritems():\n",
      "/scratch/lsftmp/4730525.tmpdir/ipykernel_351964/2080076220.py:19: FutureWarning: iteritems is deprecated and will be removed in a future version. Use .items instead.\n",
      "  for item in df.iteritems():\n",
      "/scratch/lsftmp/4730525.tmpdir/ipykernel_351964/2080076220.py:19: FutureWarning: iteritems is deprecated and will be removed in a future version. Use .items instead.\n",
      "  for item in df.iteritems():\n",
      "/scratch/lsftmp/4730525.tmpdir/ipykernel_351964/2080076220.py:19: FutureWarning: iteritems is deprecated and will be removed in a future version. Use .items instead.\n",
      "  for item in df.iteritems():\n",
      "/scratch/lsftmp/4730525.tmpdir/ipykernel_351964/2080076220.py:19: FutureWarning: iteritems is deprecated and will be removed in a future version. Use .items instead.\n",
      "  for item in df.iteritems():\n",
      "/scratch/lsftmp/4730525.tmpdir/ipykernel_351964/2080076220.py:19: FutureWarning: iteritems is deprecated and will be removed in a future version. Use .items instead.\n",
      "  for item in df.iteritems():\n",
      "/scratch/lsftmp/4730525.tmpdir/ipykernel_351964/2080076220.py:19: FutureWarning: iteritems is deprecated and will be removed in a future version. Use .items instead.\n",
      "  for item in df.iteritems():\n",
      "/scratch/lsftmp/4730525.tmpdir/ipykernel_351964/2080076220.py:19: FutureWarning: iteritems is deprecated and will be removed in a future version. Use .items instead.\n",
      "  for item in df.iteritems():\n",
      "/scratch/lsftmp/4730525.tmpdir/ipykernel_351964/2080076220.py:19: FutureWarning: iteritems is deprecated and will be removed in a future version. Use .items instead.\n",
      "  for item in df.iteritems():\n",
      "/scratch/lsftmp/4730525.tmpdir/ipykernel_351964/2080076220.py:19: FutureWarning: iteritems is deprecated and will be removed in a future version. Use .items instead.\n",
      "  for item in df.iteritems():\n",
      "/scratch/lsftmp/4730525.tmpdir/ipykernel_351964/2080076220.py:19: FutureWarning: iteritems is deprecated and will be removed in a future version. Use .items instead.\n",
      "  for item in df.iteritems():\n",
      "/scratch/lsftmp/4730525.tmpdir/ipykernel_351964/2080076220.py:19: FutureWarning: iteritems is deprecated and will be removed in a future version. Use .items instead.\n",
      "  for item in df.iteritems():\n",
      "/scratch/lsftmp/4730525.tmpdir/ipykernel_351964/2080076220.py:19: FutureWarning: iteritems is deprecated and will be removed in a future version. Use .items instead.\n",
      "  for item in df.iteritems():\n",
      "/scratch/lsftmp/4730525.tmpdir/ipykernel_351964/2080076220.py:19: FutureWarning: iteritems is deprecated and will be removed in a future version. Use .items instead.\n",
      "  for item in df.iteritems():\n",
      "/scratch/lsftmp/4730525.tmpdir/ipykernel_351964/2080076220.py:19: FutureWarning: iteritems is deprecated and will be removed in a future version. Use .items instead.\n",
      "  for item in df.iteritems():\n",
      "/scratch/lsftmp/4730525.tmpdir/ipykernel_351964/2080076220.py:19: FutureWarning: iteritems is deprecated and will be removed in a future version. Use .items instead.\n",
      "  for item in df.iteritems():\n",
      "/scratch/lsftmp/4730525.tmpdir/ipykernel_351964/2080076220.py:19: FutureWarning: iteritems is deprecated and will be removed in a future version. Use .items instead.\n",
      "  for item in df.iteritems():\n",
      "/scratch/lsftmp/4730525.tmpdir/ipykernel_351964/2080076220.py:19: FutureWarning: iteritems is deprecated and will be removed in a future version. Use .items instead.\n",
      "  for item in df.iteritems():\n",
      "/scratch/lsftmp/4730525.tmpdir/ipykernel_351964/2080076220.py:19: FutureWarning: iteritems is deprecated and will be removed in a future version. Use .items instead.\n",
      "  for item in df.iteritems():\n",
      "/scratch/lsftmp/4730525.tmpdir/ipykernel_351964/2080076220.py:19: FutureWarning: iteritems is deprecated and will be removed in a future version. Use .items instead.\n",
      "  for item in df.iteritems():\n",
      "/scratch/lsftmp/4730525.tmpdir/ipykernel_351964/2080076220.py:19: FutureWarning: iteritems is deprecated and will be removed in a future version. Use .items instead.\n",
      "  for item in df.iteritems():\n",
      "/scratch/lsftmp/4730525.tmpdir/ipykernel_351964/2080076220.py:19: FutureWarning: iteritems is deprecated and will be removed in a future version. Use .items instead.\n",
      "  for item in df.iteritems():\n",
      "/scratch/lsftmp/4730525.tmpdir/ipykernel_351964/2080076220.py:19: FutureWarning: iteritems is deprecated and will be removed in a future version. Use .items instead.\n",
      "  for item in df.iteritems():\n",
      "/scratch/lsftmp/4730525.tmpdir/ipykernel_351964/2080076220.py:19: FutureWarning: iteritems is deprecated and will be removed in a future version. Use .items instead.\n",
      "  for item in df.iteritems():\n",
      "/scratch/lsftmp/4730525.tmpdir/ipykernel_351964/2080076220.py:19: FutureWarning: iteritems is deprecated and will be removed in a future version. Use .items instead.\n",
      "  for item in df.iteritems():\n",
      "/scratch/lsftmp/4730525.tmpdir/ipykernel_351964/2080076220.py:19: FutureWarning: iteritems is deprecated and will be removed in a future version. Use .items instead.\n",
      "  for item in df.iteritems():\n",
      "/scratch/lsftmp/4730525.tmpdir/ipykernel_351964/2080076220.py:19: FutureWarning: iteritems is deprecated and will be removed in a future version. Use .items instead.\n",
      "  for item in df.iteritems():\n",
      "/scratch/lsftmp/4730525.tmpdir/ipykernel_351964/2080076220.py:19: FutureWarning: iteritems is deprecated and will be removed in a future version. Use .items instead.\n",
      "  for item in df.iteritems():\n",
      "/scratch/lsftmp/4730525.tmpdir/ipykernel_351964/2080076220.py:19: FutureWarning: iteritems is deprecated and will be removed in a future version. Use .items instead.\n",
      "  for item in df.iteritems():\n",
      "/scratch/lsftmp/4730525.tmpdir/ipykernel_351964/2080076220.py:19: FutureWarning: iteritems is deprecated and will be removed in a future version. Use .items instead.\n",
      "  for item in df.iteritems():\n",
      "/scratch/lsftmp/4730525.tmpdir/ipykernel_351964/2080076220.py:19: FutureWarning: iteritems is deprecated and will be removed in a future version. Use .items instead.\n",
      "  for item in df.iteritems():\n",
      "/scratch/lsftmp/4730525.tmpdir/ipykernel_351964/2080076220.py:19: FutureWarning: iteritems is deprecated and will be removed in a future version. Use .items instead.\n",
      "  for item in df.iteritems():\n",
      "/scratch/lsftmp/4730525.tmpdir/ipykernel_351964/2080076220.py:19: FutureWarning: iteritems is deprecated and will be removed in a future version. Use .items instead.\n",
      "  for item in df.iteritems():\n",
      "/scratch/lsftmp/4730525.tmpdir/ipykernel_351964/2080076220.py:19: FutureWarning: iteritems is deprecated and will be removed in a future version. Use .items instead.\n",
      "  for item in df.iteritems():\n",
      "/scratch/lsftmp/4730525.tmpdir/ipykernel_351964/2080076220.py:19: FutureWarning: iteritems is deprecated and will be removed in a future version. Use .items instead.\n",
      "  for item in df.iteritems():\n",
      "/scratch/lsftmp/4730525.tmpdir/ipykernel_351964/2080076220.py:19: FutureWarning: iteritems is deprecated and will be removed in a future version. Use .items instead.\n",
      "  for item in df.iteritems():\n",
      "/scratch/lsftmp/4730525.tmpdir/ipykernel_351964/2080076220.py:19: FutureWarning: iteritems is deprecated and will be removed in a future version. Use .items instead.\n",
      "  for item in df.iteritems():\n",
      "/scratch/lsftmp/4730525.tmpdir/ipykernel_351964/2080076220.py:19: FutureWarning: iteritems is deprecated and will be removed in a future version. Use .items instead.\n",
      "  for item in df.iteritems():\n",
      "/scratch/lsftmp/4730525.tmpdir/ipykernel_351964/2080076220.py:19: FutureWarning: iteritems is deprecated and will be removed in a future version. Use .items instead.\n",
      "  for item in df.iteritems():\n",
      "/scratch/lsftmp/4730525.tmpdir/ipykernel_351964/2080076220.py:19: FutureWarning: iteritems is deprecated and will be removed in a future version. Use .items instead.\n",
      "  for item in df.iteritems():\n",
      "/scratch/lsftmp/4730525.tmpdir/ipykernel_351964/2080076220.py:19: FutureWarning: iteritems is deprecated and will be removed in a future version. Use .items instead.\n",
      "  for item in df.iteritems():\n",
      "/scratch/lsftmp/4730525.tmpdir/ipykernel_351964/2080076220.py:19: FutureWarning: iteritems is deprecated and will be removed in a future version. Use .items instead.\n",
      "  for item in df.iteritems():\n",
      "/scratch/lsftmp/4730525.tmpdir/ipykernel_351964/2080076220.py:19: FutureWarning: iteritems is deprecated and will be removed in a future version. Use .items instead.\n",
      "  for item in df.iteritems():\n",
      "/scratch/lsftmp/4730525.tmpdir/ipykernel_351964/2080076220.py:19: FutureWarning: iteritems is deprecated and will be removed in a future version. Use .items instead.\n",
      "  for item in df.iteritems():\n",
      "/scratch/lsftmp/4730525.tmpdir/ipykernel_351964/2080076220.py:19: FutureWarning: iteritems is deprecated and will be removed in a future version. Use .items instead.\n",
      "  for item in df.iteritems():\n",
      "/scratch/lsftmp/4730525.tmpdir/ipykernel_351964/2080076220.py:19: FutureWarning: iteritems is deprecated and will be removed in a future version. Use .items instead.\n",
      "  for item in df.iteritems():\n",
      "/scratch/lsftmp/4730525.tmpdir/ipykernel_351964/2080076220.py:19: FutureWarning: iteritems is deprecated and will be removed in a future version. Use .items instead.\n",
      "  for item in df.iteritems():\n",
      "/scratch/lsftmp/4730525.tmpdir/ipykernel_351964/2080076220.py:19: FutureWarning: iteritems is deprecated and will be removed in a future version. Use .items instead.\n",
      "  for item in df.iteritems():\n",
      "/scratch/lsftmp/4730525.tmpdir/ipykernel_351964/2080076220.py:19: FutureWarning: iteritems is deprecated and will be removed in a future version. Use .items instead.\n",
      "  for item in df.iteritems():\n",
      "/scratch/lsftmp/4730525.tmpdir/ipykernel_351964/2080076220.py:19: FutureWarning: iteritems is deprecated and will be removed in a future version. Use .items instead.\n",
      "  for item in df.iteritems():\n",
      "/scratch/lsftmp/4730525.tmpdir/ipykernel_351964/2080076220.py:19: FutureWarning: iteritems is deprecated and will be removed in a future version. Use .items instead.\n",
      "  for item in df.iteritems():\n",
      "/scratch/lsftmp/4730525.tmpdir/ipykernel_351964/2080076220.py:19: FutureWarning: iteritems is deprecated and will be removed in a future version. Use .items instead.\n",
      "  for item in df.iteritems():\n",
      "/scratch/lsftmp/4730525.tmpdir/ipykernel_351964/2080076220.py:19: FutureWarning: iteritems is deprecated and will be removed in a future version. Use .items instead.\n",
      "  for item in df.iteritems():\n",
      "/scratch/lsftmp/4730525.tmpdir/ipykernel_351964/2080076220.py:19: FutureWarning: iteritems is deprecated and will be removed in a future version. Use .items instead.\n",
      "  for item in df.iteritems():\n",
      "/scratch/lsftmp/4730525.tmpdir/ipykernel_351964/2080076220.py:19: FutureWarning: iteritems is deprecated and will be removed in a future version. Use .items instead.\n",
      "  for item in df.iteritems():\n",
      "/scratch/lsftmp/4730525.tmpdir/ipykernel_351964/2080076220.py:19: FutureWarning: iteritems is deprecated and will be removed in a future version. Use .items instead.\n",
      "  for item in df.iteritems():\n",
      "/scratch/lsftmp/4730525.tmpdir/ipykernel_351964/2080076220.py:19: FutureWarning: iteritems is deprecated and will be removed in a future version. Use .items instead.\n",
      "  for item in df.iteritems():\n",
      "/scratch/lsftmp/4730525.tmpdir/ipykernel_351964/2080076220.py:19: FutureWarning: iteritems is deprecated and will be removed in a future version. Use .items instead.\n",
      "  for item in df.iteritems():\n",
      "/scratch/lsftmp/4730525.tmpdir/ipykernel_351964/2080076220.py:19: FutureWarning: iteritems is deprecated and will be removed in a future version. Use .items instead.\n",
      "  for item in df.iteritems():\n",
      "/scratch/lsftmp/4730525.tmpdir/ipykernel_351964/2080076220.py:19: FutureWarning: iteritems is deprecated and will be removed in a future version. Use .items instead.\n",
      "  for item in df.iteritems():\n",
      "/scratch/lsftmp/4730525.tmpdir/ipykernel_351964/2080076220.py:19: FutureWarning: iteritems is deprecated and will be removed in a future version. Use .items instead.\n",
      "  for item in df.iteritems():\n",
      "/scratch/lsftmp/4730525.tmpdir/ipykernel_351964/2080076220.py:19: FutureWarning: iteritems is deprecated and will be removed in a future version. Use .items instead.\n",
      "  for item in df.iteritems():\n",
      "/scratch/lsftmp/4730525.tmpdir/ipykernel_351964/2080076220.py:19: FutureWarning: iteritems is deprecated and will be removed in a future version. Use .items instead.\n",
      "  for item in df.iteritems():\n",
      "/scratch/lsftmp/4730525.tmpdir/ipykernel_351964/2080076220.py:19: FutureWarning: iteritems is deprecated and will be removed in a future version. Use .items instead.\n",
      "  for item in df.iteritems():\n",
      "/scratch/lsftmp/4730525.tmpdir/ipykernel_351964/2080076220.py:19: FutureWarning: iteritems is deprecated and will be removed in a future version. Use .items instead.\n",
      "  for item in df.iteritems():\n",
      "/scratch/lsftmp/4730525.tmpdir/ipykernel_351964/2080076220.py:19: FutureWarning: iteritems is deprecated and will be removed in a future version. Use .items instead.\n",
      "  for item in df.iteritems():\n",
      "/scratch/lsftmp/4730525.tmpdir/ipykernel_351964/2080076220.py:19: FutureWarning: iteritems is deprecated and will be removed in a future version. Use .items instead.\n",
      "  for item in df.iteritems():\n",
      "/scratch/lsftmp/4730525.tmpdir/ipykernel_351964/2080076220.py:19: FutureWarning: iteritems is deprecated and will be removed in a future version. Use .items instead.\n",
      "  for item in df.iteritems():\n",
      "/scratch/lsftmp/4730525.tmpdir/ipykernel_351964/2080076220.py:19: FutureWarning: iteritems is deprecated and will be removed in a future version. Use .items instead.\n",
      "  for item in df.iteritems():\n",
      "/scratch/lsftmp/4730525.tmpdir/ipykernel_351964/2080076220.py:19: FutureWarning: iteritems is deprecated and will be removed in a future version. Use .items instead.\n",
      "  for item in df.iteritems():\n",
      "/scratch/lsftmp/4730525.tmpdir/ipykernel_351964/2080076220.py:19: FutureWarning: iteritems is deprecated and will be removed in a future version. Use .items instead.\n",
      "  for item in df.iteritems():\n",
      "/scratch/lsftmp/4730525.tmpdir/ipykernel_351964/2080076220.py:19: FutureWarning: iteritems is deprecated and will be removed in a future version. Use .items instead.\n",
      "  for item in df.iteritems():\n",
      "/scratch/lsftmp/4730525.tmpdir/ipykernel_351964/2080076220.py:19: FutureWarning: iteritems is deprecated and will be removed in a future version. Use .items instead.\n",
      "  for item in df.iteritems():\n",
      "/scratch/lsftmp/4730525.tmpdir/ipykernel_351964/2080076220.py:19: FutureWarning: iteritems is deprecated and will be removed in a future version. Use .items instead.\n",
      "  for item in df.iteritems():\n",
      "/scratch/lsftmp/4730525.tmpdir/ipykernel_351964/2080076220.py:19: FutureWarning: iteritems is deprecated and will be removed in a future version. Use .items instead.\n",
      "  for item in df.iteritems():\n",
      "/scratch/lsftmp/4730525.tmpdir/ipykernel_351964/2080076220.py:19: FutureWarning: iteritems is deprecated and will be removed in a future version. Use .items instead.\n",
      "  for item in df.iteritems():\n",
      "/scratch/lsftmp/4730525.tmpdir/ipykernel_351964/2080076220.py:19: FutureWarning: iteritems is deprecated and will be removed in a future version. Use .items instead.\n",
      "  for item in df.iteritems():\n",
      "/scratch/lsftmp/4730525.tmpdir/ipykernel_351964/2080076220.py:19: FutureWarning: iteritems is deprecated and will be removed in a future version. Use .items instead.\n",
      "  for item in df.iteritems():\n",
      "/scratch/lsftmp/4730525.tmpdir/ipykernel_351964/2080076220.py:19: FutureWarning: iteritems is deprecated and will be removed in a future version. Use .items instead.\n",
      "  for item in df.iteritems():\n",
      "/scratch/lsftmp/4730525.tmpdir/ipykernel_351964/2080076220.py:19: FutureWarning: iteritems is deprecated and will be removed in a future version. Use .items instead.\n",
      "  for item in df.iteritems():\n",
      "/scratch/lsftmp/4730525.tmpdir/ipykernel_351964/2080076220.py:19: FutureWarning: iteritems is deprecated and will be removed in a future version. Use .items instead.\n",
      "  for item in df.iteritems():\n",
      "/scratch/lsftmp/4730525.tmpdir/ipykernel_351964/2080076220.py:19: FutureWarning: iteritems is deprecated and will be removed in a future version. Use .items instead.\n",
      "  for item in df.iteritems():\n",
      "/scratch/lsftmp/4730525.tmpdir/ipykernel_351964/2080076220.py:19: FutureWarning: iteritems is deprecated and will be removed in a future version. Use .items instead.\n",
      "  for item in df.iteritems():\n",
      "/scratch/lsftmp/4730525.tmpdir/ipykernel_351964/2080076220.py:19: FutureWarning: iteritems is deprecated and will be removed in a future version. Use .items instead.\n",
      "  for item in df.iteritems():\n",
      "/scratch/lsftmp/4730525.tmpdir/ipykernel_351964/2080076220.py:19: FutureWarning: iteritems is deprecated and will be removed in a future version. Use .items instead.\n",
      "  for item in df.iteritems():\n",
      "/scratch/lsftmp/4730525.tmpdir/ipykernel_351964/2080076220.py:19: FutureWarning: iteritems is deprecated and will be removed in a future version. Use .items instead.\n",
      "  for item in df.iteritems():\n",
      "/scratch/lsftmp/4730525.tmpdir/ipykernel_351964/2080076220.py:19: FutureWarning: iteritems is deprecated and will be removed in a future version. Use .items instead.\n",
      "  for item in df.iteritems():\n",
      "/scratch/lsftmp/4730525.tmpdir/ipykernel_351964/2080076220.py:19: FutureWarning: iteritems is deprecated and will be removed in a future version. Use .items instead.\n",
      "  for item in df.iteritems():\n",
      "/scratch/lsftmp/4730525.tmpdir/ipykernel_351964/2080076220.py:19: FutureWarning: iteritems is deprecated and will be removed in a future version. Use .items instead.\n",
      "  for item in df.iteritems():\n",
      "/scratch/lsftmp/4730525.tmpdir/ipykernel_351964/2080076220.py:19: FutureWarning: iteritems is deprecated and will be removed in a future version. Use .items instead.\n",
      "  for item in df.iteritems():\n",
      "/scratch/lsftmp/4730525.tmpdir/ipykernel_351964/2080076220.py:19: FutureWarning: iteritems is deprecated and will be removed in a future version. Use .items instead.\n",
      "  for item in df.iteritems():\n",
      "/scratch/lsftmp/4730525.tmpdir/ipykernel_351964/2080076220.py:19: FutureWarning: iteritems is deprecated and will be removed in a future version. Use .items instead.\n",
      "  for item in df.iteritems():\n",
      "/scratch/lsftmp/4730525.tmpdir/ipykernel_351964/2080076220.py:19: FutureWarning: iteritems is deprecated and will be removed in a future version. Use .items instead.\n",
      "  for item in df.iteritems():\n",
      "/scratch/lsftmp/4730525.tmpdir/ipykernel_351964/2080076220.py:19: FutureWarning: iteritems is deprecated and will be removed in a future version. Use .items instead.\n",
      "  for item in df.iteritems():\n",
      "/scratch/lsftmp/4730525.tmpdir/ipykernel_351964/2080076220.py:19: FutureWarning: iteritems is deprecated and will be removed in a future version. Use .items instead.\n",
      "  for item in df.iteritems():\n",
      "/scratch/lsftmp/4730525.tmpdir/ipykernel_351964/2080076220.py:19: FutureWarning: iteritems is deprecated and will be removed in a future version. Use .items instead.\n",
      "  for item in df.iteritems():\n",
      "/scratch/lsftmp/4730525.tmpdir/ipykernel_351964/2080076220.py:19: FutureWarning: iteritems is deprecated and will be removed in a future version. Use .items instead.\n",
      "  for item in df.iteritems():\n",
      "/scratch/lsftmp/4730525.tmpdir/ipykernel_351964/2080076220.py:19: FutureWarning: iteritems is deprecated and will be removed in a future version. Use .items instead.\n",
      "  for item in df.iteritems():\n",
      "/scratch/lsftmp/4730525.tmpdir/ipykernel_351964/2080076220.py:19: FutureWarning: iteritems is deprecated and will be removed in a future version. Use .items instead.\n",
      "  for item in df.iteritems():\n",
      "/scratch/lsftmp/4730525.tmpdir/ipykernel_351964/2080076220.py:19: FutureWarning: iteritems is deprecated and will be removed in a future version. Use .items instead.\n",
      "  for item in df.iteritems():\n",
      "/scratch/lsftmp/4730525.tmpdir/ipykernel_351964/2080076220.py:19: FutureWarning: iteritems is deprecated and will be removed in a future version. Use .items instead.\n",
      "  for item in df.iteritems():\n",
      "/scratch/lsftmp/4730525.tmpdir/ipykernel_351964/2080076220.py:19: FutureWarning: iteritems is deprecated and will be removed in a future version. Use .items instead.\n",
      "  for item in df.iteritems():\n",
      "/scratch/lsftmp/4730525.tmpdir/ipykernel_351964/2080076220.py:19: FutureWarning: iteritems is deprecated and will be removed in a future version. Use .items instead.\n",
      "  for item in df.iteritems():\n",
      "/scratch/lsftmp/4730525.tmpdir/ipykernel_351964/2080076220.py:19: FutureWarning: iteritems is deprecated and will be removed in a future version. Use .items instead.\n",
      "  for item in df.iteritems():\n",
      "/scratch/lsftmp/4730525.tmpdir/ipykernel_351964/2080076220.py:19: FutureWarning: iteritems is deprecated and will be removed in a future version. Use .items instead.\n",
      "  for item in df.iteritems():\n",
      "/scratch/lsftmp/4730525.tmpdir/ipykernel_351964/2080076220.py:19: FutureWarning: iteritems is deprecated and will be removed in a future version. Use .items instead.\n",
      "  for item in df.iteritems():\n",
      "/scratch/lsftmp/4730525.tmpdir/ipykernel_351964/2080076220.py:19: FutureWarning: iteritems is deprecated and will be removed in a future version. Use .items instead.\n",
      "  for item in df.iteritems():\n",
      "/scratch/lsftmp/4730525.tmpdir/ipykernel_351964/2080076220.py:19: FutureWarning: iteritems is deprecated and will be removed in a future version. Use .items instead.\n",
      "  for item in df.iteritems():\n",
      "/scratch/lsftmp/4730525.tmpdir/ipykernel_351964/2080076220.py:19: FutureWarning: iteritems is deprecated and will be removed in a future version. Use .items instead.\n",
      "  for item in df.iteritems():\n",
      "/scratch/lsftmp/4730525.tmpdir/ipykernel_351964/2080076220.py:19: FutureWarning: iteritems is deprecated and will be removed in a future version. Use .items instead.\n",
      "  for item in df.iteritems():\n",
      "/scratch/lsftmp/4730525.tmpdir/ipykernel_351964/2080076220.py:19: FutureWarning: iteritems is deprecated and will be removed in a future version. Use .items instead.\n",
      "  for item in df.iteritems():\n",
      "/scratch/lsftmp/4730525.tmpdir/ipykernel_351964/2080076220.py:19: FutureWarning: iteritems is deprecated and will be removed in a future version. Use .items instead.\n",
      "  for item in df.iteritems():\n",
      "/scratch/lsftmp/4730525.tmpdir/ipykernel_351964/2080076220.py:19: FutureWarning: iteritems is deprecated and will be removed in a future version. Use .items instead.\n",
      "  for item in df.iteritems():\n",
      "/scratch/lsftmp/4730525.tmpdir/ipykernel_351964/2080076220.py:19: FutureWarning: iteritems is deprecated and will be removed in a future version. Use .items instead.\n",
      "  for item in df.iteritems():\n",
      "/scratch/lsftmp/4730525.tmpdir/ipykernel_351964/2080076220.py:19: FutureWarning: iteritems is deprecated and will be removed in a future version. Use .items instead.\n",
      "  for item in df.iteritems():\n",
      "/scratch/lsftmp/4730525.tmpdir/ipykernel_351964/2080076220.py:19: FutureWarning: iteritems is deprecated and will be removed in a future version. Use .items instead.\n",
      "  for item in df.iteritems():\n",
      "/scratch/lsftmp/4730525.tmpdir/ipykernel_351964/2080076220.py:19: FutureWarning: iteritems is deprecated and will be removed in a future version. Use .items instead.\n",
      "  for item in df.iteritems():\n",
      "/scratch/lsftmp/4730525.tmpdir/ipykernel_351964/2080076220.py:19: FutureWarning: iteritems is deprecated and will be removed in a future version. Use .items instead.\n",
      "  for item in df.iteritems():\n",
      "/scratch/lsftmp/4730525.tmpdir/ipykernel_351964/2080076220.py:19: FutureWarning: iteritems is deprecated and will be removed in a future version. Use .items instead.\n",
      "  for item in df.iteritems():\n",
      "/scratch/lsftmp/4730525.tmpdir/ipykernel_351964/2080076220.py:19: FutureWarning: iteritems is deprecated and will be removed in a future version. Use .items instead.\n",
      "  for item in df.iteritems():\n",
      "/scratch/lsftmp/4730525.tmpdir/ipykernel_351964/2080076220.py:19: FutureWarning: iteritems is deprecated and will be removed in a future version. Use .items instead.\n",
      "  for item in df.iteritems():\n",
      "/scratch/lsftmp/4730525.tmpdir/ipykernel_351964/2080076220.py:19: FutureWarning: iteritems is deprecated and will be removed in a future version. Use .items instead.\n",
      "  for item in df.iteritems():\n",
      "/scratch/lsftmp/4730525.tmpdir/ipykernel_351964/2080076220.py:19: FutureWarning: iteritems is deprecated and will be removed in a future version. Use .items instead.\n",
      "  for item in df.iteritems():\n",
      "/scratch/lsftmp/4730525.tmpdir/ipykernel_351964/2080076220.py:19: FutureWarning: iteritems is deprecated and will be removed in a future version. Use .items instead.\n",
      "  for item in df.iteritems():\n",
      "/scratch/lsftmp/4730525.tmpdir/ipykernel_351964/2080076220.py:19: FutureWarning: iteritems is deprecated and will be removed in a future version. Use .items instead.\n",
      "  for item in df.iteritems():\n",
      "/scratch/lsftmp/4730525.tmpdir/ipykernel_351964/2080076220.py:19: FutureWarning: iteritems is deprecated and will be removed in a future version. Use .items instead.\n",
      "  for item in df.iteritems():\n",
      "/scratch/lsftmp/4730525.tmpdir/ipykernel_351964/2080076220.py:19: FutureWarning: iteritems is deprecated and will be removed in a future version. Use .items instead.\n",
      "  for item in df.iteritems():\n",
      "/scratch/lsftmp/4730525.tmpdir/ipykernel_351964/2080076220.py:19: FutureWarning: iteritems is deprecated and will be removed in a future version. Use .items instead.\n",
      "  for item in df.iteritems():\n",
      "/scratch/lsftmp/4730525.tmpdir/ipykernel_351964/2080076220.py:19: FutureWarning: iteritems is deprecated and will be removed in a future version. Use .items instead.\n",
      "  for item in df.iteritems():\n",
      "/scratch/lsftmp/4730525.tmpdir/ipykernel_351964/2080076220.py:19: FutureWarning: iteritems is deprecated and will be removed in a future version. Use .items instead.\n",
      "  for item in df.iteritems():\n",
      "/scratch/lsftmp/4730525.tmpdir/ipykernel_351964/2080076220.py:19: FutureWarning: iteritems is deprecated and will be removed in a future version. Use .items instead.\n",
      "  for item in df.iteritems():\n",
      "/scratch/lsftmp/4730525.tmpdir/ipykernel_351964/2080076220.py:19: FutureWarning: iteritems is deprecated and will be removed in a future version. Use .items instead.\n",
      "  for item in df.iteritems():\n",
      "/scratch/lsftmp/4730525.tmpdir/ipykernel_351964/2080076220.py:19: FutureWarning: iteritems is deprecated and will be removed in a future version. Use .items instead.\n",
      "  for item in df.iteritems():\n",
      "/scratch/lsftmp/4730525.tmpdir/ipykernel_351964/2080076220.py:19: FutureWarning: iteritems is deprecated and will be removed in a future version. Use .items instead.\n",
      "  for item in df.iteritems():\n",
      "/scratch/lsftmp/4730525.tmpdir/ipykernel_351964/2080076220.py:19: FutureWarning: iteritems is deprecated and will be removed in a future version. Use .items instead.\n",
      "  for item in df.iteritems():\n",
      "/scratch/lsftmp/4730525.tmpdir/ipykernel_351964/2080076220.py:19: FutureWarning: iteritems is deprecated and will be removed in a future version. Use .items instead.\n",
      "  for item in df.iteritems():\n",
      "/scratch/lsftmp/4730525.tmpdir/ipykernel_351964/2080076220.py:19: FutureWarning: iteritems is deprecated and will be removed in a future version. Use .items instead.\n",
      "  for item in df.iteritems():\n",
      "/scratch/lsftmp/4730525.tmpdir/ipykernel_351964/2080076220.py:19: FutureWarning: iteritems is deprecated and will be removed in a future version. Use .items instead.\n",
      "  for item in df.iteritems():\n",
      "/scratch/lsftmp/4730525.tmpdir/ipykernel_351964/2080076220.py:19: FutureWarning: iteritems is deprecated and will be removed in a future version. Use .items instead.\n",
      "  for item in df.iteritems():\n",
      "/scratch/lsftmp/4730525.tmpdir/ipykernel_351964/2080076220.py:19: FutureWarning: iteritems is deprecated and will be removed in a future version. Use .items instead.\n",
      "  for item in df.iteritems():\n",
      "/scratch/lsftmp/4730525.tmpdir/ipykernel_351964/2080076220.py:19: FutureWarning: iteritems is deprecated and will be removed in a future version. Use .items instead.\n",
      "  for item in df.iteritems():\n",
      "/scratch/lsftmp/4730525.tmpdir/ipykernel_351964/2080076220.py:19: FutureWarning: iteritems is deprecated and will be removed in a future version. Use .items instead.\n",
      "  for item in df.iteritems():\n",
      "/scratch/lsftmp/4730525.tmpdir/ipykernel_351964/2080076220.py:19: FutureWarning: iteritems is deprecated and will be removed in a future version. Use .items instead.\n",
      "  for item in df.iteritems():\n",
      "/scratch/lsftmp/4730525.tmpdir/ipykernel_351964/2080076220.py:19: FutureWarning: iteritems is deprecated and will be removed in a future version. Use .items instead.\n",
      "  for item in df.iteritems():\n",
      "/scratch/lsftmp/4730525.tmpdir/ipykernel_351964/2080076220.py:19: FutureWarning: iteritems is deprecated and will be removed in a future version. Use .items instead.\n",
      "  for item in df.iteritems():\n",
      "/scratch/lsftmp/4730525.tmpdir/ipykernel_351964/2080076220.py:19: FutureWarning: iteritems is deprecated and will be removed in a future version. Use .items instead.\n",
      "  for item in df.iteritems():\n",
      "/scratch/lsftmp/4730525.tmpdir/ipykernel_351964/2080076220.py:19: FutureWarning: iteritems is deprecated and will be removed in a future version. Use .items instead.\n",
      "  for item in df.iteritems():\n",
      "/scratch/lsftmp/4730525.tmpdir/ipykernel_351964/2080076220.py:19: FutureWarning: iteritems is deprecated and will be removed in a future version. Use .items instead.\n",
      "  for item in df.iteritems():\n",
      "/scratch/lsftmp/4730525.tmpdir/ipykernel_351964/2080076220.py:19: FutureWarning: iteritems is deprecated and will be removed in a future version. Use .items instead.\n",
      "  for item in df.iteritems():\n",
      "/scratch/lsftmp/4730525.tmpdir/ipykernel_351964/2080076220.py:19: FutureWarning: iteritems is deprecated and will be removed in a future version. Use .items instead.\n",
      "  for item in df.iteritems():\n",
      "/scratch/lsftmp/4730525.tmpdir/ipykernel_351964/2080076220.py:19: FutureWarning: iteritems is deprecated and will be removed in a future version. Use .items instead.\n",
      "  for item in df.iteritems():\n",
      "/scratch/lsftmp/4730525.tmpdir/ipykernel_351964/2080076220.py:19: FutureWarning: iteritems is deprecated and will be removed in a future version. Use .items instead.\n",
      "  for item in df.iteritems():\n",
      "/scratch/lsftmp/4730525.tmpdir/ipykernel_351964/2080076220.py:19: FutureWarning: iteritems is deprecated and will be removed in a future version. Use .items instead.\n",
      "  for item in df.iteritems():\n",
      "/scratch/lsftmp/4730525.tmpdir/ipykernel_351964/2080076220.py:19: FutureWarning: iteritems is deprecated and will be removed in a future version. Use .items instead.\n",
      "  for item in df.iteritems():\n",
      "/scratch/lsftmp/4730525.tmpdir/ipykernel_351964/2080076220.py:19: FutureWarning: iteritems is deprecated and will be removed in a future version. Use .items instead.\n",
      "  for item in df.iteritems():\n",
      "/scratch/lsftmp/4730525.tmpdir/ipykernel_351964/2080076220.py:19: FutureWarning: iteritems is deprecated and will be removed in a future version. Use .items instead.\n",
      "  for item in df.iteritems():\n",
      "/scratch/lsftmp/4730525.tmpdir/ipykernel_351964/2080076220.py:19: FutureWarning: iteritems is deprecated and will be removed in a future version. Use .items instead.\n",
      "  for item in df.iteritems():\n",
      "/scratch/lsftmp/4730525.tmpdir/ipykernel_351964/2080076220.py:19: FutureWarning: iteritems is deprecated and will be removed in a future version. Use .items instead.\n",
      "  for item in df.iteritems():\n",
      "/scratch/lsftmp/4730525.tmpdir/ipykernel_351964/2080076220.py:19: FutureWarning: iteritems is deprecated and will be removed in a future version. Use .items instead.\n",
      "  for item in df.iteritems():\n",
      "/scratch/lsftmp/4730525.tmpdir/ipykernel_351964/2080076220.py:19: FutureWarning: iteritems is deprecated and will be removed in a future version. Use .items instead.\n",
      "  for item in df.iteritems():\n",
      "/scratch/lsftmp/4730525.tmpdir/ipykernel_351964/2080076220.py:19: FutureWarning: iteritems is deprecated and will be removed in a future version. Use .items instead.\n",
      "  for item in df.iteritems():\n",
      "/scratch/lsftmp/4730525.tmpdir/ipykernel_351964/2080076220.py:19: FutureWarning: iteritems is deprecated and will be removed in a future version. Use .items instead.\n",
      "  for item in df.iteritems():\n",
      "/scratch/lsftmp/4730525.tmpdir/ipykernel_351964/2080076220.py:19: FutureWarning: iteritems is deprecated and will be removed in a future version. Use .items instead.\n",
      "  for item in df.iteritems():\n",
      "/scratch/lsftmp/4730525.tmpdir/ipykernel_351964/2080076220.py:19: FutureWarning: iteritems is deprecated and will be removed in a future version. Use .items instead.\n",
      "  for item in df.iteritems():\n",
      "/scratch/lsftmp/4730525.tmpdir/ipykernel_351964/2080076220.py:19: FutureWarning: iteritems is deprecated and will be removed in a future version. Use .items instead.\n",
      "  for item in df.iteritems():\n",
      "/scratch/lsftmp/4730525.tmpdir/ipykernel_351964/2080076220.py:19: FutureWarning: iteritems is deprecated and will be removed in a future version. Use .items instead.\n",
      "  for item in df.iteritems():\n",
      "/scratch/lsftmp/4730525.tmpdir/ipykernel_351964/2080076220.py:19: FutureWarning: iteritems is deprecated and will be removed in a future version. Use .items instead.\n",
      "  for item in df.iteritems():\n",
      "/scratch/lsftmp/4730525.tmpdir/ipykernel_351964/2080076220.py:19: FutureWarning: iteritems is deprecated and will be removed in a future version. Use .items instead.\n",
      "  for item in df.iteritems():\n",
      "/scratch/lsftmp/4730525.tmpdir/ipykernel_351964/2080076220.py:19: FutureWarning: iteritems is deprecated and will be removed in a future version. Use .items instead.\n",
      "  for item in df.iteritems():\n",
      "/scratch/lsftmp/4730525.tmpdir/ipykernel_351964/2080076220.py:19: FutureWarning: iteritems is deprecated and will be removed in a future version. Use .items instead.\n",
      "  for item in df.iteritems():\n",
      "/scratch/lsftmp/4730525.tmpdir/ipykernel_351964/2080076220.py:19: FutureWarning: iteritems is deprecated and will be removed in a future version. Use .items instead.\n",
      "  for item in df.iteritems():\n",
      "/scratch/lsftmp/4730525.tmpdir/ipykernel_351964/2080076220.py:19: FutureWarning: iteritems is deprecated and will be removed in a future version. Use .items instead.\n",
      "  for item in df.iteritems():\n",
      "/scratch/lsftmp/4730525.tmpdir/ipykernel_351964/2080076220.py:19: FutureWarning: iteritems is deprecated and will be removed in a future version. Use .items instead.\n",
      "  for item in df.iteritems():\n",
      "/scratch/lsftmp/4730525.tmpdir/ipykernel_351964/2080076220.py:19: FutureWarning: iteritems is deprecated and will be removed in a future version. Use .items instead.\n",
      "  for item in df.iteritems():\n",
      "/scratch/lsftmp/4730525.tmpdir/ipykernel_351964/2080076220.py:19: FutureWarning: iteritems is deprecated and will be removed in a future version. Use .items instead.\n",
      "  for item in df.iteritems():\n",
      "/scratch/lsftmp/4730525.tmpdir/ipykernel_351964/2080076220.py:19: FutureWarning: iteritems is deprecated and will be removed in a future version. Use .items instead.\n",
      "  for item in df.iteritems():\n",
      "/scratch/lsftmp/4730525.tmpdir/ipykernel_351964/2080076220.py:19: FutureWarning: iteritems is deprecated and will be removed in a future version. Use .items instead.\n",
      "  for item in df.iteritems():\n",
      "/scratch/lsftmp/4730525.tmpdir/ipykernel_351964/2080076220.py:19: FutureWarning: iteritems is deprecated and will be removed in a future version. Use .items instead.\n",
      "  for item in df.iteritems():\n",
      "/scratch/lsftmp/4730525.tmpdir/ipykernel_351964/2080076220.py:19: FutureWarning: iteritems is deprecated and will be removed in a future version. Use .items instead.\n",
      "  for item in df.iteritems():\n",
      "/scratch/lsftmp/4730525.tmpdir/ipykernel_351964/2080076220.py:19: FutureWarning: iteritems is deprecated and will be removed in a future version. Use .items instead.\n",
      "  for item in df.iteritems():\n",
      "/scratch/lsftmp/4730525.tmpdir/ipykernel_351964/2080076220.py:19: FutureWarning: iteritems is deprecated and will be removed in a future version. Use .items instead.\n",
      "  for item in df.iteritems():\n",
      "/scratch/lsftmp/4730525.tmpdir/ipykernel_351964/2080076220.py:19: FutureWarning: iteritems is deprecated and will be removed in a future version. Use .items instead.\n",
      "  for item in df.iteritems():\n",
      "/scratch/lsftmp/4730525.tmpdir/ipykernel_351964/2080076220.py:19: FutureWarning: iteritems is deprecated and will be removed in a future version. Use .items instead.\n",
      "  for item in df.iteritems():\n",
      "/scratch/lsftmp/4730525.tmpdir/ipykernel_351964/2080076220.py:19: FutureWarning: iteritems is deprecated and will be removed in a future version. Use .items instead.\n",
      "  for item in df.iteritems():\n",
      "/scratch/lsftmp/4730525.tmpdir/ipykernel_351964/2080076220.py:19: FutureWarning: iteritems is deprecated and will be removed in a future version. Use .items instead.\n",
      "  for item in df.iteritems():\n",
      "/scratch/lsftmp/4730525.tmpdir/ipykernel_351964/2080076220.py:19: FutureWarning: iteritems is deprecated and will be removed in a future version. Use .items instead.\n",
      "  for item in df.iteritems():\n",
      "/scratch/lsftmp/4730525.tmpdir/ipykernel_351964/2080076220.py:19: FutureWarning: iteritems is deprecated and will be removed in a future version. Use .items instead.\n",
      "  for item in df.iteritems():\n",
      "/scratch/lsftmp/4730525.tmpdir/ipykernel_351964/2080076220.py:19: FutureWarning: iteritems is deprecated and will be removed in a future version. Use .items instead.\n",
      "  for item in df.iteritems():\n",
      "/scratch/lsftmp/4730525.tmpdir/ipykernel_351964/2080076220.py:19: FutureWarning: iteritems is deprecated and will be removed in a future version. Use .items instead.\n",
      "  for item in df.iteritems():\n",
      "/scratch/lsftmp/4730525.tmpdir/ipykernel_351964/2080076220.py:19: FutureWarning: iteritems is deprecated and will be removed in a future version. Use .items instead.\n",
      "  for item in df.iteritems():\n",
      "/scratch/lsftmp/4730525.tmpdir/ipykernel_351964/2080076220.py:19: FutureWarning: iteritems is deprecated and will be removed in a future version. Use .items instead.\n",
      "  for item in df.iteritems():\n",
      "/scratch/lsftmp/4730525.tmpdir/ipykernel_351964/2080076220.py:19: FutureWarning: iteritems is deprecated and will be removed in a future version. Use .items instead.\n",
      "  for item in df.iteritems():\n",
      "/scratch/lsftmp/4730525.tmpdir/ipykernel_351964/2080076220.py:19: FutureWarning: iteritems is deprecated and will be removed in a future version. Use .items instead.\n",
      "  for item in df.iteritems():\n",
      "/scratch/lsftmp/4730525.tmpdir/ipykernel_351964/2080076220.py:19: FutureWarning: iteritems is deprecated and will be removed in a future version. Use .items instead.\n",
      "  for item in df.iteritems():\n",
      "/scratch/lsftmp/4730525.tmpdir/ipykernel_351964/2080076220.py:19: FutureWarning: iteritems is deprecated and will be removed in a future version. Use .items instead.\n",
      "  for item in df.iteritems():\n",
      "/scratch/lsftmp/4730525.tmpdir/ipykernel_351964/2080076220.py:19: FutureWarning: iteritems is deprecated and will be removed in a future version. Use .items instead.\n",
      "  for item in df.iteritems():\n",
      "/scratch/lsftmp/4730525.tmpdir/ipykernel_351964/2080076220.py:19: FutureWarning: iteritems is deprecated and will be removed in a future version. Use .items instead.\n",
      "  for item in df.iteritems():\n",
      "/scratch/lsftmp/4730525.tmpdir/ipykernel_351964/2080076220.py:19: FutureWarning: iteritems is deprecated and will be removed in a future version. Use .items instead.\n",
      "  for item in df.iteritems():\n",
      "/scratch/lsftmp/4730525.tmpdir/ipykernel_351964/2080076220.py:19: FutureWarning: iteritems is deprecated and will be removed in a future version. Use .items instead.\n",
      "  for item in df.iteritems():\n",
      "/scratch/lsftmp/4730525.tmpdir/ipykernel_351964/2080076220.py:19: FutureWarning: iteritems is deprecated and will be removed in a future version. Use .items instead.\n",
      "  for item in df.iteritems():\n",
      "/scratch/lsftmp/4730525.tmpdir/ipykernel_351964/2080076220.py:19: FutureWarning: iteritems is deprecated and will be removed in a future version. Use .items instead.\n",
      "  for item in df.iteritems():\n",
      "/scratch/lsftmp/4730525.tmpdir/ipykernel_351964/2080076220.py:19: FutureWarning: iteritems is deprecated and will be removed in a future version. Use .items instead.\n",
      "  for item in df.iteritems():\n",
      "/scratch/lsftmp/4730525.tmpdir/ipykernel_351964/2080076220.py:19: FutureWarning: iteritems is deprecated and will be removed in a future version. Use .items instead.\n",
      "  for item in df.iteritems():\n",
      "/scratch/lsftmp/4730525.tmpdir/ipykernel_351964/2080076220.py:19: FutureWarning: iteritems is deprecated and will be removed in a future version. Use .items instead.\n",
      "  for item in df.iteritems():\n",
      "/scratch/lsftmp/4730525.tmpdir/ipykernel_351964/2080076220.py:19: FutureWarning: iteritems is deprecated and will be removed in a future version. Use .items instead.\n",
      "  for item in df.iteritems():\n",
      "/scratch/lsftmp/4730525.tmpdir/ipykernel_351964/2080076220.py:19: FutureWarning: iteritems is deprecated and will be removed in a future version. Use .items instead.\n",
      "  for item in df.iteritems():\n",
      "/scratch/lsftmp/4730525.tmpdir/ipykernel_351964/2080076220.py:19: FutureWarning: iteritems is deprecated and will be removed in a future version. Use .items instead.\n",
      "  for item in df.iteritems():\n",
      "/scratch/lsftmp/4730525.tmpdir/ipykernel_351964/2080076220.py:19: FutureWarning: iteritems is deprecated and will be removed in a future version. Use .items instead.\n",
      "  for item in df.iteritems():\n",
      "/scratch/lsftmp/4730525.tmpdir/ipykernel_351964/2080076220.py:19: FutureWarning: iteritems is deprecated and will be removed in a future version. Use .items instead.\n",
      "  for item in df.iteritems():\n",
      "/scratch/lsftmp/4730525.tmpdir/ipykernel_351964/2080076220.py:19: FutureWarning: iteritems is deprecated and will be removed in a future version. Use .items instead.\n",
      "  for item in df.iteritems():\n",
      "/scratch/lsftmp/4730525.tmpdir/ipykernel_351964/2080076220.py:19: FutureWarning: iteritems is deprecated and will be removed in a future version. Use .items instead.\n",
      "  for item in df.iteritems():\n",
      "/scratch/lsftmp/4730525.tmpdir/ipykernel_351964/2080076220.py:19: FutureWarning: iteritems is deprecated and will be removed in a future version. Use .items instead.\n",
      "  for item in df.iteritems():\n",
      "/scratch/lsftmp/4730525.tmpdir/ipykernel_351964/2080076220.py:19: FutureWarning: iteritems is deprecated and will be removed in a future version. Use .items instead.\n",
      "  for item in df.iteritems():\n",
      "/scratch/lsftmp/4730525.tmpdir/ipykernel_351964/2080076220.py:19: FutureWarning: iteritems is deprecated and will be removed in a future version. Use .items instead.\n",
      "  for item in df.iteritems():\n",
      "/scratch/lsftmp/4730525.tmpdir/ipykernel_351964/2080076220.py:19: FutureWarning: iteritems is deprecated and will be removed in a future version. Use .items instead.\n",
      "  for item in df.iteritems():\n",
      "/scratch/lsftmp/4730525.tmpdir/ipykernel_351964/2080076220.py:19: FutureWarning: iteritems is deprecated and will be removed in a future version. Use .items instead.\n",
      "  for item in df.iteritems():\n",
      "/scratch/lsftmp/4730525.tmpdir/ipykernel_351964/2080076220.py:19: FutureWarning: iteritems is deprecated and will be removed in a future version. Use .items instead.\n",
      "  for item in df.iteritems():\n",
      "/scratch/lsftmp/4730525.tmpdir/ipykernel_351964/2080076220.py:19: FutureWarning: iteritems is deprecated and will be removed in a future version. Use .items instead.\n",
      "  for item in df.iteritems():\n",
      "/scratch/lsftmp/4730525.tmpdir/ipykernel_351964/2080076220.py:19: FutureWarning: iteritems is deprecated and will be removed in a future version. Use .items instead.\n",
      "  for item in df.iteritems():\n",
      "/scratch/lsftmp/4730525.tmpdir/ipykernel_351964/2080076220.py:19: FutureWarning: iteritems is deprecated and will be removed in a future version. Use .items instead.\n",
      "  for item in df.iteritems():\n",
      "/scratch/lsftmp/4730525.tmpdir/ipykernel_351964/2080076220.py:19: FutureWarning: iteritems is deprecated and will be removed in a future version. Use .items instead.\n",
      "  for item in df.iteritems():\n",
      "/scratch/lsftmp/4730525.tmpdir/ipykernel_351964/2080076220.py:19: FutureWarning: iteritems is deprecated and will be removed in a future version. Use .items instead.\n",
      "  for item in df.iteritems():\n",
      "/scratch/lsftmp/4730525.tmpdir/ipykernel_351964/2080076220.py:19: FutureWarning: iteritems is deprecated and will be removed in a future version. Use .items instead.\n",
      "  for item in df.iteritems():\n",
      "/scratch/lsftmp/4730525.tmpdir/ipykernel_351964/2080076220.py:19: FutureWarning: iteritems is deprecated and will be removed in a future version. Use .items instead.\n",
      "  for item in df.iteritems():\n",
      "/scratch/lsftmp/4730525.tmpdir/ipykernel_351964/2080076220.py:19: FutureWarning: iteritems is deprecated and will be removed in a future version. Use .items instead.\n",
      "  for item in df.iteritems():\n",
      "/scratch/lsftmp/4730525.tmpdir/ipykernel_351964/2080076220.py:19: FutureWarning: iteritems is deprecated and will be removed in a future version. Use .items instead.\n",
      "  for item in df.iteritems():\n",
      "/scratch/lsftmp/4730525.tmpdir/ipykernel_351964/2080076220.py:19: FutureWarning: iteritems is deprecated and will be removed in a future version. Use .items instead.\n",
      "  for item in df.iteritems():\n",
      "/scratch/lsftmp/4730525.tmpdir/ipykernel_351964/2080076220.py:19: FutureWarning: iteritems is deprecated and will be removed in a future version. Use .items instead.\n",
      "  for item in df.iteritems():\n",
      "/scratch/lsftmp/4730525.tmpdir/ipykernel_351964/2080076220.py:19: FutureWarning: iteritems is deprecated and will be removed in a future version. Use .items instead.\n",
      "  for item in df.iteritems():\n",
      "/scratch/lsftmp/4730525.tmpdir/ipykernel_351964/2080076220.py:19: FutureWarning: iteritems is deprecated and will be removed in a future version. Use .items instead.\n",
      "  for item in df.iteritems():\n",
      "/scratch/lsftmp/4730525.tmpdir/ipykernel_351964/2080076220.py:19: FutureWarning: iteritems is deprecated and will be removed in a future version. Use .items instead.\n",
      "  for item in df.iteritems():\n",
      "/scratch/lsftmp/4730525.tmpdir/ipykernel_351964/2080076220.py:19: FutureWarning: iteritems is deprecated and will be removed in a future version. Use .items instead.\n",
      "  for item in df.iteritems():\n",
      "/scratch/lsftmp/4730525.tmpdir/ipykernel_351964/2080076220.py:19: FutureWarning: iteritems is deprecated and will be removed in a future version. Use .items instead.\n",
      "  for item in df.iteritems():\n",
      "/scratch/lsftmp/4730525.tmpdir/ipykernel_351964/2080076220.py:19: FutureWarning: iteritems is deprecated and will be removed in a future version. Use .items instead.\n",
      "  for item in df.iteritems():\n",
      "/scratch/lsftmp/4730525.tmpdir/ipykernel_351964/2080076220.py:19: FutureWarning: iteritems is deprecated and will be removed in a future version. Use .items instead.\n",
      "  for item in df.iteritems():\n",
      "/scratch/lsftmp/4730525.tmpdir/ipykernel_351964/2080076220.py:19: FutureWarning: iteritems is deprecated and will be removed in a future version. Use .items instead.\n",
      "  for item in df.iteritems():\n",
      "/scratch/lsftmp/4730525.tmpdir/ipykernel_351964/2080076220.py:19: FutureWarning: iteritems is deprecated and will be removed in a future version. Use .items instead.\n",
      "  for item in df.iteritems():\n",
      "/scratch/lsftmp/4730525.tmpdir/ipykernel_351964/2080076220.py:19: FutureWarning: iteritems is deprecated and will be removed in a future version. Use .items instead.\n",
      "  for item in df.iteritems():\n",
      "/scratch/lsftmp/4730525.tmpdir/ipykernel_351964/2080076220.py:19: FutureWarning: iteritems is deprecated and will be removed in a future version. Use .items instead.\n",
      "  for item in df.iteritems():\n",
      "/scratch/lsftmp/4730525.tmpdir/ipykernel_351964/2080076220.py:19: FutureWarning: iteritems is deprecated and will be removed in a future version. Use .items instead.\n",
      "  for item in df.iteritems():\n",
      "/scratch/lsftmp/4730525.tmpdir/ipykernel_351964/2080076220.py:19: FutureWarning: iteritems is deprecated and will be removed in a future version. Use .items instead.\n",
      "  for item in df.iteritems():\n",
      "/scratch/lsftmp/4730525.tmpdir/ipykernel_351964/2080076220.py:19: FutureWarning: iteritems is deprecated and will be removed in a future version. Use .items instead.\n",
      "  for item in df.iteritems():\n",
      "/scratch/lsftmp/4730525.tmpdir/ipykernel_351964/2080076220.py:19: FutureWarning: iteritems is deprecated and will be removed in a future version. Use .items instead.\n",
      "  for item in df.iteritems():\n",
      "/scratch/lsftmp/4730525.tmpdir/ipykernel_351964/2080076220.py:19: FutureWarning: iteritems is deprecated and will be removed in a future version. Use .items instead.\n",
      "  for item in df.iteritems():\n",
      "/scratch/lsftmp/4730525.tmpdir/ipykernel_351964/2080076220.py:19: FutureWarning: iteritems is deprecated and will be removed in a future version. Use .items instead.\n",
      "  for item in df.iteritems():\n",
      "/scratch/lsftmp/4730525.tmpdir/ipykernel_351964/2080076220.py:19: FutureWarning: iteritems is deprecated and will be removed in a future version. Use .items instead.\n",
      "  for item in df.iteritems():\n",
      "/scratch/lsftmp/4730525.tmpdir/ipykernel_351964/2080076220.py:19: FutureWarning: iteritems is deprecated and will be removed in a future version. Use .items instead.\n",
      "  for item in df.iteritems():\n",
      "/scratch/lsftmp/4730525.tmpdir/ipykernel_351964/2080076220.py:19: FutureWarning: iteritems is deprecated and will be removed in a future version. Use .items instead.\n",
      "  for item in df.iteritems():\n",
      "/scratch/lsftmp/4730525.tmpdir/ipykernel_351964/2080076220.py:19: FutureWarning: iteritems is deprecated and will be removed in a future version. Use .items instead.\n",
      "  for item in df.iteritems():\n",
      "/scratch/lsftmp/4730525.tmpdir/ipykernel_351964/2080076220.py:19: FutureWarning: iteritems is deprecated and will be removed in a future version. Use .items instead.\n",
      "  for item in df.iteritems():\n",
      "/scratch/lsftmp/4730525.tmpdir/ipykernel_351964/2080076220.py:19: FutureWarning: iteritems is deprecated and will be removed in a future version. Use .items instead.\n",
      "  for item in df.iteritems():\n",
      "/scratch/lsftmp/4730525.tmpdir/ipykernel_351964/2080076220.py:19: FutureWarning: iteritems is deprecated and will be removed in a future version. Use .items instead.\n",
      "  for item in df.iteritems():\n",
      "/scratch/lsftmp/4730525.tmpdir/ipykernel_351964/2080076220.py:19: FutureWarning: iteritems is deprecated and will be removed in a future version. Use .items instead.\n",
      "  for item in df.iteritems():\n",
      "/scratch/lsftmp/4730525.tmpdir/ipykernel_351964/2080076220.py:19: FutureWarning: iteritems is deprecated and will be removed in a future version. Use .items instead.\n",
      "  for item in df.iteritems():\n",
      "/scratch/lsftmp/4730525.tmpdir/ipykernel_351964/2080076220.py:19: FutureWarning: iteritems is deprecated and will be removed in a future version. Use .items instead.\n",
      "  for item in df.iteritems():\n",
      "/scratch/lsftmp/4730525.tmpdir/ipykernel_351964/2080076220.py:19: FutureWarning: iteritems is deprecated and will be removed in a future version. Use .items instead.\n",
      "  for item in df.iteritems():\n",
      "/scratch/lsftmp/4730525.tmpdir/ipykernel_351964/2080076220.py:19: FutureWarning: iteritems is deprecated and will be removed in a future version. Use .items instead.\n",
      "  for item in df.iteritems():\n",
      "/scratch/lsftmp/4730525.tmpdir/ipykernel_351964/2080076220.py:19: FutureWarning: iteritems is deprecated and will be removed in a future version. Use .items instead.\n",
      "  for item in df.iteritems():\n",
      "/scratch/lsftmp/4730525.tmpdir/ipykernel_351964/2080076220.py:19: FutureWarning: iteritems is deprecated and will be removed in a future version. Use .items instead.\n",
      "  for item in df.iteritems():\n",
      "/scratch/lsftmp/4730525.tmpdir/ipykernel_351964/2080076220.py:19: FutureWarning: iteritems is deprecated and will be removed in a future version. Use .items instead.\n",
      "  for item in df.iteritems():\n",
      "/scratch/lsftmp/4730525.tmpdir/ipykernel_351964/2080076220.py:19: FutureWarning: iteritems is deprecated and will be removed in a future version. Use .items instead.\n",
      "  for item in df.iteritems():\n",
      "/scratch/lsftmp/4730525.tmpdir/ipykernel_351964/2080076220.py:19: FutureWarning: iteritems is deprecated and will be removed in a future version. Use .items instead.\n",
      "  for item in df.iteritems():\n",
      "/scratch/lsftmp/4730525.tmpdir/ipykernel_351964/2080076220.py:19: FutureWarning: iteritems is deprecated and will be removed in a future version. Use .items instead.\n",
      "  for item in df.iteritems():\n",
      "/scratch/lsftmp/4730525.tmpdir/ipykernel_351964/2080076220.py:19: FutureWarning: iteritems is deprecated and will be removed in a future version. Use .items instead.\n",
      "  for item in df.iteritems():\n",
      "/scratch/lsftmp/4730525.tmpdir/ipykernel_351964/2080076220.py:19: FutureWarning: iteritems is deprecated and will be removed in a future version. Use .items instead.\n",
      "  for item in df.iteritems():\n",
      "/scratch/lsftmp/4730525.tmpdir/ipykernel_351964/2080076220.py:19: FutureWarning: iteritems is deprecated and will be removed in a future version. Use .items instead.\n",
      "  for item in df.iteritems():\n",
      "/scratch/lsftmp/4730525.tmpdir/ipykernel_351964/2080076220.py:19: FutureWarning: iteritems is deprecated and will be removed in a future version. Use .items instead.\n",
      "  for item in df.iteritems():\n",
      "/scratch/lsftmp/4730525.tmpdir/ipykernel_351964/2080076220.py:19: FutureWarning: iteritems is deprecated and will be removed in a future version. Use .items instead.\n",
      "  for item in df.iteritems():\n",
      "/scratch/lsftmp/4730525.tmpdir/ipykernel_351964/2080076220.py:19: FutureWarning: iteritems is deprecated and will be removed in a future version. Use .items instead.\n",
      "  for item in df.iteritems():\n",
      "/scratch/lsftmp/4730525.tmpdir/ipykernel_351964/2080076220.py:19: FutureWarning: iteritems is deprecated and will be removed in a future version. Use .items instead.\n",
      "  for item in df.iteritems():\n",
      "/scratch/lsftmp/4730525.tmpdir/ipykernel_351964/2080076220.py:19: FutureWarning: iteritems is deprecated and will be removed in a future version. Use .items instead.\n",
      "  for item in df.iteritems():\n",
      "/scratch/lsftmp/4730525.tmpdir/ipykernel_351964/2080076220.py:19: FutureWarning: iteritems is deprecated and will be removed in a future version. Use .items instead.\n",
      "  for item in df.iteritems():\n",
      "/scratch/lsftmp/4730525.tmpdir/ipykernel_351964/2080076220.py:19: FutureWarning: iteritems is deprecated and will be removed in a future version. Use .items instead.\n",
      "  for item in df.iteritems():\n",
      "/scratch/lsftmp/4730525.tmpdir/ipykernel_351964/2080076220.py:19: FutureWarning: iteritems is deprecated and will be removed in a future version. Use .items instead.\n",
      "  for item in df.iteritems():\n",
      "/scratch/lsftmp/4730525.tmpdir/ipykernel_351964/2080076220.py:19: FutureWarning: iteritems is deprecated and will be removed in a future version. Use .items instead.\n",
      "  for item in df.iteritems():\n",
      "/scratch/lsftmp/4730525.tmpdir/ipykernel_351964/2080076220.py:19: FutureWarning: iteritems is deprecated and will be removed in a future version. Use .items instead.\n",
      "  for item in df.iteritems():\n",
      "/scratch/lsftmp/4730525.tmpdir/ipykernel_351964/2080076220.py:19: FutureWarning: iteritems is deprecated and will be removed in a future version. Use .items instead.\n",
      "  for item in df.iteritems():\n",
      "/scratch/lsftmp/4730525.tmpdir/ipykernel_351964/2080076220.py:19: FutureWarning: iteritems is deprecated and will be removed in a future version. Use .items instead.\n",
      "  for item in df.iteritems():\n",
      "/scratch/lsftmp/4730525.tmpdir/ipykernel_351964/2080076220.py:19: FutureWarning: iteritems is deprecated and will be removed in a future version. Use .items instead.\n",
      "  for item in df.iteritems():\n",
      "/scratch/lsftmp/4730525.tmpdir/ipykernel_351964/2080076220.py:19: FutureWarning: iteritems is deprecated and will be removed in a future version. Use .items instead.\n",
      "  for item in df.iteritems():\n",
      "/scratch/lsftmp/4730525.tmpdir/ipykernel_351964/2080076220.py:19: FutureWarning: iteritems is deprecated and will be removed in a future version. Use .items instead.\n",
      "  for item in df.iteritems():\n",
      "/scratch/lsftmp/4730525.tmpdir/ipykernel_351964/2080076220.py:19: FutureWarning: iteritems is deprecated and will be removed in a future version. Use .items instead.\n",
      "  for item in df.iteritems():\n",
      "/scratch/lsftmp/4730525.tmpdir/ipykernel_351964/2080076220.py:19: FutureWarning: iteritems is deprecated and will be removed in a future version. Use .items instead.\n",
      "  for item in df.iteritems():\n",
      "/scratch/lsftmp/4730525.tmpdir/ipykernel_351964/2080076220.py:19: FutureWarning: iteritems is deprecated and will be removed in a future version. Use .items instead.\n",
      "  for item in df.iteritems():\n",
      "/scratch/lsftmp/4730525.tmpdir/ipykernel_351964/2080076220.py:19: FutureWarning: iteritems is deprecated and will be removed in a future version. Use .items instead.\n",
      "  for item in df.iteritems():\n",
      "/scratch/lsftmp/4730525.tmpdir/ipykernel_351964/2080076220.py:19: FutureWarning: iteritems is deprecated and will be removed in a future version. Use .items instead.\n",
      "  for item in df.iteritems():\n",
      "/scratch/lsftmp/4730525.tmpdir/ipykernel_351964/2080076220.py:19: FutureWarning: iteritems is deprecated and will be removed in a future version. Use .items instead.\n",
      "  for item in df.iteritems():\n",
      "/scratch/lsftmp/4730525.tmpdir/ipykernel_351964/2080076220.py:19: FutureWarning: iteritems is deprecated and will be removed in a future version. Use .items instead.\n",
      "  for item in df.iteritems():\n",
      "/scratch/lsftmp/4730525.tmpdir/ipykernel_351964/2080076220.py:19: FutureWarning: iteritems is deprecated and will be removed in a future version. Use .items instead.\n",
      "  for item in df.iteritems():\n",
      "/scratch/lsftmp/4730525.tmpdir/ipykernel_351964/2080076220.py:19: FutureWarning: iteritems is deprecated and will be removed in a future version. Use .items instead.\n",
      "  for item in df.iteritems():\n",
      "/scratch/lsftmp/4730525.tmpdir/ipykernel_351964/2080076220.py:19: FutureWarning: iteritems is deprecated and will be removed in a future version. Use .items instead.\n",
      "  for item in df.iteritems():\n",
      "/scratch/lsftmp/4730525.tmpdir/ipykernel_351964/2080076220.py:19: FutureWarning: iteritems is deprecated and will be removed in a future version. Use .items instead.\n",
      "  for item in df.iteritems():\n",
      "/scratch/lsftmp/4730525.tmpdir/ipykernel_351964/2080076220.py:19: FutureWarning: iteritems is deprecated and will be removed in a future version. Use .items instead.\n",
      "  for item in df.iteritems():\n",
      "/scratch/lsftmp/4730525.tmpdir/ipykernel_351964/2080076220.py:19: FutureWarning: iteritems is deprecated and will be removed in a future version. Use .items instead.\n",
      "  for item in df.iteritems():\n",
      "/scratch/lsftmp/4730525.tmpdir/ipykernel_351964/2080076220.py:19: FutureWarning: iteritems is deprecated and will be removed in a future version. Use .items instead.\n",
      "  for item in df.iteritems():\n",
      "/scratch/lsftmp/4730525.tmpdir/ipykernel_351964/2080076220.py:19: FutureWarning: iteritems is deprecated and will be removed in a future version. Use .items instead.\n",
      "  for item in df.iteritems():\n",
      "/scratch/lsftmp/4730525.tmpdir/ipykernel_351964/2080076220.py:19: FutureWarning: iteritems is deprecated and will be removed in a future version. Use .items instead.\n",
      "  for item in df.iteritems():\n",
      "/scratch/lsftmp/4730525.tmpdir/ipykernel_351964/2080076220.py:19: FutureWarning: iteritems is deprecated and will be removed in a future version. Use .items instead.\n",
      "  for item in df.iteritems():\n",
      "/scratch/lsftmp/4730525.tmpdir/ipykernel_351964/2080076220.py:19: FutureWarning: iteritems is deprecated and will be removed in a future version. Use .items instead.\n",
      "  for item in df.iteritems():\n",
      "/scratch/lsftmp/4730525.tmpdir/ipykernel_351964/2080076220.py:19: FutureWarning: iteritems is deprecated and will be removed in a future version. Use .items instead.\n",
      "  for item in df.iteritems():\n",
      "/scratch/lsftmp/4730525.tmpdir/ipykernel_351964/2080076220.py:19: FutureWarning: iteritems is deprecated and will be removed in a future version. Use .items instead.\n",
      "  for item in df.iteritems():\n",
      "/scratch/lsftmp/4730525.tmpdir/ipykernel_351964/2080076220.py:19: FutureWarning: iteritems is deprecated and will be removed in a future version. Use .items instead.\n",
      "  for item in df.iteritems():\n",
      "/scratch/lsftmp/4730525.tmpdir/ipykernel_351964/2080076220.py:19: FutureWarning: iteritems is deprecated and will be removed in a future version. Use .items instead.\n",
      "  for item in df.iteritems():\n",
      "/scratch/lsftmp/4730525.tmpdir/ipykernel_351964/2080076220.py:19: FutureWarning: iteritems is deprecated and will be removed in a future version. Use .items instead.\n",
      "  for item in df.iteritems():\n",
      "/scratch/lsftmp/4730525.tmpdir/ipykernel_351964/2080076220.py:19: FutureWarning: iteritems is deprecated and will be removed in a future version. Use .items instead.\n",
      "  for item in df.iteritems():\n",
      "/scratch/lsftmp/4730525.tmpdir/ipykernel_351964/2080076220.py:19: FutureWarning: iteritems is deprecated and will be removed in a future version. Use .items instead.\n",
      "  for item in df.iteritems():\n",
      "/scratch/lsftmp/4730525.tmpdir/ipykernel_351964/2080076220.py:19: FutureWarning: iteritems is deprecated and will be removed in a future version. Use .items instead.\n",
      "  for item in df.iteritems():\n",
      "/scratch/lsftmp/4730525.tmpdir/ipykernel_351964/2080076220.py:19: FutureWarning: iteritems is deprecated and will be removed in a future version. Use .items instead.\n",
      "  for item in df.iteritems():\n",
      "/scratch/lsftmp/4730525.tmpdir/ipykernel_351964/2080076220.py:19: FutureWarning: iteritems is deprecated and will be removed in a future version. Use .items instead.\n",
      "  for item in df.iteritems():\n",
      "/scratch/lsftmp/4730525.tmpdir/ipykernel_351964/2080076220.py:19: FutureWarning: iteritems is deprecated and will be removed in a future version. Use .items instead.\n",
      "  for item in df.iteritems():\n",
      "/scratch/lsftmp/4730525.tmpdir/ipykernel_351964/2080076220.py:19: FutureWarning: iteritems is deprecated and will be removed in a future version. Use .items instead.\n",
      "  for item in df.iteritems():\n",
      "/scratch/lsftmp/4730525.tmpdir/ipykernel_351964/2080076220.py:19: FutureWarning: iteritems is deprecated and will be removed in a future version. Use .items instead.\n",
      "  for item in df.iteritems():\n",
      "/scratch/lsftmp/4730525.tmpdir/ipykernel_351964/2080076220.py:19: FutureWarning: iteritems is deprecated and will be removed in a future version. Use .items instead.\n",
      "  for item in df.iteritems():\n",
      "/scratch/lsftmp/4730525.tmpdir/ipykernel_351964/2080076220.py:19: FutureWarning: iteritems is deprecated and will be removed in a future version. Use .items instead.\n",
      "  for item in df.iteritems():\n",
      "/scratch/lsftmp/4730525.tmpdir/ipykernel_351964/2080076220.py:19: FutureWarning: iteritems is deprecated and will be removed in a future version. Use .items instead.\n",
      "  for item in df.iteritems():\n",
      "/scratch/lsftmp/4730525.tmpdir/ipykernel_351964/2080076220.py:19: FutureWarning: iteritems is deprecated and will be removed in a future version. Use .items instead.\n",
      "  for item in df.iteritems():\n",
      "/scratch/lsftmp/4730525.tmpdir/ipykernel_351964/2080076220.py:19: FutureWarning: iteritems is deprecated and will be removed in a future version. Use .items instead.\n",
      "  for item in df.iteritems():\n",
      "/scratch/lsftmp/4730525.tmpdir/ipykernel_351964/2080076220.py:19: FutureWarning: iteritems is deprecated and will be removed in a future version. Use .items instead.\n",
      "  for item in df.iteritems():\n",
      "/scratch/lsftmp/4730525.tmpdir/ipykernel_351964/2080076220.py:19: FutureWarning: iteritems is deprecated and will be removed in a future version. Use .items instead.\n",
      "  for item in df.iteritems():\n",
      "/scratch/lsftmp/4730525.tmpdir/ipykernel_351964/2080076220.py:19: FutureWarning: iteritems is deprecated and will be removed in a future version. Use .items instead.\n",
      "  for item in df.iteritems():\n",
      "/scratch/lsftmp/4730525.tmpdir/ipykernel_351964/2080076220.py:19: FutureWarning: iteritems is deprecated and will be removed in a future version. Use .items instead.\n",
      "  for item in df.iteritems():\n",
      "/scratch/lsftmp/4730525.tmpdir/ipykernel_351964/2080076220.py:19: FutureWarning: iteritems is deprecated and will be removed in a future version. Use .items instead.\n",
      "  for item in df.iteritems():\n",
      "/scratch/lsftmp/4730525.tmpdir/ipykernel_351964/2080076220.py:19: FutureWarning: iteritems is deprecated and will be removed in a future version. Use .items instead.\n",
      "  for item in df.iteritems():\n",
      "/scratch/lsftmp/4730525.tmpdir/ipykernel_351964/2080076220.py:19: FutureWarning: iteritems is deprecated and will be removed in a future version. Use .items instead.\n",
      "  for item in df.iteritems():\n",
      "/scratch/lsftmp/4730525.tmpdir/ipykernel_351964/2080076220.py:19: FutureWarning: iteritems is deprecated and will be removed in a future version. Use .items instead.\n",
      "  for item in df.iteritems():\n",
      "/scratch/lsftmp/4730525.tmpdir/ipykernel_351964/2080076220.py:19: FutureWarning: iteritems is deprecated and will be removed in a future version. Use .items instead.\n",
      "  for item in df.iteritems():\n",
      "/scratch/lsftmp/4730525.tmpdir/ipykernel_351964/2080076220.py:19: FutureWarning: iteritems is deprecated and will be removed in a future version. Use .items instead.\n",
      "  for item in df.iteritems():\n",
      "/scratch/lsftmp/4730525.tmpdir/ipykernel_351964/2080076220.py:19: FutureWarning: iteritems is deprecated and will be removed in a future version. Use .items instead.\n",
      "  for item in df.iteritems():\n",
      "/scratch/lsftmp/4730525.tmpdir/ipykernel_351964/2080076220.py:19: FutureWarning: iteritems is deprecated and will be removed in a future version. Use .items instead.\n",
      "  for item in df.iteritems():\n",
      "/scratch/lsftmp/4730525.tmpdir/ipykernel_351964/2080076220.py:19: FutureWarning: iteritems is deprecated and will be removed in a future version. Use .items instead.\n",
      "  for item in df.iteritems():\n",
      "/scratch/lsftmp/4730525.tmpdir/ipykernel_351964/2080076220.py:19: FutureWarning: iteritems is deprecated and will be removed in a future version. Use .items instead.\n",
      "  for item in df.iteritems():\n",
      "/scratch/lsftmp/4730525.tmpdir/ipykernel_351964/2080076220.py:19: FutureWarning: iteritems is deprecated and will be removed in a future version. Use .items instead.\n",
      "  for item in df.iteritems():\n",
      "/scratch/lsftmp/4730525.tmpdir/ipykernel_351964/2080076220.py:19: FutureWarning: iteritems is deprecated and will be removed in a future version. Use .items instead.\n",
      "  for item in df.iteritems():\n",
      "/scratch/lsftmp/4730525.tmpdir/ipykernel_351964/2080076220.py:19: FutureWarning: iteritems is deprecated and will be removed in a future version. Use .items instead.\n",
      "  for item in df.iteritems():\n",
      "/scratch/lsftmp/4730525.tmpdir/ipykernel_351964/2080076220.py:19: FutureWarning: iteritems is deprecated and will be removed in a future version. Use .items instead.\n",
      "  for item in df.iteritems():\n",
      "/scratch/lsftmp/4730525.tmpdir/ipykernel_351964/2080076220.py:19: FutureWarning: iteritems is deprecated and will be removed in a future version. Use .items instead.\n",
      "  for item in df.iteritems():\n",
      "/scratch/lsftmp/4730525.tmpdir/ipykernel_351964/2080076220.py:19: FutureWarning: iteritems is deprecated and will be removed in a future version. Use .items instead.\n",
      "  for item in df.iteritems():\n",
      "/scratch/lsftmp/4730525.tmpdir/ipykernel_351964/2080076220.py:19: FutureWarning: iteritems is deprecated and will be removed in a future version. Use .items instead.\n",
      "  for item in df.iteritems():\n",
      "/scratch/lsftmp/4730525.tmpdir/ipykernel_351964/2080076220.py:19: FutureWarning: iteritems is deprecated and will be removed in a future version. Use .items instead.\n",
      "  for item in df.iteritems():\n",
      "/scratch/lsftmp/4730525.tmpdir/ipykernel_351964/2080076220.py:19: FutureWarning: iteritems is deprecated and will be removed in a future version. Use .items instead.\n",
      "  for item in df.iteritems():\n",
      "/scratch/lsftmp/4730525.tmpdir/ipykernel_351964/2080076220.py:19: FutureWarning: iteritems is deprecated and will be removed in a future version. Use .items instead.\n",
      "  for item in df.iteritems():\n",
      "/scratch/lsftmp/4730525.tmpdir/ipykernel_351964/2080076220.py:19: FutureWarning: iteritems is deprecated and will be removed in a future version. Use .items instead.\n",
      "  for item in df.iteritems():\n",
      "/scratch/lsftmp/4730525.tmpdir/ipykernel_351964/2080076220.py:19: FutureWarning: iteritems is deprecated and will be removed in a future version. Use .items instead.\n",
      "  for item in df.iteritems():\n",
      "/scratch/lsftmp/4730525.tmpdir/ipykernel_351964/2080076220.py:19: FutureWarning: iteritems is deprecated and will be removed in a future version. Use .items instead.\n",
      "  for item in df.iteritems():\n",
      "/scratch/lsftmp/4730525.tmpdir/ipykernel_351964/2080076220.py:19: FutureWarning: iteritems is deprecated and will be removed in a future version. Use .items instead.\n",
      "  for item in df.iteritems():\n",
      "/scratch/lsftmp/4730525.tmpdir/ipykernel_351964/2080076220.py:19: FutureWarning: iteritems is deprecated and will be removed in a future version. Use .items instead.\n",
      "  for item in df.iteritems():\n",
      "/scratch/lsftmp/4730525.tmpdir/ipykernel_351964/2080076220.py:19: FutureWarning: iteritems is deprecated and will be removed in a future version. Use .items instead.\n",
      "  for item in df.iteritems():\n",
      "/scratch/lsftmp/4730525.tmpdir/ipykernel_351964/2080076220.py:19: FutureWarning: iteritems is deprecated and will be removed in a future version. Use .items instead.\n",
      "  for item in df.iteritems():\n",
      "/scratch/lsftmp/4730525.tmpdir/ipykernel_351964/2080076220.py:19: FutureWarning: iteritems is deprecated and will be removed in a future version. Use .items instead.\n",
      "  for item in df.iteritems():\n",
      "/scratch/lsftmp/4730525.tmpdir/ipykernel_351964/2080076220.py:19: FutureWarning: iteritems is deprecated and will be removed in a future version. Use .items instead.\n",
      "  for item in df.iteritems():\n",
      "/scratch/lsftmp/4730525.tmpdir/ipykernel_351964/2080076220.py:19: FutureWarning: iteritems is deprecated and will be removed in a future version. Use .items instead.\n",
      "  for item in df.iteritems():\n",
      "/scratch/lsftmp/4730525.tmpdir/ipykernel_351964/2080076220.py:19: FutureWarning: iteritems is deprecated and will be removed in a future version. Use .items instead.\n",
      "  for item in df.iteritems():\n",
      "/scratch/lsftmp/4730525.tmpdir/ipykernel_351964/2080076220.py:19: FutureWarning: iteritems is deprecated and will be removed in a future version. Use .items instead.\n",
      "  for item in df.iteritems():\n",
      "/scratch/lsftmp/4730525.tmpdir/ipykernel_351964/2080076220.py:19: FutureWarning: iteritems is deprecated and will be removed in a future version. Use .items instead.\n",
      "  for item in df.iteritems():\n",
      "/scratch/lsftmp/4730525.tmpdir/ipykernel_351964/2080076220.py:19: FutureWarning: iteritems is deprecated and will be removed in a future version. Use .items instead.\n",
      "  for item in df.iteritems():\n",
      "/scratch/lsftmp/4730525.tmpdir/ipykernel_351964/2080076220.py:19: FutureWarning: iteritems is deprecated and will be removed in a future version. Use .items instead.\n",
      "  for item in df.iteritems():\n",
      "/scratch/lsftmp/4730525.tmpdir/ipykernel_351964/2080076220.py:19: FutureWarning: iteritems is deprecated and will be removed in a future version. Use .items instead.\n",
      "  for item in df.iteritems():\n",
      "/scratch/lsftmp/4730525.tmpdir/ipykernel_351964/2080076220.py:19: FutureWarning: iteritems is deprecated and will be removed in a future version. Use .items instead.\n",
      "  for item in df.iteritems():\n",
      "/scratch/lsftmp/4730525.tmpdir/ipykernel_351964/2080076220.py:19: FutureWarning: iteritems is deprecated and will be removed in a future version. Use .items instead.\n",
      "  for item in df.iteritems():\n",
      "/scratch/lsftmp/4730525.tmpdir/ipykernel_351964/2080076220.py:19: FutureWarning: iteritems is deprecated and will be removed in a future version. Use .items instead.\n",
      "  for item in df.iteritems():\n",
      "/scratch/lsftmp/4730525.tmpdir/ipykernel_351964/2080076220.py:19: FutureWarning: iteritems is deprecated and will be removed in a future version. Use .items instead.\n",
      "  for item in df.iteritems():\n",
      "/scratch/lsftmp/4730525.tmpdir/ipykernel_351964/2080076220.py:19: FutureWarning: iteritems is deprecated and will be removed in a future version. Use .items instead.\n",
      "  for item in df.iteritems():\n",
      "/scratch/lsftmp/4730525.tmpdir/ipykernel_351964/2080076220.py:19: FutureWarning: iteritems is deprecated and will be removed in a future version. Use .items instead.\n",
      "  for item in df.iteritems():\n",
      "/scratch/lsftmp/4730525.tmpdir/ipykernel_351964/2080076220.py:19: FutureWarning: iteritems is deprecated and will be removed in a future version. Use .items instead.\n",
      "  for item in df.iteritems():\n",
      "/scratch/lsftmp/4730525.tmpdir/ipykernel_351964/2080076220.py:19: FutureWarning: iteritems is deprecated and will be removed in a future version. Use .items instead.\n",
      "  for item in df.iteritems():\n"
     ]
    }
   ],
   "source": [
    "prot_lig_countmap = dict()\n",
    "\n",
    "for prot in prot_count_fp:\n",
    "    prot_lig_countmap[prot] = make_lig_countmap(prot_count_fp[prot], lig_maps[prot])"
   ]
  },
  {
   "cell_type": "code",
   "execution_count": 26,
   "id": "4913f6d4-1293-407b-bd1d-0e8ac64108bd",
   "metadata": {},
   "outputs": [],
   "source": [
    "# Switch to traversal by ligand\n",
    "lig_prot_countmap = prot_to_lig(prot_lig_countmap)"
   ]
  },
  {
   "cell_type": "code",
   "execution_count": 27,
   "id": "b349ea08-2d65-4e62-ad18-f307f19a1a1f",
   "metadata": {},
   "outputs": [
    {
     "data": {
      "text/html": [
       "<div>\n",
       "<style scoped>\n",
       "    .dataframe tbody tr th:only-of-type {\n",
       "        vertical-align: middle;\n",
       "    }\n",
       "\n",
       "    .dataframe tbody tr th {\n",
       "        vertical-align: top;\n",
       "    }\n",
       "\n",
       "    .dataframe thead th {\n",
       "        text-align: right;\n",
       "    }\n",
       "</style>\n",
       "<table border=\"1\" class=\"dataframe\">\n",
       "  <thead>\n",
       "    <tr style=\"text-align: right;\">\n",
       "      <th></th>\n",
       "      <th>lig_18</th>\n",
       "      <th>lig_24</th>\n",
       "      <th>lig_7</th>\n",
       "      <th>lig_101</th>\n",
       "      <th>lig_9</th>\n",
       "      <th>lig_50</th>\n",
       "      <th>lig_8</th>\n",
       "      <th>lig_35</th>\n",
       "      <th>lig_34</th>\n",
       "      <th>lig_39</th>\n",
       "      <th>...</th>\n",
       "      <th>lig_60</th>\n",
       "      <th>lig_45</th>\n",
       "      <th>lig_17</th>\n",
       "      <th>lig_11</th>\n",
       "      <th>lig_81</th>\n",
       "      <th>lig_26</th>\n",
       "      <th>lig_49</th>\n",
       "      <th>lig_16</th>\n",
       "      <th>lig_12</th>\n",
       "      <th>lig_28</th>\n",
       "    </tr>\n",
       "  </thead>\n",
       "  <tbody>\n",
       "    <tr>\n",
       "      <th>orig</th>\n",
       "      <td>0.000000</td>\n",
       "      <td>0.0</td>\n",
       "      <td>0.0</td>\n",
       "      <td>0.000000</td>\n",
       "      <td>0.000000</td>\n",
       "      <td>0.0</td>\n",
       "      <td>0.000000</td>\n",
       "      <td>0.0</td>\n",
       "      <td>0.0</td>\n",
       "      <td>0.0</td>\n",
       "      <td>...</td>\n",
       "      <td>0.0</td>\n",
       "      <td>0.000000</td>\n",
       "      <td>0.0</td>\n",
       "      <td>0.0</td>\n",
       "      <td>0.0</td>\n",
       "      <td>0.00</td>\n",
       "      <td>0.0</td>\n",
       "      <td>0.000000</td>\n",
       "      <td>0.000000</td>\n",
       "      <td>0.0</td>\n",
       "    </tr>\n",
       "    <tr>\n",
       "      <th>NP_722463.1</th>\n",
       "      <td>0.666667</td>\n",
       "      <td>1.0</td>\n",
       "      <td>1.0</td>\n",
       "      <td>0.666667</td>\n",
       "      <td>0.333333</td>\n",
       "      <td>1.0</td>\n",
       "      <td>0.333333</td>\n",
       "      <td>0.5</td>\n",
       "      <td>1.0</td>\n",
       "      <td>1.0</td>\n",
       "      <td>...</td>\n",
       "      <td>1.0</td>\n",
       "      <td>0.750000</td>\n",
       "      <td>1.0</td>\n",
       "      <td>0.5</td>\n",
       "      <td>1.0</td>\n",
       "      <td>0.75</td>\n",
       "      <td>1.0</td>\n",
       "      <td>0.666667</td>\n",
       "      <td>0.666667</td>\n",
       "      <td>1.0</td>\n",
       "    </tr>\n",
       "    <tr>\n",
       "      <th>NP_739587.2</th>\n",
       "      <td>0.500000</td>\n",
       "      <td>1.0</td>\n",
       "      <td>1.0</td>\n",
       "      <td>0.666667</td>\n",
       "      <td>NaN</td>\n",
       "      <td>1.0</td>\n",
       "      <td>0.666667</td>\n",
       "      <td>1.0</td>\n",
       "      <td>0.5</td>\n",
       "      <td>1.0</td>\n",
       "      <td>...</td>\n",
       "      <td>1.0</td>\n",
       "      <td>0.750000</td>\n",
       "      <td>1.0</td>\n",
       "      <td>1.0</td>\n",
       "      <td>1.0</td>\n",
       "      <td>1.00</td>\n",
       "      <td>1.0</td>\n",
       "      <td>0.666667</td>\n",
       "      <td>0.666667</td>\n",
       "      <td>1.0</td>\n",
       "    </tr>\n",
       "    <tr>\n",
       "      <th>YP_001527884.1</th>\n",
       "      <td>1.000000</td>\n",
       "      <td>1.0</td>\n",
       "      <td>1.0</td>\n",
       "      <td>0.666667</td>\n",
       "      <td>0.666667</td>\n",
       "      <td>1.0</td>\n",
       "      <td>0.666667</td>\n",
       "      <td>1.0</td>\n",
       "      <td>1.0</td>\n",
       "      <td>1.0</td>\n",
       "      <td>...</td>\n",
       "      <td>1.0</td>\n",
       "      <td>0.666667</td>\n",
       "      <td>1.0</td>\n",
       "      <td>0.5</td>\n",
       "      <td>1.0</td>\n",
       "      <td>1.00</td>\n",
       "      <td>1.0</td>\n",
       "      <td>1.000000</td>\n",
       "      <td>0.666667</td>\n",
       "      <td>1.0</td>\n",
       "    </tr>\n",
       "    <tr>\n",
       "      <th>NP_740321.1</th>\n",
       "      <td>1.000000</td>\n",
       "      <td>1.0</td>\n",
       "      <td>1.0</td>\n",
       "      <td>0.666667</td>\n",
       "      <td>0.666667</td>\n",
       "      <td>1.0</td>\n",
       "      <td>0.666667</td>\n",
       "      <td>1.0</td>\n",
       "      <td>1.0</td>\n",
       "      <td>0.5</td>\n",
       "      <td>...</td>\n",
       "      <td>1.0</td>\n",
       "      <td>0.750000</td>\n",
       "      <td>1.0</td>\n",
       "      <td>0.5</td>\n",
       "      <td>0.5</td>\n",
       "      <td>0.50</td>\n",
       "      <td>1.0</td>\n",
       "      <td>0.666667</td>\n",
       "      <td>0.666667</td>\n",
       "      <td>0.5</td>\n",
       "    </tr>\n",
       "    <tr>\n",
       "      <th>YP_001531172.2</th>\n",
       "      <td>1.000000</td>\n",
       "      <td>1.0</td>\n",
       "      <td>1.0</td>\n",
       "      <td>0.666667</td>\n",
       "      <td>0.666667</td>\n",
       "      <td>1.0</td>\n",
       "      <td>0.666667</td>\n",
       "      <td>1.0</td>\n",
       "      <td>1.0</td>\n",
       "      <td>0.5</td>\n",
       "      <td>...</td>\n",
       "      <td>1.0</td>\n",
       "      <td>0.750000</td>\n",
       "      <td>1.0</td>\n",
       "      <td>1.0</td>\n",
       "      <td>0.5</td>\n",
       "      <td>0.75</td>\n",
       "      <td>1.0</td>\n",
       "      <td>0.666667</td>\n",
       "      <td>0.666667</td>\n",
       "      <td>1.0</td>\n",
       "    </tr>\n",
       "    <tr>\n",
       "      <th>YP_001621843.1</th>\n",
       "      <td>NaN</td>\n",
       "      <td>NaN</td>\n",
       "      <td>NaN</td>\n",
       "      <td>NaN</td>\n",
       "      <td>0.333333</td>\n",
       "      <td>NaN</td>\n",
       "      <td>NaN</td>\n",
       "      <td>NaN</td>\n",
       "      <td>NaN</td>\n",
       "      <td>NaN</td>\n",
       "      <td>...</td>\n",
       "      <td>NaN</td>\n",
       "      <td>NaN</td>\n",
       "      <td>NaN</td>\n",
       "      <td>NaN</td>\n",
       "      <td>NaN</td>\n",
       "      <td>NaN</td>\n",
       "      <td>NaN</td>\n",
       "      <td>NaN</td>\n",
       "      <td>NaN</td>\n",
       "      <td>NaN</td>\n",
       "    </tr>\n",
       "  </tbody>\n",
       "</table>\n",
       "<p>7 rows × 55 columns</p>\n",
       "</div>"
      ],
      "text/plain": [
       "                  lig_18  lig_24  lig_7   lig_101     lig_9  lig_50     lig_8  \\\n",
       "orig            0.000000     0.0    0.0  0.000000  0.000000     0.0  0.000000   \n",
       "NP_722463.1     0.666667     1.0    1.0  0.666667  0.333333     1.0  0.333333   \n",
       "NP_739587.2     0.500000     1.0    1.0  0.666667       NaN     1.0  0.666667   \n",
       "YP_001527884.1  1.000000     1.0    1.0  0.666667  0.666667     1.0  0.666667   \n",
       "NP_740321.1     1.000000     1.0    1.0  0.666667  0.666667     1.0  0.666667   \n",
       "YP_001531172.2  1.000000     1.0    1.0  0.666667  0.666667     1.0  0.666667   \n",
       "YP_001621843.1       NaN     NaN    NaN       NaN  0.333333     NaN       NaN   \n",
       "\n",
       "                lig_35  lig_34  lig_39  ...  lig_60    lig_45  lig_17  lig_11  \\\n",
       "orig               0.0     0.0     0.0  ...     0.0  0.000000     0.0     0.0   \n",
       "NP_722463.1        0.5     1.0     1.0  ...     1.0  0.750000     1.0     0.5   \n",
       "NP_739587.2        1.0     0.5     1.0  ...     1.0  0.750000     1.0     1.0   \n",
       "YP_001527884.1     1.0     1.0     1.0  ...     1.0  0.666667     1.0     0.5   \n",
       "NP_740321.1        1.0     1.0     0.5  ...     1.0  0.750000     1.0     0.5   \n",
       "YP_001531172.2     1.0     1.0     0.5  ...     1.0  0.750000     1.0     1.0   \n",
       "YP_001621843.1     NaN     NaN     NaN  ...     NaN       NaN     NaN     NaN   \n",
       "\n",
       "                lig_81  lig_26  lig_49    lig_16    lig_12  lig_28  \n",
       "orig               0.0    0.00     0.0  0.000000  0.000000     0.0  \n",
       "NP_722463.1        1.0    0.75     1.0  0.666667  0.666667     1.0  \n",
       "NP_739587.2        1.0    1.00     1.0  0.666667  0.666667     1.0  \n",
       "YP_001527884.1     1.0    1.00     1.0  1.000000  0.666667     1.0  \n",
       "NP_740321.1        0.5    0.50     1.0  0.666667  0.666667     0.5  \n",
       "YP_001531172.2     0.5    0.75     1.0  0.666667  0.666667     1.0  \n",
       "YP_001621843.1     NaN     NaN     NaN       NaN       NaN     NaN  \n",
       "\n",
       "[7 rows x 55 columns]"
      ]
     },
     "execution_count": 27,
     "metadata": {},
     "output_type": "execute_result"
    }
   ],
   "source": [
    "lig_dist_jaccard = get_jaccard_distance(lig_prot_countmap)\n",
    "df_jaccard_countmap = pds.DataFrame(lig_dist_jaccard)\n",
    "df_jaccard_countmap"
   ]
  },
  {
   "cell_type": "code",
   "execution_count": 28,
   "id": "bec09c7b-7db4-4509-b38f-85ffb5b079af",
   "metadata": {},
   "outputs": [],
   "source": [
    "# Calculate mean, mode, and median of jaccard index value of ligand bitmap\n",
    "countmap_mean = df_jaccard_countmap.mean(axis=0)\n",
    "countmap_mode = df_jaccard_countmap.mode(axis=0)\n",
    "countmap_median = df_jaccard_countmap.median(axis=0)"
   ]
  },
  {
   "cell_type": "code",
   "execution_count": 29,
   "id": "b5013a86-2fa0-4043-bc94-41aed0891089",
   "metadata": {},
   "outputs": [],
   "source": [
    "df_countmap_plot = pds.concat([countmap_mean, countmap_median], axis=1)\n",
    "df_countmap_plot.columns = ['Mean', 'Median']"
   ]
  },
  {
   "cell_type": "code",
   "execution_count": 30,
   "id": "24174009-e616-42d8-a6be-e7e13b00d732",
   "metadata": {},
   "outputs": [
    {
     "data": {
      "image/png": "[encoded data removed]",
      "text/plain": [
       "<Figure size 1500x1000 with 1 Axes>"
      ]
     },
     "metadata": {},
     "output_type": "display_data"
    }
   ],
   "source": [
    "ax = df_countmap_plot.plot.bar(figsize=(15,10))\n",
    "fig = ax.get_figure()\n",
    "fig.savefig(fig_path/'countmap_prolif.png')"
   ]
  },
  {
   "cell_type": "markdown",
   "id": "55204b47-679f-4c6a-aec8-36894cb05581",
   "metadata": {},
   "source": [
    "# TODO: "
   ]
  },
  {
   "cell_type": "markdown",
   "id": "f4e69a9d-a6b7-48c5-8495-2d75c724059a",
   "metadata": {},
   "source": [
    "## 1. Watch for \n",
    "- ligands without interactions\n",
    "- ligands that have the same type of interaction but different residues"
   ]
  },
  {
   "cell_type": "code",
   "execution_count": null,
   "id": "c1e656c8-338c-404d-9bf1-7c0562b375a8",
   "metadata": {},
   "outputs": [],
   "source": []
  },
  {
   "cell_type": "markdown",
   "id": "36b5e1ad-b765-49fe-8364-16827fa817e0",
   "metadata": {},
   "source": [
    "# Troubleshoot TODO:\n",
    "## Pi-stacking\n",
    "do a case study thing and show them side by side to see if they are where they should be\n",
    "(lig_95)"
   ]
  },
  {
   "cell_type": "code",
   "execution_count": 30,
   "id": "863ca4ff-3ece-4018-bcce-16b97b73a2f4",
   "metadata": {},
   "outputs": [
    {
     "name": "stdout",
     "output_type": "stream",
     "text": [
      "No PiStacking Found\n",
      "No PiStacking Found\n",
      "No PiStacking Found\n",
      "No PiStacking Found\n",
      "No PiStacking Found\n",
      "No PiStacking Found\n",
      "No PiStacking Found\n"
     ]
    }
   ],
   "source": [
    "for prot in prot_fp:\n",
    "    df = prot_fp[prot].to_dataframe().T\n",
    "    try:\n",
    "        df.xs(\"PiStacking\", level=\"interaction\", axis=1)\n",
    "    except TypeError:\n",
    "        print('No PiStacking Found')"
   ]
  },
  {
   "cell_type": "code",
   "execution_count": null,
   "id": "2cd3ec4f-0671-437b-8be1-1c1fa58565af",
   "metadata": {},
   "outputs": [],
   "source": []
  }
 ],
 "metadata": {
  "kernelspec": {
   "display_name": "Python [conda env:prolif]",
   "language": "python",
   "name": "conda-env-prolif-py"
  },
  "language_info": {
   "codemirror_mode": {
    "name": "ipython",
    "version": 3
   },
   "file_extension": ".py",
   "mimetype": "text/x-python",
   "name": "python",
   "nbconvert_exporter": "python",
   "pygments_lexer": "ipython3",
   "version": "3.10.14"
  }
 },
 "nbformat": 4,
 "nbformat_minor": 5
}
