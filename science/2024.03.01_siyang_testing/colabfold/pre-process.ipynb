{
 "cells": [
  {
   "cell_type": "code",
   "execution_count": 1,
   "id": "48c45843-9b34-4310-bea5-3eeba0e45b1f",
   "metadata": {},
   "outputs": [],
   "source": [
    "from asapdiscovery.data.backend.openeye import load_openeye_pdb, load_openeye_sdf,combine_protein_ligand, save_openeye_pdb\n",
    "from asapdiscovery.modeling.modeling import superpose_molecule\n",
    "from openeye import oechem\n",
    "from pymol import cmd\n",
    "from pathlib import Path\n",
    "import os\n",
    "import re\n",
    "from rdkit import DataStructs\n",
    "import numpy as np"
   ]
  },
  {
   "cell_type": "markdown",
   "id": "24a13c0e-7a4d-435d-8e89-bfbf74670690",
   "metadata": {},
   "source": [
    "## Load in all the generated structures"
   ]
  },
  {
   "cell_type": "code",
   "execution_count": 2,
   "id": "e6c06f4b-aafc-436a-b35b-34b10a8b840b",
   "metadata": {},
   "outputs": [],
   "source": [
    "results_folder = Path(\"/home/pengs/fold_zika/results/\")"
   ]
  },
  {
   "cell_type": "code",
   "execution_count": 3,
   "id": "22c70ad9-a9de-4665-b951-f10d94ad1c46",
   "metadata": {},
   "outputs": [],
   "source": [
    "# Function to find all pdb files in a directory\n",
    "def find_pdb_files(folder_path):\n",
    "    pdb_files = []\n",
    "    for root, dirs, files in os.walk(folder_path):\n",
    "        for file in files:\n",
    "            if file.endswith(\".pdb\"):\n",
    "                pdb_files.append(os.path.join(root, file))\n",
    "    return pdb_files\n"
   ]
  },
  {
   "cell_type": "code",
   "execution_count": 4,
   "id": "b50f4151-0099-433d-9a64-11492d8d2ad8",
   "metadata": {},
   "outputs": [],
   "source": [
    "pdb_files = find_pdb_files(results_folder)"
   ]
  },
  {
   "cell_type": "markdown",
   "id": "62c97f88-4c67-453e-908c-657831d2ddbc",
   "metadata": {},
   "source": [
    "## Group the ligands based on the sequence input"
   ]
  },
  {
   "cell_type": "code",
   "execution_count": 5,
   "id": "59bc3836-19f4-4daf-85fe-15511fdc5bd5",
   "metadata": {},
   "outputs": [],
   "source": [
    "def find_name_in_file(pattern, path):\n",
    "    # Use re.search to find the pattern in the path\n",
    "    match = re.search(pattern, path)\n",
    "    \n",
    "    # Check if there is a match\n",
    "    if match:\n",
    "        id = match.group(1)\n",
    "        return(id)\n",
    "    else:\n",
    "        print(path)\n",
    "        print(\"No match found.\")"
   ]
  },
  {
   "cell_type": "code",
   "execution_count": 6,
   "id": "972a9b6b-f225-47b5-8d8c-f9ce8ff3ebcf",
   "metadata": {},
   "outputs": [],
   "source": [
    "# Dictionary with the input sequence id as key and the different generated structures as values\n",
    "sequence_folds = dict()\n",
    "pattern = r'results/(.+\\.\\d)_\\d+'\n",
    "\n",
    "for pdb in pdb_files:\n",
    "    sequence = find_name_in_file(pattern, pdb)\n",
    "    if sequence: \n",
    "        if sequence in sequence_folds:\n",
    "            sequence_folds[sequence].append(pdb)\n",
    "        else:\n",
    "            sequence_folds[sequence] = [pdb]"
   ]
  },
  {
   "cell_type": "markdown",
   "id": "06736419-bb85-4fe1-8a71-fbfb2dc882b7",
   "metadata": {},
   "source": [
    "## Align folded structures to template structure and retain the one with lowest RMSD\n",
    "https://github.com/choderalab/asapdiscovery/blob/main/asapdiscovery-modeling/asapdiscovery/modeling/modeling.py#L225-L243"
   ]
  },
  {
   "cell_type": "code",
   "execution_count": 7,
   "id": "45c925b7-1f79-4be9-ae20-f7c9feaabeef",
   "metadata": {},
   "outputs": [],
   "source": [
    "# template = path to template file\n",
    "# results = list of paths to the results\n",
    "# Return the new aligned molecule (OEGraphMol) and lowest rmsd\n",
    "def find_pdb_low_rmsd(ref, results):\n",
    "    lowest = 100\n",
    "    the_pdb = ''\n",
    "    best_fit = ''\n",
    "    # Iterate through the different structures generated and calculate RMSD\n",
    "    for pdb_file in results:\n",
    "        fit = load_openeye_pdb(pdb_file)\n",
    "        # Will save best aligned openeye molecule\n",
    "        align = superpose_molecule(ref,fit, ref_chain = 'B')[0]\n",
    "        rmsd = superpose_molecule(ref,fit, ref_chain = 'B')[1]\n",
    "        if rmsd < lowest:\n",
    "            lowest = rmsd\n",
    "            the_pdb = pdb_file\n",
    "            best_fit = align\n",
    "    # Return this in a list so better find\n",
    "    # Return the aligned structure and pdb file with the lowest rmsd value\n",
    "    return [best_fit, the_pdb, lowest]"
   ]
  },
  {
   "cell_type": "code",
   "execution_count": 8,
   "id": "6dad9309-0a60-4638-833f-7492397e3395",
   "metadata": {},
   "outputs": [],
   "source": [
    "# Load in the reference template\n",
    "template = \"/home/pengs/fold_zika/template_dir/zikv.pdb\"\n",
    "ref = load_openeye_pdb(results_folder/template)"
   ]
  },
  {
   "cell_type": "code",
   "execution_count": 9,
   "id": "8dd07c57-bdf1-4c57-8fb6-303f6d6fed1b",
   "metadata": {},
   "outputs": [],
   "source": [
    "only_prot = Path('/home/pengs/fold_zika/only_prot')"
   ]
  },
  {
   "cell_type": "code",
   "execution_count": 14,
   "id": "b991aca6-f6f1-4b40-bef4-30fd90b04543",
   "metadata": {},
   "outputs": [],
   "source": [
    "# save the best alignments and rmsd in a Dictionary\n",
    "best = dict()\n",
    "for id in sequence_folds:\n",
    "    folds = sequence_folds[id]\n",
    "    best[id] = find_pdb_low_rmsd(ref, folds)\n",
    "    # Save just the aligned protein in file in protein directory\n",
    "    prot_file = id + \".pdb\"\n",
    "    save_openeye_pdb(best[id][0], only_prot / prot_file)"
   ]
  },
  {
   "cell_type": "code",
   "execution_count": 15,
   "id": "21bc06f3-a688-4253-8e12-7d0d17e880b6",
   "metadata": {},
   "outputs": [
    {
     "data": {
      "text/plain": [
       "{'YP_001531172.2': [<oechem.OEGraphMol; proxy of <Swig Object of type 'OEGraphMolWrapper *' at 0x2b4dcf6678d0> >,\n",
       "  '/home/pengs/fold_zika/results/YP_001531172.2_24767_unrelaxed_rank_001_alphafold2_ptm_model_1_seed_24767.pdb',\n",
       "  0.8701036598468331],\n",
       " 'NP_776018.1': [<oechem.OEGraphMol; proxy of <Swig Object of type 'OEGraphMolWrapper *' at 0x2b4dcf667870> >,\n",
       "  '/home/pengs/fold_zika/results/NP_776018.1_3362_unrelaxed_rank_001_alphafold2_ptm_model_1_seed_3362.pdb',\n",
       "  0.7650077072824754],\n",
       " 'NP_740321.1': [<oechem.OEGraphMol; proxy of <Swig Object of type 'OEGraphMolWrapper *' at 0x2b4dcf667c90> >,\n",
       "  '/home/pengs/fold_zika/results/NP_740321.1_28211_unrelaxed_rank_001_alphafold2_ptm_model_1_seed_28211.pdb',\n",
       "  0.7797046423674694],\n",
       " 'NP_722463.1': [<oechem.OEGraphMol; proxy of <Swig Object of type 'OEGraphMolWrapper *' at 0x2b4dcf6679c0> >,\n",
       "  '/home/pengs/fold_zika/results/NP_722463.1_23188_unrelaxed_rank_001_alphafold2_ptm_model_1_seed_23188.pdb',\n",
       "  0.7798746246757736],\n",
       " 'YP_001527884.1': [<oechem.OEGraphMol; proxy of <Swig Object of type 'OEGraphMolWrapper *' at 0x2b4dcf667900> >,\n",
       "  '/home/pengs/fold_zika/results/YP_001527884.1_23188_unrelaxed_rank_001_alphafold2_ptm_model_1_seed_23188.pdb',\n",
       "  0.7478611317486473],\n",
       " 'YP_001621843.1': [<oechem.OEGraphMol; proxy of <Swig Object of type 'OEGraphMolWrapper *' at 0x2b4dcf667d20> >,\n",
       "  '/home/pengs/fold_zika/results/YP_001621843.1_24767_unrelaxed_rank_001_alphafold2_ptm_model_1_seed_24767.pdb',\n",
       "  0.8972853013044195],\n",
       " 'NP_739587.2': [<oechem.OEGraphMol; proxy of <Swig Object of type 'OEGraphMolWrapper *' at 0x2b4dcf667bd0> >,\n",
       "  '/home/pengs/fold_zika/results/NP_739587.2_23188_unrelaxed_rank_001_alphafold2_ptm_model_1_seed_23188.pdb',\n",
       "  0.8690424767854978]}"
      ]
     },
     "execution_count": 15,
     "metadata": {},
     "output_type": "execute_result"
    }
   ],
   "source": [
    "best"
   ]
  },
  {
   "cell_type": "markdown",
   "id": "991a8600-3b60-4b97-a430-200af5e108ef",
   "metadata": {},
   "source": [
    "## Plot out the RMSD values\n",
    "Of the C alpha "
   ]
  },
  {
   "cell_type": "code",
   "execution_count": 16,
   "id": "77d072fb-7fc4-4fec-a3c7-5015d63fd7a5",
   "metadata": {},
   "outputs": [],
   "source": [
    "# importing matplotlib module \n",
    "from matplotlib import pyplot as plt"
   ]
  },
  {
   "cell_type": "code",
   "execution_count": 19,
   "id": "a246bb69-a035-497f-aad4-aacfd39c3f18",
   "metadata": {},
   "outputs": [
    {
     "data": {
      "image/png": "[encoded data removed]",
      "text/plain": [
       "<Figure size 640x480 with 1 Axes>"
      ]
     },
     "metadata": {},
     "output_type": "display_data"
    }
   ],
   "source": [
    "# https://www.geeksforgeeks.org/python-introduction-matplotlib/\n",
    "# x-axis values\n",
    "x = [] \n",
    "# Y-axis values\n",
    "y = []\n",
    "# Generate the x and y values\n",
    "for id in best:\n",
    "    # Fill x with the protein id being folded (id of sequence)\n",
    "    x.append(id)\n",
    "    # Fill y with rmsd value\n",
    "    y.append(best[id][2])\n",
    " \n",
    "# Function to plot scatter using plot() method\n",
    "plt.xticks(rotation=45)\n",
    "plt.plot(x, y, 'o')\n",
    "\n",
    "# Save the plot\n",
    "plt.savefig('1chain_YP0016.png')\n",
    "# function to show the plot\n",
    "plt.show()"
   ]
  },
  {
   "cell_type": "markdown",
   "id": "c1eb3b86-5a93-4426-836d-95d62acef501",
   "metadata": {},
   "source": [
    "## Put the fragments back in the same pose to the generated structures"
   ]
  },
  {
   "cell_type": "code",
   "execution_count": 22,
   "id": "23acfde2-59ff-462a-9586-5961c8968815",
   "metadata": {},
   "outputs": [],
   "source": [
    "# Path to the fragments\n",
    "frags_directory = Path(\"/home/pengs/fold_zika/lig_sdfs/\")\n",
    "combine_directory = Path(\"/home/pengs/fold_zika/combined/\")"
   ]
  },
  {
   "cell_type": "code",
   "execution_count": 25,
   "id": "030dee98-2ba5-4ef6-9a21-960b46149e72",
   "metadata": {},
   "outputs": [],
   "source": [
    "lig_pattern = r'(lig_\\d+)\\.sdf'\n",
    "\n",
    "for seq in best:\n",
    "    # Load in the aligned OEMol protein\n",
    "    prot = best[seq][0]\n",
    "    # Make a new directory to store all the newly posed fragments in the new protein\n",
    "    os.mkdir(combine_directory/seq)\n",
    "    \n",
    "    # Read in the fragments in the file\n",
    "    for root, dirs, files in os.walk(frags_directory):\n",
    "        for fragment in files:\n",
    "            # Find the name of the ligand\n",
    "            match = re.match(lig_pattern, fragment)\n",
    "            lig_name = match.group(1)\n",
    "            # Load in the fragment as OE object\n",
    "            lig = load_openeye_sdf(frags_directory/fragment)\n",
    "            lig_protein = combine_protein_ligand(prot, lig)\n",
    "            # Save in file in new directory\n",
    "            output_file = seq + \"_\" + lig_name + \".pdb\"\n",
    "            save_openeye_pdb(lig_protein, combine_directory / seq / output_file)"
   ]
  },
  {
   "cell_type": "markdown",
   "id": "072e84f0-6bda-4c86-8b13-c1fee261339e",
   "metadata": {},
   "source": [
    "## Add hydrogen and separate the protein and ligand\n",
    "\n",
    "command line run within asapdiscovery environmet: \n",
    "asap-prep protein-prep --target ZIKV-NS2B-NS3pro --pdb-file NP_722463.1_lig_5.pdb --output-dir prepped_test --align NP_722463.1_lig_5.pdb --use-dask"
   ]
  },
  {
   "cell_type": "markdown",
   "id": "3bfbe78e-bb47-4f45-b6e8-135fd1673f11",
   "metadata": {},
   "source": [
    "## Loop through generated combinatory files and generate structure for each"
   ]
  },
  {
   "cell_type": "code",
   "execution_count": 11,
   "id": "4a799444-de3a-4faa-9f60-422bdb5f8073",
   "metadata": {},
   "outputs": [],
   "source": [
    "# Return a list of all the files\n",
    "def traverse_files(directory):\n",
    "    all_files = []\n",
    "    # Traverse files within a directory\n",
    "    for root, dirs, files in os.walk(directory):\n",
    "        for file in files:\n",
    "            all_files.append(file)\n",
    "    return all_files"
   ]
  },
  {
   "cell_type": "markdown",
   "id": "2dfa4d0c-3c52-44d7-8419-eb17b2c97c0e",
   "metadata": {},
   "source": [
    "### Dumbest process of just writing out all the commands for all the generated pdb structures for prepping\n",
    "### Does not prep all the files, are trying other methods for those that does not prep"
   ]
  },
  {
   "cell_type": "code",
   "execution_count": 14,
   "id": "da37ec9f-f485-4206-9215-ba2450d89270",
   "metadata": {},
   "outputs": [],
   "source": [
    "command = 'asap-prep protein-prep --target ZIKV-NS2B-NS3pro'\n",
    "file_command = ' --pdb-file'\n",
    "output_command = ' --output-dir'\n",
    "align_command = ' --align'\n",
    "folder = ' /home/pengs/fold_zika/combined/'\n",
    "append = ' --ref-chain B --active-site-chain B --use-dask'\n",
    "\n",
    "# Get all the different commands into a single file since somehow only works when submit individually\n",
    "run_file = Path(\"/home/pengs/fold_zika/\")\n",
    "with open(run_file/'prep_files.sh','w') as f:\n",
    "    f.write('#!/bin/bash\\n')\n",
    "    f.write('\\n')\n",
    "    for seq in best:\n",
    "        directory_path = os.path.join(combine_directory, seq)\n",
    "        path = ' ' + directory_path + '/'\n",
    "        files = traverse_files(directory_path)\n",
    "        for file in files:\n",
    "            name = find_name_in_file(r'(.+)\\.pdb', file)\n",
    "            path = folder + seq + '/'\n",
    "            # Save each prepped protein-ligand folder in a protein file outside current folder\n",
    "            # But keep within total working directory\n",
    "            output_path = folder + seq + '_prepped/'\n",
    "            output_dir = name\n",
    "            # command for running preparation\n",
    "            cmd = command + file_command + path + file + output_command + output_path + output_dir\n",
    "            cmd += align_command + path + file + append + '\\n'\n",
    "            f.write(cmd)\n",
    "        "
   ]
  },
  {
   "cell_type": "markdown",
   "id": "9386f282-7536-4128-9aca-ed0c990c2e05",
   "metadata": {},
   "source": [
    "## Make directory files to put each of the prepared structure into"
   ]
  },
  {
   "cell_type": "code",
   "execution_count": 45,
   "id": "0134585e-056a-4e42-8301-5c43bb65a33d",
   "metadata": {},
   "outputs": [],
   "source": [
    "for seq in best:\n",
    "    prepped_dir = seq + \"_prepped\"\n",
    "    directory_path = os.path.join(combine_directory, prepped_dir)\n",
    "    os.mkdir(directory_path)"
   ]
  },
  {
   "cell_type": "code",
   "execution_count": null,
   "id": "d450d435-d311-460a-a751-d2519579ed20",
   "metadata": {},
   "outputs": [],
   "source": []
  },
  {
   "cell_type": "code",
   "execution_count": null,
   "id": "7a295e07-2c4c-4d3c-ad1d-91812a30156c",
   "metadata": {},
   "outputs": [],
   "source": []
  },
  {
   "cell_type": "code",
   "execution_count": null,
   "id": "832c6377-b8e4-4743-8bd6-14c844160075",
   "metadata": {},
   "outputs": [],
   "source": []
  },
  {
   "cell_type": "code",
   "execution_count": null,
   "id": "9152aa22-8842-46f6-ace2-6d36dc0e5ba6",
   "metadata": {},
   "outputs": [],
   "source": []
  }
 ],
 "metadata": {
  "kernelspec": {
   "display_name": "Python 3 (ipykernel)",
   "language": "python",
   "name": "python3"
  },
  "language_info": {
   "codemirror_mode": {
    "name": "ipython",
    "version": 3
   },
   "file_extension": ".py",
   "mimetype": "text/x-python",
   "name": "python",
   "nbconvert_exporter": "python",
   "pygments_lexer": "ipython3",
   "version": "3.10.14"
  }
 },
 "nbformat": 4,
 "nbformat_minor": 5
}
